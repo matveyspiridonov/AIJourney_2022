{
 "cells": [
  {
   "cell_type": "markdown",
   "id": "fe21452b",
   "metadata": {
    "pycharm": {
     "name": "#%% md\n"
    }
   },
   "source": [
    "# <center> Импорт библоиотек <center>"
   ]
  },
  {
   "cell_type": "markdown",
   "id": "963b7ecb",
   "metadata": {
    "pycharm": {
     "name": "#%% md\n"
    }
   },
   "source": [
    "*NOTE*: не забудьте соствить список библиотек, необходимых для реализации ваших решений, и представить их в файле `requirements.txt`."
   ]
  },
  {
   "cell_type": "code",
   "execution_count": 1,
   "id": "e689b078",
   "metadata": {
    "pycharm": {
     "name": "#%%\n"
    }
   },
   "outputs": [],
   "source": [
    "import pickle\n",
    "import random\n",
    "import json\n",
    "import pandas as pd\n",
    "import numpy as np\n",
    "\n",
    "import seaborn as sns\n",
    "import matplotlib.pyplot as plt\n",
    "\n",
    "from sklearn.pipeline import make_pipeline\n",
    "from sklearn.preprocessing import StandardScaler\n",
    "from sklearn.svm import SVC\n",
    "from sklearn.metrics import f1_score , accuracy_score"
   ]
  },
  {
   "cell_type": "markdown",
   "id": "88a0c54e",
   "metadata": {
    "pycharm": {
     "name": "#%% md\n"
    }
   },
   "source": [
    "# <center> Чтение данных <center>"
   ]
  },
  {
   "cell_type": "markdown",
   "id": "c6628f04",
   "metadata": {
    "pycharm": {
     "name": "#%% md\n"
    }
   },
   "source": [
    "Тренировчные данные представлены в виде файла в формате JSON. В котором верхенеуровневый ключ -- это номер образца (бакетрии). Каждый словарь по бактериям содержит название штамма и результаты масс-спектрометрического анализа, которые представлены следующими полями: масса к заряду (m/z), время (time), интенсивность пика (Intens.), разрешение (Res.), площадь пика (Area), относительная интенсивность (Rel. Intens.), ширина на полувысоте (FWHM=full width at half-maximum intensity). Каждый штамм будет представлен несколькими бактериями."
   ]
  },
  {
   "cell_type": "code",
   "execution_count": 2,
   "id": "5088ded8",
   "metadata": {
    "pycharm": {
     "name": "#%%\n"
    }
   },
   "outputs": [],
   "source": [
    "with open('train.json', 'rb') as fp:\n",
    "    train_d = json.load(fp)\n",
    "train_df = pd.DataFrame(json.loads(train_d)).T"
   ]
  },
  {
   "cell_type": "code",
   "execution_count": 3,
   "id": "4a55355a",
   "metadata": {
    "pycharm": {
     "name": "#%%\n"
    }
   },
   "outputs": [
    {
     "data": {
      "text/plain": "(256, 10)"
     },
     "execution_count": 3,
     "metadata": {},
     "output_type": "execute_result"
    }
   ],
   "source": [
    "train_df.shape"
   ]
  },
  {
   "cell_type": "code",
   "execution_count": 4,
   "id": "d3462a80",
   "metadata": {
    "pycharm": {
     "name": "#%%\n"
    }
   },
   "outputs": [
    {
     "data": {
      "text/plain": "                                 strain\nstrain                                 \nAcinetobacter baumani_121 skin        9\nAcinetobacter baumani_126             9\nAcinetobacter baumani_352 blood      10\nAcinetobacter baumani_377 blood      11\nAcinetobacter baumani_503 blood      11\nAcinetobacter baumani_63              9\nAcinetobacter baumani_64             11\nAcinetobacter baumani_73             10\nAcinetobacter baumani_74             11\nPseudomonas aeruginosa_XXX           11\nPseudomonas fluorescence_965         11\nPseudomonas spp_467                   8\nStaphilococcus aureus_1 949           8\nStaphilococcus aureus_1027 q         10\nStaphilococcus aureus_11 K817        11\nStaphilococcus aureus_12 K457        11\nStaphilococcus aureus_15             11\nStaphilococcus aureus_16              9\nStaphilococcus aureus_19 MRSA        11\nStaphilococcus aureus_3 1027          8\nStaphilococcus aureus_4 948          10\nStaphilococcus aureus_6 1006         10\nStaphilococcus aureus_7 941           9\nStaphilococcus aureus_8 942           9\nStaphilococcus aureus_9 963          10\nStaphilococcus aureus_K160            8",
      "text/html": "<div>\n<style scoped>\n    .dataframe tbody tr th:only-of-type {\n        vertical-align: middle;\n    }\n\n    .dataframe tbody tr th {\n        vertical-align: top;\n    }\n\n    .dataframe thead th {\n        text-align: right;\n    }\n</style>\n<table border=\"1\" class=\"dataframe\">\n  <thead>\n    <tr style=\"text-align: right;\">\n      <th></th>\n      <th>strain</th>\n    </tr>\n    <tr>\n      <th>strain</th>\n      <th></th>\n    </tr>\n  </thead>\n  <tbody>\n    <tr>\n      <th>Acinetobacter baumani_121 skin</th>\n      <td>9</td>\n    </tr>\n    <tr>\n      <th>Acinetobacter baumani_126</th>\n      <td>9</td>\n    </tr>\n    <tr>\n      <th>Acinetobacter baumani_352 blood</th>\n      <td>10</td>\n    </tr>\n    <tr>\n      <th>Acinetobacter baumani_377 blood</th>\n      <td>11</td>\n    </tr>\n    <tr>\n      <th>Acinetobacter baumani_503 blood</th>\n      <td>11</td>\n    </tr>\n    <tr>\n      <th>Acinetobacter baumani_63</th>\n      <td>9</td>\n    </tr>\n    <tr>\n      <th>Acinetobacter baumani_64</th>\n      <td>11</td>\n    </tr>\n    <tr>\n      <th>Acinetobacter baumani_73</th>\n      <td>10</td>\n    </tr>\n    <tr>\n      <th>Acinetobacter baumani_74</th>\n      <td>11</td>\n    </tr>\n    <tr>\n      <th>Pseudomonas aeruginosa_XXX</th>\n      <td>11</td>\n    </tr>\n    <tr>\n      <th>Pseudomonas fluorescence_965</th>\n      <td>11</td>\n    </tr>\n    <tr>\n      <th>Pseudomonas spp_467</th>\n      <td>8</td>\n    </tr>\n    <tr>\n      <th>Staphilococcus aureus_1 949</th>\n      <td>8</td>\n    </tr>\n    <tr>\n      <th>Staphilococcus aureus_1027 q</th>\n      <td>10</td>\n    </tr>\n    <tr>\n      <th>Staphilococcus aureus_11 K817</th>\n      <td>11</td>\n    </tr>\n    <tr>\n      <th>Staphilococcus aureus_12 K457</th>\n      <td>11</td>\n    </tr>\n    <tr>\n      <th>Staphilococcus aureus_15</th>\n      <td>11</td>\n    </tr>\n    <tr>\n      <th>Staphilococcus aureus_16</th>\n      <td>9</td>\n    </tr>\n    <tr>\n      <th>Staphilococcus aureus_19 MRSA</th>\n      <td>11</td>\n    </tr>\n    <tr>\n      <th>Staphilococcus aureus_3 1027</th>\n      <td>8</td>\n    </tr>\n    <tr>\n      <th>Staphilococcus aureus_4 948</th>\n      <td>10</td>\n    </tr>\n    <tr>\n      <th>Staphilococcus aureus_6 1006</th>\n      <td>10</td>\n    </tr>\n    <tr>\n      <th>Staphilococcus aureus_7 941</th>\n      <td>9</td>\n    </tr>\n    <tr>\n      <th>Staphilococcus aureus_8 942</th>\n      <td>9</td>\n    </tr>\n    <tr>\n      <th>Staphilococcus aureus_9 963</th>\n      <td>10</td>\n    </tr>\n    <tr>\n      <th>Staphilococcus aureus_K160</th>\n      <td>8</td>\n    </tr>\n  </tbody>\n</table>\n</div>"
     },
     "execution_count": 4,
     "metadata": {},
     "output_type": "execute_result"
    }
   ],
   "source": [
    "## Посмотрим сколько классов данных и сколько примеров на каждый класс\n",
    "train_df.groupby('strain').agg({'strain': \"count\"})"
   ]
  },
  {
   "cell_type": "markdown",
   "id": "ed4df735",
   "metadata": {
    "pycharm": {
     "name": "#%% md\n"
    }
   },
   "source": [
    "Так как тренировочный набор данных не очень большой, дополним его симмулированными данными. Для этого составим дополнительные примеры из существующих. Зададим seed для воспроизводимости результатов."
   ]
  },
  {
   "cell_type": "code",
   "execution_count": null,
   "outputs": [],
   "source": [
    "# для начала орпеделим количестов пиков в масс-спектрах\n",
    "train_df.loc[:,'n_peak'] = train_df['m/z'].apply(len)"
   ],
   "metadata": {
    "collapsed": false,
    "pycharm": {
     "name": "#%%\n"
    }
   }
  },
  {
   "cell_type": "code",
   "execution_count": null,
   "outputs": [],
   "source": [
    "def get_dif(x):\n",
    "    return max(x) - min(x)"
   ],
   "metadata": {
    "collapsed": false,
    "pycharm": {
     "name": "#%%\n"
    }
   }
  },
  {
   "cell_type": "code",
   "execution_count": 20,
   "id": "3af3818d",
   "metadata": {
    "pycharm": {
     "name": "#%%\n"
    }
   },
   "outputs": [],
   "source": [
    "# посмотрим на сколько по количеству строк (пиков) различаются таблицы внутри каждого штамма\n",
    "peaks_dif = train_df.groupby(['strain']).agg({'n_peak': get_dif})"
   ]
  },
  {
   "cell_type": "code",
   "execution_count": null,
   "outputs": [],
   "source": [
    "sns.histplot(peaks_dif.n_peak)"
   ],
   "metadata": {
    "collapsed": false,
    "pycharm": {
     "name": "#%%\n"
    }
   }
  },
  {
   "cell_type": "code",
   "execution_count": 40,
   "id": "0614273a",
   "metadata": {
    "pycharm": {
     "name": "#%%\n"
    }
   },
   "outputs": [],
   "source": [
    "# будем использовать среднюю разности для варьирвания числа пиков в сгенерированных данных\n",
    "mean_dif = int(peaks_dif.n_peak.mean()) "
   ]
  },
  {
   "cell_type": "code",
   "execution_count": 41,
   "id": "0a209010",
   "metadata": {
    "pycharm": {
     "name": "#%%\n"
    }
   },
   "outputs": [],
   "source": [
    "FEATURES = ['m/z', 'time', 'Intens.', 'SN', 'Res.', 'Area', 'Rel. Intens.', 'FWHM', 'Bk. Peak']"
   ]
  },
  {
   "cell_type": "code",
   "execution_count": 42,
   "id": "3765a513",
   "metadata": {
    "pycharm": {
     "name": "#%%\n"
    }
   },
   "outputs": [],
   "source": [
    "np.random.seed(142)\n",
    "train_gen = pd.DataFrame()\n",
    "for strain in train_df.strain.unique():\n",
    "    tmp = train_df[train_df.strain == strain]\n",
    "    n_samples = tmp.shape[0]\n",
    "    s = np.random.randint(max(tmp.n_peak) - mean_dif, max(tmp.n_peak), 6)\n",
    "    strain_df = pd.DataFrame()\n",
    "    \n",
    "    for i,sample in enumerate(tmp[FEATURES].values):\n",
    "        tmp_i = pd.DataFrame(list(sample)).T\n",
    "        tmp_i.columns = FEATURES\n",
    "        strain_df = pd.concat([ strain_df, tmp_i])\n",
    "    for i in range(0,6):\n",
    "        df_i = pd.DataFrame()\n",
    "        idx = []\n",
    "        for n in range(0,s[i]):\n",
    "            if isinstance(strain_df.loc[n], pd.Series):\n",
    "                continue\n",
    "            else:\n",
    "                df_i = pd.concat([df_i, strain_df.loc[n].sample(n=1)])\n",
    "        df_i[['id']] = i\n",
    "        df_i.loc[:, 'strain'] = tmp.strain.unique()[0]\n",
    "        df_i.loc[:, 'n_peak'] = n\n",
    "        train_gen = pd.concat([train_gen, df_i])        "
   ]
  },
  {
   "cell_type": "code",
   "execution_count": 43,
   "id": "3efca56e",
   "metadata": {
    "pycharm": {
     "name": "#%%\n"
    }
   },
   "outputs": [
    {
     "data": {
      "text/plain": "(12396, 12)"
     },
     "execution_count": 43,
     "metadata": {},
     "output_type": "execute_result"
    }
   ],
   "source": [
    "train_gen.shape"
   ]
  },
  {
   "cell_type": "code",
   "execution_count": 44,
   "id": "3673032c",
   "metadata": {
    "pycharm": {
     "name": "#%%\n"
    }
   },
   "outputs": [],
   "source": [
    "train_gen = train_gen.groupby(['strain', 'id']).agg(list).reset_index().drop(['id'], axis = 1)\n",
    "train_gen.loc[:,'n_peak'] = train_gen.n_peak.apply(min)"
   ]
  },
  {
   "cell_type": "markdown",
   "id": "a303e395",
   "metadata": {
    "pycharm": {
     "name": "#%% md\n"
    }
   },
   "source": [
    "Совместим оригинальных датасет и сгенерированный."
   ]
  },
  {
   "cell_type": "code",
   "execution_count": 45,
   "id": "fa790921",
   "metadata": {
    "pycharm": {
     "name": "#%%\n"
    }
   },
   "outputs": [],
   "source": [
    "train_df = pd.concat([train_df, train_gen[train_df.columns]])"
   ]
  },
  {
   "cell_type": "code",
   "execution_count": 46,
   "id": "d2474086",
   "metadata": {
    "pycharm": {
     "name": "#%%\n"
    }
   },
   "outputs": [
    {
     "data": {
      "text/plain": "(568, 11)"
     },
     "execution_count": 46,
     "metadata": {},
     "output_type": "execute_result"
    }
   ],
   "source": [
    "train_df.shape"
   ]
  },
  {
   "cell_type": "markdown",
   "id": "84e4f0ab",
   "metadata": {
    "pycharm": {
     "name": "#%% md\n"
    }
   },
   "source": [
    "# <center> Обработка данных и генерация признаков<center>"
   ]
  },
  {
   "cell_type": "markdown",
   "id": "00a58531",
   "metadata": {
    "pycharm": {
     "name": "#%% md\n"
    }
   },
   "source": [
    "Пример таблицы с данными по масс-спектру для одного образца"
   ]
  },
  {
   "cell_type": "code",
   "execution_count": 47,
   "id": "4c4a3f9a",
   "metadata": {
    "pycharm": {
     "name": "#%%\n"
    }
   },
   "outputs": [],
   "source": [
    "example = train_df[FEATURES]\\\n",
    "         .loc[(train_df.strain == 'Staphilococcus aureus_6 1006')].iloc[0]\n",
    "example = pd.DataFrame(list(example)).T\n",
    "example.columns = FEATURES"
   ]
  },
  {
   "cell_type": "code",
   "execution_count": 48,
   "id": "4c08edff",
   "metadata": {
    "pycharm": {
     "name": "#%%\n"
    }
   },
   "outputs": [
    {
     "data": {
      "text/plain": "           m/z          time      Intens.        SN        Res.          Area  \\\n0  2141.595860  46248.308185  1849.671417  5.023842  449.793188  13621.062834   \n1  2154.140758  46381.493984  1299.384644  3.529223  458.732871   9421.672911   \n2  2180.436755  46659.416149  1203.332001  3.317415  443.973316   9161.078120   \n3  2297.759326  47879.408034  1426.807159  3.967446  620.345018   9085.341876   \n4  2764.201381  52445.360112  1586.883118  4.470495  629.209920  12546.815080   \n\n   Rel. Intens.      FWHM  Bk. Peak  \n0      0.084247  4.761290       0.0  \n1      0.059183  4.695850       0.0  \n2      0.054808  4.911189       0.0  \n3      0.064987  3.704002       0.0  \n4      0.072278  4.393131       0.0  ",
      "text/html": "<div>\n<style scoped>\n    .dataframe tbody tr th:only-of-type {\n        vertical-align: middle;\n    }\n\n    .dataframe tbody tr th {\n        vertical-align: top;\n    }\n\n    .dataframe thead th {\n        text-align: right;\n    }\n</style>\n<table border=\"1\" class=\"dataframe\">\n  <thead>\n    <tr style=\"text-align: right;\">\n      <th></th>\n      <th>m/z</th>\n      <th>time</th>\n      <th>Intens.</th>\n      <th>SN</th>\n      <th>Res.</th>\n      <th>Area</th>\n      <th>Rel. Intens.</th>\n      <th>FWHM</th>\n      <th>Bk. Peak</th>\n    </tr>\n  </thead>\n  <tbody>\n    <tr>\n      <th>0</th>\n      <td>2141.595860</td>\n      <td>46248.308185</td>\n      <td>1849.671417</td>\n      <td>5.023842</td>\n      <td>449.793188</td>\n      <td>13621.062834</td>\n      <td>0.084247</td>\n      <td>4.761290</td>\n      <td>0.0</td>\n    </tr>\n    <tr>\n      <th>1</th>\n      <td>2154.140758</td>\n      <td>46381.493984</td>\n      <td>1299.384644</td>\n      <td>3.529223</td>\n      <td>458.732871</td>\n      <td>9421.672911</td>\n      <td>0.059183</td>\n      <td>4.695850</td>\n      <td>0.0</td>\n    </tr>\n    <tr>\n      <th>2</th>\n      <td>2180.436755</td>\n      <td>46659.416149</td>\n      <td>1203.332001</td>\n      <td>3.317415</td>\n      <td>443.973316</td>\n      <td>9161.078120</td>\n      <td>0.054808</td>\n      <td>4.911189</td>\n      <td>0.0</td>\n    </tr>\n    <tr>\n      <th>3</th>\n      <td>2297.759326</td>\n      <td>47879.408034</td>\n      <td>1426.807159</td>\n      <td>3.967446</td>\n      <td>620.345018</td>\n      <td>9085.341876</td>\n      <td>0.064987</td>\n      <td>3.704002</td>\n      <td>0.0</td>\n    </tr>\n    <tr>\n      <th>4</th>\n      <td>2764.201381</td>\n      <td>52445.360112</td>\n      <td>1586.883118</td>\n      <td>4.470495</td>\n      <td>629.209920</td>\n      <td>12546.815080</td>\n      <td>0.072278</td>\n      <td>4.393131</td>\n      <td>0.0</td>\n    </tr>\n  </tbody>\n</table>\n</div>"
     },
     "execution_count": 48,
     "metadata": {},
     "output_type": "execute_result"
    }
   ],
   "source": [
    "example.head()"
   ]
  },
  {
   "cell_type": "code",
   "execution_count": 49,
   "id": "5720ea8b",
   "metadata": {
    "pycharm": {
     "name": "#%%\n"
    }
   },
   "outputs": [
    {
     "data": {
      "text/plain": "<Figure size 432x288 with 2 Axes>",
      "image/png": "[encoded data removed]"
     },
     "metadata": {},
     "output_type": "display_data"
    }
   ],
   "source": [
    "cor = example.corr()\n",
    "sns.heatmap(cor, annot=True, cmap=plt.cm.Reds)\n",
    "plt.show()"
   ]
  },
  {
   "cell_type": "code",
   "execution_count": 50,
   "id": "57e77b55",
   "metadata": {
    "pycharm": {
     "name": "#%%\n"
    }
   },
   "outputs": [],
   "source": [
    "## select uncorrelated features\n",
    "FEATURES = ['m/z', 'Rel. Intens.', 'Res.', 'FWHM']"
   ]
  },
  {
   "cell_type": "code",
   "execution_count": 51,
   "id": "f6ae6f45",
   "metadata": {
    "pycharm": {
     "name": "#%%\n"
    }
   },
   "outputs": [
    {
     "data": {
      "text/plain": "<Figure size 1440x288 with 4 Axes>",
      "image/png": "[encoded data removed]"
     },
     "metadata": {},
     "output_type": "display_data"
    }
   ],
   "source": [
    "fig, axs = plt.subplots(1,4, figsize=(20, 4))\n",
    "for features in FEATURES:\n",
    "    sns.histplot(example[features], ax = axs[FEATURES.index(features)])"
   ]
  },
  {
   "cell_type": "markdown",
   "id": "6ccfcd0b",
   "metadata": {
    "pycharm": {
     "name": "#%% md\n"
    }
   },
   "source": [
    "Посмотрим на масс-спектры для нескольих примеров"
   ]
  },
  {
   "cell_type": "code",
   "execution_count": 52,
   "id": "5fe34686",
   "metadata": {
    "pycharm": {
     "name": "#%%\n"
    }
   },
   "outputs": [],
   "source": [
    "def colors_from_values(values, palette_name):\n",
    "    values = np.array(values)\n",
    "    normalized = (values - min(values)) / (max(values) - min(values))\n",
    "    indices = np.round(normalized * (len(values) - 1)).astype(np.int32)\n",
    "    palette = sns.color_palette(palette_name, len(values))\n",
    "    return np.array(palette).take(indices, axis=0)"
   ]
  },
  {
   "cell_type": "code",
   "execution_count": 53,
   "id": "fb5914a0",
   "metadata": {
    "pycharm": {
     "name": "#%%\n"
    }
   },
   "outputs": [
    {
     "data": {
      "text/plain": "<Figure size 1440x1440 with 3 Axes>",
      "image/png": "[encoded data removed]"
     },
     "metadata": {},
     "output_type": "display_data"
    }
   ],
   "source": [
    "fig, axs = plt.subplots(3,1, figsize=(20,20))\n",
    "satain = \"Acinetobacter baumani_64\"\n",
    "i = 0\n",
    "for ids in [2,6,8]:\n",
    "    tmp = train_df.loc[(train_df.strain == strain)].iloc[ids]\n",
    "    mz = [np.round(x, 2) for x in tmp['m/z']]\n",
    "    ax =  axs[i]\n",
    "    sns.barplot(data = tmp, x=mz, y = 'Rel. Intens.', \n",
    "                palette=colors_from_values(tmp['Res.'], 'crest'),\n",
    "                ax = ax)\n",
    "    ax.set_xticklabels(ax.get_xticklabels(), rotation=90)\n",
    "    i=i+1"
   ]
  },
  {
   "cell_type": "markdown",
   "id": "70ecffa1",
   "metadata": {
    "pycharm": {
     "name": "#%% md\n"
    }
   },
   "source": [
    "Создаим спектры, которые удобно сравнитвать между собой в виде векторов в фиксированом диапазоне, и уберем необходимость использовать переменную \"m/z\"."
   ]
  },
  {
   "cell_type": "code",
   "execution_count": 54,
   "id": "c44c68ee",
   "metadata": {
    "pycharm": {
     "name": "#%%\n"
    }
   },
   "outputs": [
    {
     "data": {
      "text/plain": "(2040.804289776974, 17241.93492389016)"
     },
     "execution_count": 54,
     "metadata": {},
     "output_type": "execute_result"
    }
   ],
   "source": [
    "# орпеделим диапазон парамтеров\n",
    "min(train_df['m/z'].apply(min)), max(train_df['m/z'].apply(max))"
   ]
  },
  {
   "cell_type": "code",
   "execution_count": 55,
   "id": "bff807e6",
   "metadata": {
    "pycharm": {
     "name": "#%%\n"
    }
   },
   "outputs": [],
   "source": [
    "def create_speactr(mz, intens):\n",
    "    spec = []\n",
    "    for i in range(200, 1750):\n",
    "        if i in mz:\n",
    "            spec.append(intens[mz.index(i)])\n",
    "        else:\n",
    "            spec.append(0)\n",
    "    return spec"
   ]
  },
  {
   "cell_type": "code",
   "execution_count": 56,
   "id": "6399146f",
   "metadata": {
    "pycharm": {
     "name": "#%%\n"
    }
   },
   "outputs": [],
   "source": [
    "def prepocess_data(data):\n",
    "    data['mz'] = data['m/z'].apply(lambda x: [int(x_i // 10) for x_i in x])\n",
    "    data['intens'] = data.apply(lambda d: create_speactr(d['mz'], d['Rel. Intens.']),\n",
    "                           axis = 1)\n",
    "    return data"
   ]
  },
  {
   "cell_type": "code",
   "execution_count": 57,
   "id": "42b9fae4",
   "metadata": {
    "pycharm": {
     "name": "#%%\n"
    }
   },
   "outputs": [],
   "source": [
    "train_df = prepocess_data(train_df)"
   ]
  },
  {
   "cell_type": "markdown",
   "id": "b0380cc3",
   "metadata": {
    "pycharm": {
     "name": "#%% md\n"
    }
   },
   "source": [
    "Перемешаем данные, чтобы классы не шли по порядку"
   ]
  },
  {
   "cell_type": "code",
   "execution_count": 58,
   "id": "00cea8d4",
   "metadata": {
    "pycharm": {
     "name": "#%%\n"
    }
   },
   "outputs": [],
   "source": [
    "train_df = train_df.sample(frac=1).reset_index(drop=True)"
   ]
  },
  {
   "cell_type": "markdown",
   "id": "bba52e38",
   "metadata": {
    "pycharm": {
     "name": "#%% md\n"
    }
   },
   "source": [
    "# <center> Обучение моделей <center>"
   ]
  },
  {
   "cell_type": "markdown",
   "id": "19211f4b",
   "metadata": {
    "pycharm": {
     "name": "#%% md\n"
    }
   },
   "source": [
    "Разобьем выборку на валидационную и тренировочную так, чтобы хотя бы один пример из каждого класса присутствавал\n",
    "в валидаицонной выборке. После разбиения уберем два класса из тренировочный выборки, чтобы можно было определить их \n",
    "как 'new'."
   ]
  },
  {
   "cell_type": "markdown",
   "id": "735bcf6b",
   "metadata": {
    "pycharm": {
     "name": "#%% md\n"
    }
   },
   "source": [
    "_Note_:  рекомендуем рассмотреть разные вариатны разбиения на тренировочную и валидационную выборку для определения оптиматльных парпамтеров. "
   ]
  },
  {
   "cell_type": "code",
   "execution_count": 59,
   "id": "b1a65dca",
   "metadata": {
    "pycharm": {
     "name": "#%%\n"
    }
   },
   "outputs": [],
   "source": [
    "np.random.seed(142)\n",
    "val_ds = pd.DataFrame()\n",
    "train_ds = pd.DataFrame()\n",
    "for strain in train_df.strain.unique():\n",
    "    n = np.random.randint(1,4)\n",
    "    ids = random.sample(list(train_df.loc[train_df.strain == strain].index), n)\n",
    "    val_ds = pd.concat([val_ds, train_df.loc[ids]])\n",
    "    train_ids = list(set(train_df.loc[train_df.strain == strain].index) - set(ids))\n",
    "    train_ds = pd.concat([train_ds, train_df.loc[train_ids]])\n",
    "    "
   ]
  },
  {
   "cell_type": "code",
   "execution_count": 60,
   "id": "86c5717b",
   "metadata": {
    "pycharm": {
     "name": "#%%\n"
    }
   },
   "outputs": [
    {
     "data": {
      "text/plain": "((54, 13), (514, 13))"
     },
     "execution_count": 60,
     "metadata": {},
     "output_type": "execute_result"
    }
   ],
   "source": [
    "val_ds.shape, train_ds.shape"
   ]
  },
  {
   "cell_type": "code",
   "execution_count": 61,
   "id": "62503053",
   "metadata": {
    "pycharm": {
     "name": "#%%\n"
    }
   },
   "outputs": [
    {
     "data": {
      "text/plain": "['Acinetobacter baumani_64', 'Pseudomonas fluorescence_965']"
     },
     "execution_count": 61,
     "metadata": {},
     "output_type": "execute_result"
    }
   ],
   "source": [
    "random.seed(111)\n",
    "val_strain = random.sample(sorted(list(val_ds.strain.unique())), 2)\n",
    "val_strain"
   ]
  },
  {
   "cell_type": "code",
   "execution_count": 62,
   "id": "f025a0f5",
   "metadata": {
    "pycharm": {
     "name": "#%%\n"
    }
   },
   "outputs": [],
   "source": [
    "train_ds = train_ds[~train_ds.strain.isin(val_strain)]"
   ]
  },
  {
   "cell_type": "code",
   "execution_count": 63,
   "id": "3961d9f7",
   "metadata": {
    "pycharm": {
     "name": "#%%\n"
    }
   },
   "outputs": [],
   "source": [
    "val_ds.loc[:,'target'] = val_ds.strain\n",
    "val_ds.loc[val_ds.strain.isin(val_strain),'target'] = 'new'"
   ]
  },
  {
   "cell_type": "code",
   "execution_count": 64,
   "id": "74f3dde3",
   "metadata": {
    "pycharm": {
     "name": "#%%\n"
    }
   },
   "outputs": [],
   "source": [
    "val_ds = val_ds.sample(frac=1)\n",
    "train_ds = train_ds.sample(frac=1)"
   ]
  },
  {
   "cell_type": "code",
   "execution_count": 65,
   "id": "eca5461e",
   "metadata": {
    "pycharm": {
     "name": "#%%\n"
    }
   },
   "outputs": [],
   "source": [
    "def make_x(df, col):\n",
    "    X = []\n",
    "    for i in df.index:\n",
    "        row = df.loc[i,col]\n",
    "        X.append(row)\n",
    "    return np.array(X)"
   ]
  },
  {
   "cell_type": "markdown",
   "id": "4c55c0c3",
   "metadata": {
    "pycharm": {
     "name": "#%% md\n"
    }
   },
   "source": [
    "## Многоклассовый классификатор"
   ]
  },
  {
   "cell_type": "code",
   "execution_count": 66,
   "id": "c6b3c834",
   "metadata": {
    "pycharm": {
     "name": "#%%\n"
    }
   },
   "outputs": [],
   "source": [
    "X = make_x(train_ds, col='intens')\n",
    "y = np.array(train_ds['strain'])"
   ]
  },
  {
   "cell_type": "code",
   "execution_count": 67,
   "id": "f94a3ba8",
   "metadata": {
    "pycharm": {
     "name": "#%%\n"
    }
   },
   "outputs": [
    {
     "data": {
      "text/plain": "Pipeline(steps=[('standardscaler', StandardScaler()),\n                ('svc', SVC(gamma='auto', kernel='sigmoid', probability=True))])"
     },
     "execution_count": 67,
     "metadata": {},
     "output_type": "execute_result"
    }
   ],
   "source": [
    "model = SVC(gamma='auto', kernel='sigmoid', probability=True)\n",
    "clf = make_pipeline(StandardScaler(), model)\n",
    "clf.fit(X, y)"
   ]
  },
  {
   "cell_type": "markdown",
   "id": "b2d2d34e",
   "metadata": {
    "pycharm": {
     "name": "#%% md\n"
    }
   },
   "source": [
    "### проверяем качество модели на валидационной выборке"
   ]
  },
  {
   "cell_type": "code",
   "execution_count": 68,
   "id": "08e106cd",
   "metadata": {
    "pycharm": {
     "name": "#%%\n"
    }
   },
   "outputs": [],
   "source": [
    "X_pred = make_x(val_ds, col='intens')"
   ]
  },
  {
   "cell_type": "code",
   "execution_count": 69,
   "id": "5e72ff56",
   "metadata": {
    "pycharm": {
     "name": "#%%\n"
    }
   },
   "outputs": [],
   "source": [
    "val_ds.loc[:,'class_name'] = clf.predict(X_pred)\n",
    "val_ds.loc[:,'class_name_proba'] =  np.max(clf.predict_proba(np.array(X_pred)), axis = 1)"
   ]
  },
  {
   "cell_type": "code",
   "execution_count": 70,
   "id": "c816f2df",
   "metadata": {
    "pycharm": {
     "name": "#%%\n"
    }
   },
   "outputs": [
    {
     "data": {
      "text/plain": "0.783047619047619"
     },
     "execution_count": 70,
     "metadata": {},
     "output_type": "execute_result"
    }
   ],
   "source": [
    "# посмотрим на качестов модели, то выделения новых классов\n",
    "f1_score(val_ds.class_name, val_ds.target, average='macro')"
   ]
  },
  {
   "cell_type": "markdown",
   "id": "a92a7034",
   "metadata": {
    "pycharm": {
     "name": "#%% md\n"
    }
   },
   "source": [
    "Новые классы будем орпеделять по вероятности определения класса"
   ]
  },
  {
   "cell_type": "code",
   "execution_count": 71,
   "id": "24b6224c",
   "metadata": {
    "pycharm": {
     "name": "#%%\n"
    }
   },
   "outputs": [
    {
     "data": {
      "text/plain": "(array([1., 0., 0., 1., 0., 0., 0., 0., 0., 1.]),\n array([0.13689429, 0.15518975, 0.1734852 , 0.19178066, 0.21007612,\n        0.22837158, 0.24666703, 0.26496249, 0.28325795, 0.30155341,\n        0.31984886]),\n <BarContainer object of 10 artists>)"
     },
     "execution_count": 71,
     "metadata": {},
     "output_type": "execute_result"
    },
    {
     "data": {
      "text/plain": "<Figure size 432x288 with 1 Axes>",
      "image/png": "[encoded data removed]"
     },
     "metadata": {},
     "output_type": "display_data"
    }
   ],
   "source": [
    "plt.hist(val_ds.loc[val_ds.target != 'new'].class_name_proba)\n",
    "plt.hist(val_ds.loc[val_ds.target == 'new'].class_name_proba)"
   ]
  },
  {
   "cell_type": "code",
   "execution_count": 72,
   "id": "99d861b4",
   "metadata": {
    "pycharm": {
     "name": "#%%\n"
    }
   },
   "outputs": [],
   "source": [
    "val_ds.loc[val_ds.class_name_proba < 0.2,'class_name'] = 'new'"
   ]
  },
  {
   "cell_type": "code",
   "execution_count": 73,
   "id": "181d6f6b",
   "metadata": {
    "pycharm": {
     "name": "#%%\n"
    }
   },
   "outputs": [
    {
     "data": {
      "text/plain": "0.8287619047619047"
     },
     "execution_count": 73,
     "metadata": {},
     "output_type": "execute_result"
    }
   ],
   "source": [
    "f1_score(val_ds.class_name, val_ds.target, average='macro')"
   ]
  },
  {
   "cell_type": "markdown",
   "id": "a02f06c0",
   "metadata": {
    "pycharm": {
     "name": "#%% md\n"
    }
   },
   "source": [
    "Как мы видим, после добавления метки 'new' значение метрики возрасло"
   ]
  },
  {
   "cell_type": "markdown",
   "id": "e3fb9f05",
   "metadata": {
    "pycharm": {
     "name": "#%% md\n"
    }
   },
   "source": [
    "### сохранение модели"
   ]
  },
  {
   "cell_type": "markdown",
   "id": "e23553da",
   "metadata": {
    "pycharm": {
     "name": "#%% md\n"
    }
   },
   "source": [
    "переобучим модель на всей тренировочной выборке, так как мы исключали классы для валидации"
   ]
  },
  {
   "cell_type": "code",
   "execution_count": 74,
   "id": "0befa0d4",
   "metadata": {
    "pycharm": {
     "name": "#%%\n"
    }
   },
   "outputs": [
    {
     "data": {
      "text/plain": "Pipeline(steps=[('standardscaler', StandardScaler()),\n                ('svc', SVC(gamma='auto', kernel='sigmoid', probability=True))])"
     },
     "execution_count": 74,
     "metadata": {},
     "output_type": "execute_result"
    }
   ],
   "source": [
    "X = make_x(train_df, col='intens')\n",
    "y = np.array(train_df['strain'])\n",
    "model = SVC(gamma='auto', kernel='sigmoid', probability=True)\n",
    "clf = make_pipeline(StandardScaler(), model)\n",
    "clf.fit(X, y)"
   ]
  },
  {
   "cell_type": "code",
   "execution_count": 85,
   "id": "254d16d4",
   "metadata": {
    "pycharm": {
     "name": "#%%\n"
    }
   },
   "outputs": [],
   "source": [
    "swmPickle = open('models/baseline_clf.pkl', 'wb') \n",
    "pickle.dump(clf, swmPickle)   "
   ]
  },
  {
   "cell_type": "markdown",
   "id": "ede60c41",
   "metadata": {
    "pycharm": {
     "name": "#%% md\n"
    }
   },
   "source": [
    "## Набор бинарных классификатров для каждого тарегта"
   ]
  },
  {
   "cell_type": "code",
   "execution_count": 76,
   "id": "732afa40",
   "metadata": {
    "pycharm": {
     "name": "#%%\n"
    }
   },
   "outputs": [],
   "source": [
    "X = make_x(train_ds, col='intens')\n",
    "# X_pred = make_x(val_ds, col='intens')"
   ]
  },
  {
   "cell_type": "code",
   "execution_count": 77,
   "id": "6c181b15",
   "metadata": {
    "pycharm": {
     "name": "#%%\n"
    }
   },
   "outputs": [],
   "source": [
    "# делаем бинарных тарегет для каждого класса\n",
    "Y = []\n",
    "for strain in train_ds.strain.unique():\n",
    "    Y.append(np.array(train_ds.strain == strain))"
   ]
  },
  {
   "cell_type": "code",
   "execution_count": 78,
   "id": "082f8cd7",
   "metadata": {
    "pycharm": {
     "name": "#%%\n"
    }
   },
   "outputs": [],
   "source": [
    "# сохраняем порядок классов\n",
    "class_order = train_ds.strain.unique()"
   ]
  },
  {
   "cell_type": "markdown",
   "id": "9447cd06",
   "metadata": {
    "pycharm": {
     "name": "#%% md\n"
    }
   },
   "source": [
    "так как негативных примеров для каждого таргета в разы больше положительных, оставим в выборке только примеры в соотношении 3:1 (негативные:положительные)"
   ]
  },
  {
   "cell_type": "code",
   "execution_count": 79,
   "id": "d1c750fd",
   "metadata": {
    "pycharm": {
     "name": "#%%\n"
    }
   },
   "outputs": [],
   "source": [
    "res = []\n",
    "for i,y in enumerate(Y):\n",
    "    idx_pos = np.where(y ==True)[0]\n",
    "    idx_neg = np.where(y == False)[0]\n",
    "    random.shuffle(idx_neg)\n",
    "    idx = sorted(np.concatenate((idx_pos,idx_neg[:3*len(idx_pos)])))\n",
    "    \n",
    "    model = SVC(gamma='scale', probability=True)\n",
    "    clf = make_pipeline(StandardScaler(), model)\n",
    "    clf.fit(X[idx,:], y[idx])\n",
    "    res.append(clf.predict_proba(X_pred)[:,1])"
   ]
  },
  {
   "cell_type": "markdown",
   "id": "79794141",
   "metadata": {
    "pycharm": {
     "name": "#%% md\n"
    }
   },
   "source": [
    "### проверяем качество модели на валидационной выборке"
   ]
  },
  {
   "cell_type": "code",
   "execution_count": 80,
   "id": "4e92972f",
   "metadata": {
    "pycharm": {
     "name": "#%%\n"
    }
   },
   "outputs": [],
   "source": [
    "res = np.array(res).T"
   ]
  },
  {
   "cell_type": "code",
   "execution_count": 81,
   "id": "3288967f",
   "metadata": {
    "pycharm": {
     "name": "#%%\n"
    }
   },
   "outputs": [],
   "source": [
    "# выбираем класс с наибльшей вероятностью или ставим 0, если веротяность меньше 0.5\n",
    "class_name = []\n",
    "for res_i in res:\n",
    "    if max(res_i) > 0.5:\n",
    "        class_name.append(class_order[np.where(res_i == max(res_i))[0]].item())\n",
    "    else:\n",
    "        class_name.append('new')"
   ]
  },
  {
   "cell_type": "code",
   "execution_count": 82,
   "id": "e4c3715a",
   "metadata": {
    "pycharm": {
     "name": "#%%\n"
    }
   },
   "outputs": [],
   "source": [
    "val_ds.loc[:,'class_name'] = class_name"
   ]
  },
  {
   "cell_type": "code",
   "execution_count": 83,
   "id": "d0173335",
   "metadata": {
    "pycharm": {
     "name": "#%%\n"
    }
   },
   "outputs": [
    {
     "data": {
      "text/plain": "0.9348571428571428"
     },
     "execution_count": 83,
     "metadata": {},
     "output_type": "execute_result"
    }
   ],
   "source": [
    "f1_score(val_ds.class_name, val_ds.target, average='macro')"
   ]
  },
  {
   "cell_type": "markdown",
   "id": "df3f5c89",
   "metadata": {
    "pycharm": {
     "name": "#%% md\n"
    }
   },
   "source": [
    "Данная модель показала самое высокое значение метрики, поэтому берем ее как бейзлайн для данной задачи."
   ]
  },
  {
   "cell_type": "markdown",
   "id": "fc0e4573",
   "metadata": {
    "pycharm": {
     "name": "#%% md\n"
    }
   },
   "source": [
    "### сохраняем модели"
   ]
  },
  {
   "cell_type": "code",
   "execution_count": 84,
   "id": "4e97756f",
   "metadata": {
    "pycharm": {
     "name": "#%%\n"
    }
   },
   "outputs": [
    {
     "ename": "FileNotFoundError",
     "evalue": "[Errno 2] No such file or directory: 'models/baseline_clf_Staphilococcus aureus_4 948.pkl'",
     "output_type": "error",
     "traceback": [
      "\u001B[0;31m---------------------------------------------------------------------------\u001B[0m",
      "\u001B[0;31mFileNotFoundError\u001B[0m                         Traceback (most recent call last)",
      "Input \u001B[0;32mIn [84]\u001B[0m, in \u001B[0;36m<cell line: 3>\u001B[0;34m()\u001B[0m\n\u001B[1;32m     12\u001B[0m \u001B[38;5;66;03m# save model\u001B[39;00m\n\u001B[1;32m     13\u001B[0m strain \u001B[38;5;241m=\u001B[39m class_order[i]\n\u001B[0;32m---> 14\u001B[0m pickle\u001B[38;5;241m.\u001B[39mdump(clf, \u001B[38;5;28;43mopen\u001B[39;49m\u001B[43m(\u001B[49m\u001B[38;5;124;43mf\u001B[39;49m\u001B[38;5;124;43m'\u001B[39;49m\u001B[38;5;124;43mmodels/baseline_clf_\u001B[39;49m\u001B[38;5;132;43;01m{\u001B[39;49;00m\u001B[43mstrain\u001B[49m\u001B[38;5;132;43;01m}\u001B[39;49;00m\u001B[38;5;124;43m.pkl\u001B[39;49m\u001B[38;5;124;43m'\u001B[39;49m\u001B[43m,\u001B[49m\u001B[43m \u001B[49m\u001B[38;5;124;43m'\u001B[39;49m\u001B[38;5;124;43mwb\u001B[39;49m\u001B[38;5;124;43m'\u001B[39;49m\u001B[43m)\u001B[49m)\n",
      "\u001B[0;31mFileNotFoundError\u001B[0m: [Errno 2] No such file or directory: 'models/baseline_clf_Staphilococcus aureus_4 948.pkl'"
     ]
    }
   ],
   "source": [
    "# переобучаем на полной выборке\n",
    "res = []\n",
    "for i,y in enumerate(Y):\n",
    "    idx_pos = np.where(y ==True)[0]\n",
    "    idx_neg = np.where(y == False)[0]\n",
    "    random.shuffle(idx_neg)\n",
    "    idx = sorted(np.concatenate((idx_pos,idx_neg[:3*len(idx_pos)])))\n",
    "    \n",
    "    model = SVC(gamma='scale', probability=True)\n",
    "    clf = make_pipeline(StandardScaler(), model)\n",
    "    clf.fit(X[idx,:], y[idx])\n",
    "    # save model\n",
    "    strain = class_order[i]\n",
    "    pickle.dump(clf, open(f'models/baseline_clf_{strain}.pkl', 'wb'))"
   ]
  },
  {
   "cell_type": "markdown",
   "id": "2fdc8225",
   "metadata": {
    "pycharm": {
     "name": "#%% md\n"
    }
   },
   "source": [
    "# <center> Формат решения <center>"
   ]
  },
  {
   "cell_type": "markdown",
   "id": "65eb750d",
   "metadata": {
    "pycharm": {
     "name": "#%% md\n"
    }
   },
   "source": [
    "В проверяющую систему необходимо отправить код алгоритма, запакованный в ZIP-архив. Архив должен содержать следующие файлы: \n",
    " * solution.py -- файл с кодом запуска решения\n",
    " * models/ -- директория, где хранятся обученные модели\n",
    " * requiremnts.txt -- необходимые библиотеки для запуска решения\n",
    " * \\*.py -- вспомогательные модули\n",
    " * metadata.json  -- обязательный файл для запуска докера, который содержит название docker image и команду для расчета предсказаний (см. описание задачи)\n",
    " \n",
    "Решение должно быть реализовано в виде программы, которая на вход принимает файл `test.xlsx` и на выходе выдает CSV таблицу (`results.csv`). Файл `results.csv` должен в обязательном порядке содержать поле `class_name`  -- предсказанный класс (название штамма бактерии или метка 'new')"
   ]
  },
  {
   "cell_type": "code",
   "execution_count": null,
   "id": "e8efaac0",
   "metadata": {
    "pycharm": {
     "name": "#%%\n"
    }
   },
   "outputs": [],
   "source": []
  }
 ],
 "metadata": {
  "kernelspec": {
   "display_name": "Python 3 (ipykernel)",
   "language": "python",
   "name": "python3"
  },
  "language_info": {
   "codemirror_mode": {
    "name": "ipython",
    "version": 3
   },
   "file_extension": ".py",
   "mimetype": "text/x-python",
   "name": "python",
   "nbconvert_exporter": "python",
   "pygments_lexer": "ipython3",
   "version": "3.8.0"
  }
 },
 "nbformat": 4,
 "nbformat_minor": 5
}