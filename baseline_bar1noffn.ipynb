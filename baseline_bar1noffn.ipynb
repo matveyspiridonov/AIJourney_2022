{
 "cells": [
  {
   "cell_type": "markdown",
   "id": "fe21452b",
   "metadata": {},
   "source": [
    "# <center> Импорт библоиотек <center>"
   ]
  },
  {
   "cell_type": "markdown",
   "id": "963b7ecb",
   "metadata": {},
   "source": [
    "*NOTE*: не забудьте соствить список библиотек, необходимых для реализации ваших решений, и представить их в файле `requirements.txt`."
   ]
  },
  {
   "cell_type": "code",
   "execution_count": 394,
   "id": "e689b078",
   "metadata": {},
   "outputs": [],
   "source": [
    "import pickle\n",
    "import random\n",
    "import json\n",
    "import pandas as pd\n",
    "import numpy as np\n",
    "\n",
    "import seaborn as sns\n",
    "import matplotlib.pyplot as plt\n",
    "\n",
    "from sklearn.pipeline import make_pipeline\n",
    "from sklearn.preprocessing import StandardScaler\n",
    "from sklearn.svm import SVC\n",
    "from sklearn.metrics import f1_score , accuracy_score\n",
    "from sklearn.model_selection import GridSearchCV\n",
    "\n",
    "import warnings\n",
    "\n",
    "warnings.filterwarnings('ignore')"
   ]
  },
  {
   "cell_type": "markdown",
   "id": "88a0c54e",
   "metadata": {},
   "source": [
    "# <center> Чтение данных <center>"
   ]
  },
  {
   "cell_type": "markdown",
   "id": "c6628f04",
   "metadata": {},
   "source": [
    "Тренировчные данные представлены в виде файла в формате JSON. В котором верхенеуровневый ключ -- это номер образца (бакетрии). Каждый словарь по бактериям содержит название штамма и результаты масс-спектрометрического анализа, которые представлены следующими полями: масса к заряду (m/z), время (time), интенсивность пика (Intens.), разрешение (Res.), площадь пика (Area), относительная интенсивность (Rel. Intens.), ширина на полувысоте (FWHM=full width at half-maximum intensity). Каждый штамм будет представлен несколькими бактериями."
   ]
  },
  {
   "cell_type": "code",
   "execution_count": 408,
   "id": "5088ded8",
   "metadata": {},
   "outputs": [],
   "source": [
    "with open('train.json', 'rb') as fp:\n",
    "    train_d = json.load(fp)\n",
    "train_df = pd.DataFrame(json.loads(train_d)).T"
   ]
  },
  {
   "cell_type": "code",
   "execution_count": 409,
   "id": "4a55355a",
   "metadata": {},
   "outputs": [
    {
     "data": {
      "text/plain": [
       "(256, 10)"
      ]
     },
     "execution_count": 409,
     "metadata": {},
     "output_type": "execute_result"
    }
   ],
   "source": [
    "train_df.shape"
   ]
  },
  {
   "cell_type": "code",
   "execution_count": 410,
   "id": "fe69a925",
   "metadata": {},
   "outputs": [
    {
     "data": {
      "text/html": [
       "<div>\n",
       "<style scoped>\n",
       "    .dataframe tbody tr th:only-of-type {\n",
       "        vertical-align: middle;\n",
       "    }\n",
       "\n",
       "    .dataframe tbody tr th {\n",
       "        vertical-align: top;\n",
       "    }\n",
       "\n",
       "    .dataframe thead th {\n",
       "        text-align: right;\n",
       "    }\n",
       "</style>\n",
       "<table border=\"1\" class=\"dataframe\">\n",
       "  <thead>\n",
       "    <tr style=\"text-align: right;\">\n",
       "      <th></th>\n",
       "      <th>strain</th>\n",
       "      <th>m/z</th>\n",
       "      <th>time</th>\n",
       "      <th>Intens.</th>\n",
       "      <th>SN</th>\n",
       "      <th>Res.</th>\n",
       "      <th>Area</th>\n",
       "      <th>Rel. Intens.</th>\n",
       "      <th>FWHM</th>\n",
       "      <th>Bk. Peak</th>\n",
       "    </tr>\n",
       "  </thead>\n",
       "  <tbody>\n",
       "    <tr>\n",
       "      <th>0</th>\n",
       "      <td>Acinetobacter baumani_121 skin</td>\n",
       "      <td>[2131.496344969094, 2259.721110106408, 2588.85...</td>\n",
       "      <td>[46140.80006771147, 47487.35689905193, 50777.8...</td>\n",
       "      <td>[2894.089294433594, 886.8892822265625, 868.547...</td>\n",
       "      <td>[10.14621708940436, 3.128197998996987, 3.13016...</td>\n",
       "      <td>[501.3893306058393, 554.1613032118989, 570.494...</td>\n",
       "      <td>[20801.59355425023, 5168.433783919987, 5449.07...</td>\n",
       "      <td>[0.07505194053740191, 0.02299955353863887, 0.0...</td>\n",
       "      <td>[4.251180100688543, 4.077731694741487, 4.53790...</td>\n",
       "      <td>[0.0, 0.0, 0.0, 0.0, 0.0, 0.0, 0.0, 0.0, 0.0, ...</td>\n",
       "    </tr>\n",
       "    <tr>\n",
       "      <th>1</th>\n",
       "      <td>Acinetobacter baumani_126</td>\n",
       "      <td>[2132.413484429545, 2589.569703463259, 2718.11...</td>\n",
       "      <td>[46150.57342911904, 50784.81044928727, 52012.3...</td>\n",
       "      <td>[1608.209228515625, 2417.604553222656, 859.648...</td>\n",
       "      <td>[5.653855828544429, 8.654048108890505, 3.10129...</td>\n",
       "      <td>[444.1771425249818, 635.5107637820196, 483.527...</td>\n",
       "      <td>[10814.55846969845, 12028.48312655044, 5520.91...</td>\n",
       "      <td>[0.02893426423838925, 0.04349658472700257, 0.0...</td>\n",
       "      <td>[4.800817692480905, 4.074784962023841, 5.62141...</td>\n",
       "      <td>[0.0, 0.0, 0.0, 0.0, 0.0, 0.0, 0.0, 0.0, 0.0, ...</td>\n",
       "    </tr>\n",
       "  </tbody>\n",
       "</table>\n",
       "</div>"
      ],
      "text/plain": [
       "                           strain  \\\n",
       "0  Acinetobacter baumani_121 skin   \n",
       "1       Acinetobacter baumani_126   \n",
       "\n",
       "                                                 m/z  \\\n",
       "0  [2131.496344969094, 2259.721110106408, 2588.85...   \n",
       "1  [2132.413484429545, 2589.569703463259, 2718.11...   \n",
       "\n",
       "                                                time  \\\n",
       "0  [46140.80006771147, 47487.35689905193, 50777.8...   \n",
       "1  [46150.57342911904, 50784.81044928727, 52012.3...   \n",
       "\n",
       "                                             Intens.  \\\n",
       "0  [2894.089294433594, 886.8892822265625, 868.547...   \n",
       "1  [1608.209228515625, 2417.604553222656, 859.648...   \n",
       "\n",
       "                                                  SN  \\\n",
       "0  [10.14621708940436, 3.128197998996987, 3.13016...   \n",
       "1  [5.653855828544429, 8.654048108890505, 3.10129...   \n",
       "\n",
       "                                                Res.  \\\n",
       "0  [501.3893306058393, 554.1613032118989, 570.494...   \n",
       "1  [444.1771425249818, 635.5107637820196, 483.527...   \n",
       "\n",
       "                                                Area  \\\n",
       "0  [20801.59355425023, 5168.433783919987, 5449.07...   \n",
       "1  [10814.55846969845, 12028.48312655044, 5520.91...   \n",
       "\n",
       "                                        Rel. Intens.  \\\n",
       "0  [0.07505194053740191, 0.02299955353863887, 0.0...   \n",
       "1  [0.02893426423838925, 0.04349658472700257, 0.0...   \n",
       "\n",
       "                                                FWHM  \\\n",
       "0  [4.251180100688543, 4.077731694741487, 4.53790...   \n",
       "1  [4.800817692480905, 4.074784962023841, 5.62141...   \n",
       "\n",
       "                                            Bk. Peak  \n",
       "0  [0.0, 0.0, 0.0, 0.0, 0.0, 0.0, 0.0, 0.0, 0.0, ...  \n",
       "1  [0.0, 0.0, 0.0, 0.0, 0.0, 0.0, 0.0, 0.0, 0.0, ...  "
      ]
     },
     "execution_count": 410,
     "metadata": {},
     "output_type": "execute_result"
    }
   ],
   "source": [
    "train_df.head(2)"
   ]
  },
  {
   "cell_type": "code",
   "execution_count": 411,
   "id": "d3462a80",
   "metadata": {},
   "outputs": [
    {
     "data": {
      "text/html": [
       "<div>\n",
       "<style scoped>\n",
       "    .dataframe tbody tr th:only-of-type {\n",
       "        vertical-align: middle;\n",
       "    }\n",
       "\n",
       "    .dataframe tbody tr th {\n",
       "        vertical-align: top;\n",
       "    }\n",
       "\n",
       "    .dataframe thead th {\n",
       "        text-align: right;\n",
       "    }\n",
       "</style>\n",
       "<table border=\"1\" class=\"dataframe\">\n",
       "  <thead>\n",
       "    <tr style=\"text-align: right;\">\n",
       "      <th></th>\n",
       "      <th>strain</th>\n",
       "    </tr>\n",
       "    <tr>\n",
       "      <th>strain</th>\n",
       "      <th></th>\n",
       "    </tr>\n",
       "  </thead>\n",
       "  <tbody>\n",
       "    <tr>\n",
       "      <th>Acinetobacter baumani_121 skin</th>\n",
       "      <td>9</td>\n",
       "    </tr>\n",
       "    <tr>\n",
       "      <th>Acinetobacter baumani_126</th>\n",
       "      <td>9</td>\n",
       "    </tr>\n",
       "    <tr>\n",
       "      <th>Acinetobacter baumani_352 blood</th>\n",
       "      <td>10</td>\n",
       "    </tr>\n",
       "    <tr>\n",
       "      <th>Acinetobacter baumani_377 blood</th>\n",
       "      <td>11</td>\n",
       "    </tr>\n",
       "    <tr>\n",
       "      <th>Acinetobacter baumani_503 blood</th>\n",
       "      <td>11</td>\n",
       "    </tr>\n",
       "    <tr>\n",
       "      <th>Acinetobacter baumani_63</th>\n",
       "      <td>9</td>\n",
       "    </tr>\n",
       "    <tr>\n",
       "      <th>Acinetobacter baumani_64</th>\n",
       "      <td>11</td>\n",
       "    </tr>\n",
       "    <tr>\n",
       "      <th>Acinetobacter baumani_73</th>\n",
       "      <td>10</td>\n",
       "    </tr>\n",
       "    <tr>\n",
       "      <th>Acinetobacter baumani_74</th>\n",
       "      <td>11</td>\n",
       "    </tr>\n",
       "    <tr>\n",
       "      <th>Pseudomonas aeruginosa_XXX</th>\n",
       "      <td>11</td>\n",
       "    </tr>\n",
       "    <tr>\n",
       "      <th>Pseudomonas fluorescence_965</th>\n",
       "      <td>11</td>\n",
       "    </tr>\n",
       "    <tr>\n",
       "      <th>Pseudomonas spp_467</th>\n",
       "      <td>8</td>\n",
       "    </tr>\n",
       "    <tr>\n",
       "      <th>Staphilococcus aureus_1 949</th>\n",
       "      <td>8</td>\n",
       "    </tr>\n",
       "    <tr>\n",
       "      <th>Staphilococcus aureus_1027 q</th>\n",
       "      <td>10</td>\n",
       "    </tr>\n",
       "    <tr>\n",
       "      <th>Staphilococcus aureus_11 K817</th>\n",
       "      <td>11</td>\n",
       "    </tr>\n",
       "    <tr>\n",
       "      <th>Staphilococcus aureus_12 K457</th>\n",
       "      <td>11</td>\n",
       "    </tr>\n",
       "    <tr>\n",
       "      <th>Staphilococcus aureus_15</th>\n",
       "      <td>11</td>\n",
       "    </tr>\n",
       "    <tr>\n",
       "      <th>Staphilococcus aureus_16</th>\n",
       "      <td>9</td>\n",
       "    </tr>\n",
       "    <tr>\n",
       "      <th>Staphilococcus aureus_19 MRSA</th>\n",
       "      <td>11</td>\n",
       "    </tr>\n",
       "    <tr>\n",
       "      <th>Staphilococcus aureus_3 1027</th>\n",
       "      <td>8</td>\n",
       "    </tr>\n",
       "    <tr>\n",
       "      <th>Staphilococcus aureus_4 948</th>\n",
       "      <td>10</td>\n",
       "    </tr>\n",
       "    <tr>\n",
       "      <th>Staphilococcus aureus_6 1006</th>\n",
       "      <td>10</td>\n",
       "    </tr>\n",
       "    <tr>\n",
       "      <th>Staphilococcus aureus_7 941</th>\n",
       "      <td>9</td>\n",
       "    </tr>\n",
       "    <tr>\n",
       "      <th>Staphilococcus aureus_8 942</th>\n",
       "      <td>9</td>\n",
       "    </tr>\n",
       "    <tr>\n",
       "      <th>Staphilococcus aureus_9 963</th>\n",
       "      <td>10</td>\n",
       "    </tr>\n",
       "    <tr>\n",
       "      <th>Staphilococcus aureus_K160</th>\n",
       "      <td>8</td>\n",
       "    </tr>\n",
       "  </tbody>\n",
       "</table>\n",
       "</div>"
      ],
      "text/plain": [
       "                                 strain\n",
       "strain                                 \n",
       "Acinetobacter baumani_121 skin        9\n",
       "Acinetobacter baumani_126             9\n",
       "Acinetobacter baumani_352 blood      10\n",
       "Acinetobacter baumani_377 blood      11\n",
       "Acinetobacter baumani_503 blood      11\n",
       "Acinetobacter baumani_63              9\n",
       "Acinetobacter baumani_64             11\n",
       "Acinetobacter baumani_73             10\n",
       "Acinetobacter baumani_74             11\n",
       "Pseudomonas aeruginosa_XXX           11\n",
       "Pseudomonas fluorescence_965         11\n",
       "Pseudomonas spp_467                   8\n",
       "Staphilococcus aureus_1 949           8\n",
       "Staphilococcus aureus_1027 q         10\n",
       "Staphilococcus aureus_11 K817        11\n",
       "Staphilococcus aureus_12 K457        11\n",
       "Staphilococcus aureus_15             11\n",
       "Staphilococcus aureus_16              9\n",
       "Staphilococcus aureus_19 MRSA        11\n",
       "Staphilococcus aureus_3 1027          8\n",
       "Staphilococcus aureus_4 948          10\n",
       "Staphilococcus aureus_6 1006         10\n",
       "Staphilococcus aureus_7 941           9\n",
       "Staphilococcus aureus_8 942           9\n",
       "Staphilococcus aureus_9 963          10\n",
       "Staphilococcus aureus_K160            8"
      ]
     },
     "execution_count": 411,
     "metadata": {},
     "output_type": "execute_result"
    }
   ],
   "source": [
    "## Посмотрим сколько классов данных и сколько примеров на каждый класс\n",
    "train_df.groupby('strain').agg({'strain': \"count\"})"
   ]
  },
  {
   "cell_type": "markdown",
   "id": "ed4df735",
   "metadata": {},
   "source": [
    "Так как тренировочный набор данных не очень большой, дополним его симмулированными данными. Для этого составим дополнительные примеры из существующих. Зададим seed для воспроизводимости результатов."
   ]
  },
  {
   "cell_type": "code",
   "execution_count": 412,
   "id": "d4da3481",
   "metadata": {},
   "outputs": [],
   "source": [
    "# для начала орпеделим количестов пиков в масс-спектрах\n",
    "train_df.loc[:,'n_peak'] = train_df['m/z'].apply(len)"
   ]
  },
  {
   "cell_type": "code",
   "execution_count": 413,
   "id": "e2964d36",
   "metadata": {},
   "outputs": [],
   "source": [
    "def get_dif(x):\n",
    "    return max(x) - min(x)"
   ]
  },
  {
   "cell_type": "code",
   "execution_count": 414,
   "id": "3af3818d",
   "metadata": {},
   "outputs": [],
   "source": [
    "# посмотрим на сколько по количеству строк (пиков) различаются таблицы внутри каждого штамма\n",
    "peaks_dif = train_df.groupby(['strain']).agg({'n_peak': get_dif})"
   ]
  },
  {
   "cell_type": "code",
   "execution_count": 415,
   "id": "2e3e2742",
   "metadata": {},
   "outputs": [
    {
     "data": {
      "text/plain": [
       "<AxesSubplot:xlabel='n_peak', ylabel='Count'>"
      ]
     },
     "execution_count": 415,
     "metadata": {},
     "output_type": "execute_result"
    },
    {
     "data": {
      "image/png": "[encoded data removed]",
      "text/plain": [
       "<Figure size 432x288 with 1 Axes>"
      ]
     },
     "metadata": {
      "needs_background": "light"
     },
     "output_type": "display_data"
    }
   ],
   "source": [
    "sns.histplot(peaks_dif.n_peak)"
   ]
  },
  {
   "cell_type": "code",
   "execution_count": 416,
   "id": "0614273a",
   "metadata": {},
   "outputs": [],
   "source": [
    "# будем использовать среднюю разности для варьирвания числа пиков в сгенерированных данных\n",
    "mean_dif = int(peaks_dif.n_peak.mean()) "
   ]
  },
  {
   "cell_type": "code",
   "execution_count": 417,
   "id": "0a209010",
   "metadata": {},
   "outputs": [],
   "source": [
    "FEATURES = ['m/z', 'time', 'Intens.', 'SN', 'Res.', 'Area', 'Rel. Intens.', 'FWHM', 'Bk. Peak']"
   ]
  },
  {
   "cell_type": "code",
   "execution_count": 418,
   "id": "3765a513",
   "metadata": {},
   "outputs": [],
   "source": [
    "np.random.seed(142)\n",
    "train_gen = pd.DataFrame()\n",
    "for strain in train_df.strain.unique():\n",
    "    tmp = train_df[train_df.strain == strain]\n",
    "    n_samples = tmp.shape[0]\n",
    "    s = np.random.randint(max(tmp.n_peak) - mean_dif, max(tmp.n_peak), 36)\n",
    "    strain_df = pd.DataFrame()\n",
    "    \n",
    "    for i,sample in enumerate(tmp[FEATURES].values):\n",
    "        tmp_i = pd.DataFrame(list(sample)).T\n",
    "        tmp_i.columns = FEATURES\n",
    "        strain_df = pd.concat([ strain_df, tmp_i])\n",
    "    for i in range(0,36):\n",
    "        df_i = pd.DataFrame()\n",
    "        idx = []\n",
    "        for n in range(0,s[i]):\n",
    "            if isinstance(strain_df.loc[n], pd.Series):\n",
    "                continue\n",
    "            else:\n",
    "                df_i = pd.concat([df_i, strain_df.loc[n].sample(n=1)])\n",
    "        df_i[['id']] = i\n",
    "        df_i.loc[:, 'strain'] = tmp.strain.unique()[0]\n",
    "        df_i.loc[:, 'n_peak'] = n\n",
    "        train_gen = pd.concat([train_gen, df_i])        "
   ]
  },
  {
   "cell_type": "code",
   "execution_count": 419,
   "id": "3efca56e",
   "metadata": {},
   "outputs": [
    {
     "data": {
      "text/plain": [
       "(73624, 12)"
      ]
     },
     "execution_count": 419,
     "metadata": {},
     "output_type": "execute_result"
    }
   ],
   "source": [
    "train_gen.shape"
   ]
  },
  {
   "cell_type": "code",
   "execution_count": 420,
   "id": "3673032c",
   "metadata": {},
   "outputs": [],
   "source": [
    "train_gen = train_gen.groupby(['strain', 'id']).agg(list).reset_index().drop(['id'], axis = 1)\n",
    "train_gen.loc[:,'n_peak'] = train_gen.n_peak.apply(min)"
   ]
  },
  {
   "cell_type": "markdown",
   "id": "a303e395",
   "metadata": {},
   "source": [
    "Совместим оригинальных датасет и сгенерированный."
   ]
  },
  {
   "cell_type": "code",
   "execution_count": 421,
   "id": "fa790921",
   "metadata": {},
   "outputs": [],
   "source": [
    "train_df = pd.concat([train_df, train_gen[train_df.columns]])"
   ]
  },
  {
   "cell_type": "code",
   "execution_count": 422,
   "id": "d2474086",
   "metadata": {},
   "outputs": [
    {
     "data": {
      "text/plain": [
       "(1192, 11)"
      ]
     },
     "execution_count": 422,
     "metadata": {},
     "output_type": "execute_result"
    }
   ],
   "source": [
    "train_df.shape"
   ]
  },
  {
   "cell_type": "markdown",
   "id": "84e4f0ab",
   "metadata": {},
   "source": [
    "# <center> Обработка данных и генерация признаков<center>"
   ]
  },
  {
   "cell_type": "markdown",
   "id": "00a58531",
   "metadata": {},
   "source": [
    "Пример таблицы с данными по масс-спектру для одного образца"
   ]
  },
  {
   "cell_type": "code",
   "execution_count": 423,
   "id": "4c4a3f9a",
   "metadata": {},
   "outputs": [],
   "source": [
    "example = train_df[FEATURES]\\\n",
    "         .loc[(train_df.strain == 'Staphilococcus aureus_6 1006')].iloc[0]\n",
    "example = pd.DataFrame(list(example)).T\n",
    "example.columns = FEATURES"
   ]
  },
  {
   "cell_type": "code",
   "execution_count": 424,
   "id": "4c08edff",
   "metadata": {},
   "outputs": [
    {
     "data": {
      "text/html": [
       "<div>\n",
       "<style scoped>\n",
       "    .dataframe tbody tr th:only-of-type {\n",
       "        vertical-align: middle;\n",
       "    }\n",
       "\n",
       "    .dataframe tbody tr th {\n",
       "        vertical-align: top;\n",
       "    }\n",
       "\n",
       "    .dataframe thead th {\n",
       "        text-align: right;\n",
       "    }\n",
       "</style>\n",
       "<table border=\"1\" class=\"dataframe\">\n",
       "  <thead>\n",
       "    <tr style=\"text-align: right;\">\n",
       "      <th></th>\n",
       "      <th>m/z</th>\n",
       "      <th>time</th>\n",
       "      <th>Intens.</th>\n",
       "      <th>SN</th>\n",
       "      <th>Res.</th>\n",
       "      <th>Area</th>\n",
       "      <th>Rel. Intens.</th>\n",
       "      <th>FWHM</th>\n",
       "      <th>Bk. Peak</th>\n",
       "    </tr>\n",
       "  </thead>\n",
       "  <tbody>\n",
       "    <tr>\n",
       "      <th>0</th>\n",
       "      <td>2141.595860</td>\n",
       "      <td>46248.308185</td>\n",
       "      <td>1849.671417</td>\n",
       "      <td>5.023842</td>\n",
       "      <td>449.793188</td>\n",
       "      <td>13621.062834</td>\n",
       "      <td>0.084247</td>\n",
       "      <td>4.761290</td>\n",
       "      <td>0.0</td>\n",
       "    </tr>\n",
       "    <tr>\n",
       "      <th>1</th>\n",
       "      <td>2154.140758</td>\n",
       "      <td>46381.493984</td>\n",
       "      <td>1299.384644</td>\n",
       "      <td>3.529223</td>\n",
       "      <td>458.732871</td>\n",
       "      <td>9421.672911</td>\n",
       "      <td>0.059183</td>\n",
       "      <td>4.695850</td>\n",
       "      <td>0.0</td>\n",
       "    </tr>\n",
       "    <tr>\n",
       "      <th>2</th>\n",
       "      <td>2180.436755</td>\n",
       "      <td>46659.416149</td>\n",
       "      <td>1203.332001</td>\n",
       "      <td>3.317415</td>\n",
       "      <td>443.973316</td>\n",
       "      <td>9161.078120</td>\n",
       "      <td>0.054808</td>\n",
       "      <td>4.911189</td>\n",
       "      <td>0.0</td>\n",
       "    </tr>\n",
       "    <tr>\n",
       "      <th>3</th>\n",
       "      <td>2297.759326</td>\n",
       "      <td>47879.408034</td>\n",
       "      <td>1426.807159</td>\n",
       "      <td>3.967446</td>\n",
       "      <td>620.345018</td>\n",
       "      <td>9085.341876</td>\n",
       "      <td>0.064987</td>\n",
       "      <td>3.704002</td>\n",
       "      <td>0.0</td>\n",
       "    </tr>\n",
       "    <tr>\n",
       "      <th>4</th>\n",
       "      <td>2764.201381</td>\n",
       "      <td>52445.360112</td>\n",
       "      <td>1586.883118</td>\n",
       "      <td>4.470495</td>\n",
       "      <td>629.209920</td>\n",
       "      <td>12546.815080</td>\n",
       "      <td>0.072278</td>\n",
       "      <td>4.393131</td>\n",
       "      <td>0.0</td>\n",
       "    </tr>\n",
       "  </tbody>\n",
       "</table>\n",
       "</div>"
      ],
      "text/plain": [
       "           m/z          time      Intens.        SN        Res.          Area  \\\n",
       "0  2141.595860  46248.308185  1849.671417  5.023842  449.793188  13621.062834   \n",
       "1  2154.140758  46381.493984  1299.384644  3.529223  458.732871   9421.672911   \n",
       "2  2180.436755  46659.416149  1203.332001  3.317415  443.973316   9161.078120   \n",
       "3  2297.759326  47879.408034  1426.807159  3.967446  620.345018   9085.341876   \n",
       "4  2764.201381  52445.360112  1586.883118  4.470495  629.209920  12546.815080   \n",
       "\n",
       "   Rel. Intens.      FWHM  Bk. Peak  \n",
       "0      0.084247  4.761290       0.0  \n",
       "1      0.059183  4.695850       0.0  \n",
       "2      0.054808  4.911189       0.0  \n",
       "3      0.064987  3.704002       0.0  \n",
       "4      0.072278  4.393131       0.0  "
      ]
     },
     "execution_count": 424,
     "metadata": {},
     "output_type": "execute_result"
    }
   ],
   "source": [
    "example.head()"
   ]
  },
  {
   "cell_type": "code",
   "execution_count": 425,
   "id": "5720ea8b",
   "metadata": {},
   "outputs": [
    {
     "data": {
      "image/png": "[encoded data removed]",
      "text/plain": [
       "<Figure size 432x288 with 2 Axes>"
      ]
     },
     "metadata": {
      "needs_background": "light"
     },
     "output_type": "display_data"
    }
   ],
   "source": [
    "cor = example.corr()\n",
    "sns.heatmap(cor, annot=True, cmap=plt.cm.Reds)\n",
    "plt.show()"
   ]
  },
  {
   "cell_type": "code",
   "execution_count": 426,
   "id": "57e77b55",
   "metadata": {},
   "outputs": [],
   "source": [
    "## select uncorrelated features\n",
    "FEATURES = ['m/z', 'Rel. Intens.', 'Res.', 'FWHM']"
   ]
  },
  {
   "cell_type": "code",
   "execution_count": 427,
   "id": "f6ae6f45",
   "metadata": {},
   "outputs": [
    {
     "data": {
      "image/png": "[encoded data removed]",
      "text/plain": [
       "<Figure size 1440x288 with 4 Axes>"
      ]
     },
     "metadata": {
      "needs_background": "light"
     },
     "output_type": "display_data"
    }
   ],
   "source": [
    "fig, axs = plt.subplots(1,4, figsize=(20, 4))\n",
    "for features in FEATURES:\n",
    "    sns.histplot(example[features], ax = axs[FEATURES.index(features)])"
   ]
  },
  {
   "cell_type": "markdown",
   "id": "6ccfcd0b",
   "metadata": {},
   "source": [
    "Посмотрим на масс-спектры для нескольих примеров"
   ]
  },
  {
   "cell_type": "code",
   "execution_count": 428,
   "id": "5fe34686",
   "metadata": {},
   "outputs": [],
   "source": [
    "def colors_from_values(values, palette_name):\n",
    "    values = np.array(values)\n",
    "    normalized = (values - min(values)) / (max(values) - min(values))\n",
    "    indices = np.round(normalized * (len(values) - 1)).astype(np.int32)\n",
    "    palette = sns.color_palette(palette_name, len(values))\n",
    "    return np.array(palette).take(indices, axis=0)"
   ]
  },
  {
   "cell_type": "code",
   "execution_count": 429,
   "id": "fb5914a0",
   "metadata": {},
   "outputs": [
    {
     "data": {
      "image/png": "[encoded data removed]",
      "text/plain": [
       "<Figure size 1440x1440 with 3 Axes>"
      ]
     },
     "metadata": {
      "needs_background": "light"
     },
     "output_type": "display_data"
    }
   ],
   "source": [
    "fig, axs = plt.subplots(3,1, figsize=(20,20))\n",
    "strain = \"Acinetobacter baumani_64\"\n",
    "i = 0\n",
    "for ids in [2,6,8]:\n",
    "    tmp = train_df.loc[(train_df.strain == strain)].iloc[ids]\n",
    "    mz = [np.round(x, 2) for x in tmp['m/z']]\n",
    "    ax =  axs[i]\n",
    "    sns.barplot(data = tmp, x=mz, y = 'Rel. Intens.', \n",
    "                palette=colors_from_values(tmp['Res.'], 'crest'),\n",
    "                ax = ax)\n",
    "    ax.set_xticklabels(ax.get_xticklabels(), rotation=90)\n",
    "    i=i+1"
   ]
  },
  {
   "cell_type": "code",
   "execution_count": 430,
   "id": "03fdbe9d",
   "metadata": {},
   "outputs": [
    {
     "data": {
      "image/png": "[encoded data removed]",
      "text/plain": [
       "<Figure size 1440x1440 with 3 Axes>"
      ]
     },
     "metadata": {
      "needs_background": "light"
     },
     "output_type": "display_data"
    }
   ],
   "source": [
    "fig, axs = plt.subplots(3,1, figsize=(20,20))\n",
    "strain = \"Acinetobacter baumani_64\"\n",
    "i = 0\n",
    "for ids in [2,6,8]:\n",
    "    tmp = train_df.loc[(train_df.strain == strain)].iloc[ids]\n",
    "    mz = [np.round(x, 2) for x in tmp['m/z']]\n",
    "    ax =  axs[i]\n",
    "    sns.barplot(data = tmp, x=mz, y = 'Res.', \n",
    "                palette=colors_from_values(tmp['Res.'], 'crest'),\n",
    "                ax = ax)\n",
    "    ax.set_xticklabels(ax.get_xticklabels(), rotation=90)\n",
    "    i=i+1"
   ]
  },
  {
   "cell_type": "markdown",
   "id": "70ecffa1",
   "metadata": {},
   "source": [
    "Создаим спектры, которые удобно сравнитвать между собой в виде векторов в фиксированом диапазоне, и уберем необходимость использовать переменную \"m/z\"."
   ]
  },
  {
   "cell_type": "code",
   "execution_count": 431,
   "id": "c44c68ee",
   "metadata": {},
   "outputs": [
    {
     "data": {
      "text/plain": [
       "(2040.804289776974, 17241.93492389016)"
      ]
     },
     "execution_count": 431,
     "metadata": {},
     "output_type": "execute_result"
    }
   ],
   "source": [
    "# орпеделим диапазон парамтеров\n",
    "min(train_df['m/z'].apply(min)), max(train_df['m/z'].apply(max))"
   ]
  },
  {
   "cell_type": "code",
   "execution_count": 432,
   "id": "bff807e6",
   "metadata": {},
   "outputs": [],
   "source": [
    "def create_speactr(mz, intens):\n",
    "    spec = []\n",
    "    for i in range(200, 1750):\n",
    "        if i in mz:\n",
    "            spec.append(intens[mz.index(i)])\n",
    "        else:\n",
    "            spec.append(0)\n",
    "    return spec"
   ]
  },
  {
   "cell_type": "code",
   "execution_count": 433,
   "id": "6399146f",
   "metadata": {},
   "outputs": [],
   "source": [
    "def prepocess_data(data):\n",
    "    data['mz'] = data['m/z'].apply(lambda x: [int(x_i // 10) for x_i in x])\n",
    "    data['intens'] = data.apply(lambda d: create_speactr(d['mz'], d['Rel. Intens.']),\n",
    "                           axis = 1)\n",
    "    data['res'] = data.apply(lambda d: create_speactr(d['mz'], d['Res.']),\n",
    "                           axis = 1)\n",
    "    data['fwhm'] = data.apply(lambda d: create_speactr(d['mz'], d['FWHM']),\n",
    "                           axis = 1)\n",
    "    return data"
   ]
  },
  {
   "cell_type": "code",
   "execution_count": 434,
   "id": "42b9fae4",
   "metadata": {},
   "outputs": [],
   "source": [
    "train_df = prepocess_data(train_df)"
   ]
  },
  {
   "cell_type": "markdown",
   "id": "b0380cc3",
   "metadata": {},
   "source": [
    "Перемешаем данные, чтобы классы не шли по порядку"
   ]
  },
  {
   "cell_type": "code",
   "execution_count": 435,
   "id": "00cea8d4",
   "metadata": {},
   "outputs": [],
   "source": [
    "train_df = train_df.sample(frac=1).reset_index(drop=True)"
   ]
  },
  {
   "cell_type": "code",
   "execution_count": 436,
   "id": "072a55c0",
   "metadata": {},
   "outputs": [
    {
     "data": {
      "image/png": "[encoded data removed]",
      "text/plain": [
       "<Figure size 432x288 with 1 Axes>"
      ]
     },
     "metadata": {
      "needs_background": "light"
     },
     "output_type": "display_data"
    }
   ],
   "source": [
    "sample = train_df.iloc[0]\n",
    "x = sample['Res.']\n",
    "y = sample['m/z']\n",
    "plt.scatter(x, y)\n",
    "plt.show()"
   ]
  },
  {
   "cell_type": "code",
   "execution_count": 437,
   "id": "c9817385",
   "metadata": {},
   "outputs": [],
   "source": [
    "train_df = train_df.drop(['time', 'Intens.', 'SN', 'Area', 'Bk. Peak', 'm/z'], axis = 1)\n",
    "#FEATURES = ['m/z', 'Rel. Intens.', 'Res.', 'FWHM']"
   ]
  },
  {
   "cell_type": "code",
   "execution_count": 438,
   "id": "628f650a",
   "metadata": {},
   "outputs": [
    {
     "data": {
      "text/html": [
       "<div>\n",
       "<style scoped>\n",
       "    .dataframe tbody tr th:only-of-type {\n",
       "        vertical-align: middle;\n",
       "    }\n",
       "\n",
       "    .dataframe tbody tr th {\n",
       "        vertical-align: top;\n",
       "    }\n",
       "\n",
       "    .dataframe thead th {\n",
       "        text-align: right;\n",
       "    }\n",
       "</style>\n",
       "<table border=\"1\" class=\"dataframe\">\n",
       "  <thead>\n",
       "    <tr style=\"text-align: right;\">\n",
       "      <th></th>\n",
       "      <th>strain</th>\n",
       "      <th>Res.</th>\n",
       "      <th>Rel. Intens.</th>\n",
       "      <th>FWHM</th>\n",
       "      <th>n_peak</th>\n",
       "      <th>mz</th>\n",
       "      <th>intens</th>\n",
       "      <th>res</th>\n",
       "      <th>fwhm</th>\n",
       "    </tr>\n",
       "  </thead>\n",
       "  <tbody>\n",
       "    <tr>\n",
       "      <th>0</th>\n",
       "      <td>Acinetobacter baumani_74</td>\n",
       "      <td>[441.2736138914918, 639.5660463797733, 642.902...</td>\n",
       "      <td>[0.01991703520105712, 0.02577962270799574, 0.0...</td>\n",
       "      <td>[4.831851697459115, 4.048543893202805, 4.36623...</td>\n",
       "      <td>66</td>\n",
       "      <td>[213, 258, 280, 283, 287, 288, 374, 416, 374, ...</td>\n",
       "      <td>[0, 0, 0, 0, 0, 0, 0, 0, 0, 0, 0, 0, 0, 0.0199...</td>\n",
       "      <td>[0, 0, 0, 0, 0, 0, 0, 0, 0, 0, 0, 0, 0, 441.27...</td>\n",
       "      <td>[0, 0, 0, 0, 0, 0, 0, 0, 0, 0, 0, 0, 0, 4.8318...</td>\n",
       "    </tr>\n",
       "    <tr>\n",
       "      <th>1</th>\n",
       "      <td>Staphilococcus aureus_16</td>\n",
       "      <td>[492.5176486867362, 460.9403747144156, 466.431...</td>\n",
       "      <td>[0.05513128473376375, 0.08155730291103787, 0.2...</td>\n",
       "      <td>[4.20461798056931, 4.577402556961715, 4.592603...</td>\n",
       "      <td>89</td>\n",
       "      <td>[207, 210, 214, 215, 216, 218, 221, 221, 224, ...</td>\n",
       "      <td>[0, 0, 0, 0, 0, 0, 0, 0.05513128473376375, 0, ...</td>\n",
       "      <td>[0, 0, 0, 0, 0, 0, 0, 492.5176486867362, 0, 0,...</td>\n",
       "      <td>[0, 0, 0, 0, 0, 0, 0, 4.20461798056931, 0, 0, ...</td>\n",
       "    </tr>\n",
       "  </tbody>\n",
       "</table>\n",
       "</div>"
      ],
      "text/plain": [
       "                     strain  \\\n",
       "0  Acinetobacter baumani_74   \n",
       "1  Staphilococcus aureus_16   \n",
       "\n",
       "                                                Res.  \\\n",
       "0  [441.2736138914918, 639.5660463797733, 642.902...   \n",
       "1  [492.5176486867362, 460.9403747144156, 466.431...   \n",
       "\n",
       "                                        Rel. Intens.  \\\n",
       "0  [0.01991703520105712, 0.02577962270799574, 0.0...   \n",
       "1  [0.05513128473376375, 0.08155730291103787, 0.2...   \n",
       "\n",
       "                                                FWHM  n_peak  \\\n",
       "0  [4.831851697459115, 4.048543893202805, 4.36623...      66   \n",
       "1  [4.20461798056931, 4.577402556961715, 4.592603...      89   \n",
       "\n",
       "                                                  mz  \\\n",
       "0  [213, 258, 280, 283, 287, 288, 374, 416, 374, ...   \n",
       "1  [207, 210, 214, 215, 216, 218, 221, 221, 224, ...   \n",
       "\n",
       "                                              intens  \\\n",
       "0  [0, 0, 0, 0, 0, 0, 0, 0, 0, 0, 0, 0, 0, 0.0199...   \n",
       "1  [0, 0, 0, 0, 0, 0, 0, 0.05513128473376375, 0, ...   \n",
       "\n",
       "                                                 res  \\\n",
       "0  [0, 0, 0, 0, 0, 0, 0, 0, 0, 0, 0, 0, 0, 441.27...   \n",
       "1  [0, 0, 0, 0, 0, 0, 0, 492.5176486867362, 0, 0,...   \n",
       "\n",
       "                                                fwhm  \n",
       "0  [0, 0, 0, 0, 0, 0, 0, 0, 0, 0, 0, 0, 0, 4.8318...  \n",
       "1  [0, 0, 0, 0, 0, 0, 0, 4.20461798056931, 0, 0, ...  "
      ]
     },
     "execution_count": 438,
     "metadata": {},
     "output_type": "execute_result"
    }
   ],
   "source": [
    "train_df.head(2)"
   ]
  },
  {
   "cell_type": "code",
   "execution_count": 439,
   "id": "ab778c8f",
   "metadata": {},
   "outputs": [],
   "source": [
    "train_df.loc[:,'FWHM_mean'] = train_df['FWHM'].agg(lambda a : np.mean(a))\n",
    "train_df.loc[ : , 'mz_mean'] = train_df['mz'].agg(lambda a : np.mean(a))"
   ]
  },
  {
   "cell_type": "code",
   "execution_count": 440,
   "id": "78682875",
   "metadata": {
    "scrolled": true
   },
   "outputs": [
    {
     "data": {
      "text/html": [
       "<div>\n",
       "<style scoped>\n",
       "    .dataframe tbody tr th:only-of-type {\n",
       "        vertical-align: middle;\n",
       "    }\n",
       "\n",
       "    .dataframe tbody tr th {\n",
       "        vertical-align: top;\n",
       "    }\n",
       "\n",
       "    .dataframe thead th {\n",
       "        text-align: right;\n",
       "    }\n",
       "</style>\n",
       "<table border=\"1\" class=\"dataframe\">\n",
       "  <thead>\n",
       "    <tr style=\"text-align: right;\">\n",
       "      <th></th>\n",
       "      <th>strain</th>\n",
       "      <th>Res.</th>\n",
       "      <th>Rel. Intens.</th>\n",
       "      <th>FWHM</th>\n",
       "      <th>n_peak</th>\n",
       "      <th>mz</th>\n",
       "      <th>intens</th>\n",
       "      <th>res</th>\n",
       "      <th>fwhm</th>\n",
       "      <th>FWHM_mean</th>\n",
       "      <th>mz_mean</th>\n",
       "    </tr>\n",
       "  </thead>\n",
       "  <tbody>\n",
       "    <tr>\n",
       "      <th>0</th>\n",
       "      <td>Acinetobacter baumani_74</td>\n",
       "      <td>[441.2736138914918, 639.5660463797733, 642.902...</td>\n",
       "      <td>[0.01991703520105712, 0.02577962270799574, 0.0...</td>\n",
       "      <td>[4.831851697459115, 4.048543893202805, 4.36623...</td>\n",
       "      <td>66</td>\n",
       "      <td>[213, 258, 280, 283, 287, 288, 374, 416, 374, ...</td>\n",
       "      <td>[0, 0, 0, 0, 0, 0, 0, 0, 0, 0, 0, 0, 0, 0.0199...</td>\n",
       "      <td>[0, 0, 0, 0, 0, 0, 0, 0, 0, 0, 0, 0, 0, 441.27...</td>\n",
       "      <td>[0, 0, 0, 0, 0, 0, 0, 0, 0, 0, 0, 0, 0, 4.8318...</td>\n",
       "      <td>10.322872</td>\n",
       "      <td>825.253731</td>\n",
       "    </tr>\n",
       "    <tr>\n",
       "      <th>1</th>\n",
       "      <td>Staphilococcus aureus_16</td>\n",
       "      <td>[492.5176486867362, 460.9403747144156, 466.431...</td>\n",
       "      <td>[0.05513128473376375, 0.08155730291103787, 0.2...</td>\n",
       "      <td>[4.20461798056931, 4.577402556961715, 4.592603...</td>\n",
       "      <td>89</td>\n",
       "      <td>[207, 210, 214, 215, 216, 218, 221, 221, 224, ...</td>\n",
       "      <td>[0, 0, 0, 0, 0, 0, 0, 0.05513128473376375, 0, ...</td>\n",
       "      <td>[0, 0, 0, 0, 0, 0, 0, 492.5176486867362, 0, 0,...</td>\n",
       "      <td>[0, 0, 0, 0, 0, 0, 0, 4.20461798056931, 0, 0, ...</td>\n",
       "      <td>6.876620</td>\n",
       "      <td>525.722222</td>\n",
       "    </tr>\n",
       "  </tbody>\n",
       "</table>\n",
       "</div>"
      ],
      "text/plain": [
       "                     strain  \\\n",
       "0  Acinetobacter baumani_74   \n",
       "1  Staphilococcus aureus_16   \n",
       "\n",
       "                                                Res.  \\\n",
       "0  [441.2736138914918, 639.5660463797733, 642.902...   \n",
       "1  [492.5176486867362, 460.9403747144156, 466.431...   \n",
       "\n",
       "                                        Rel. Intens.  \\\n",
       "0  [0.01991703520105712, 0.02577962270799574, 0.0...   \n",
       "1  [0.05513128473376375, 0.08155730291103787, 0.2...   \n",
       "\n",
       "                                                FWHM  n_peak  \\\n",
       "0  [4.831851697459115, 4.048543893202805, 4.36623...      66   \n",
       "1  [4.20461798056931, 4.577402556961715, 4.592603...      89   \n",
       "\n",
       "                                                  mz  \\\n",
       "0  [213, 258, 280, 283, 287, 288, 374, 416, 374, ...   \n",
       "1  [207, 210, 214, 215, 216, 218, 221, 221, 224, ...   \n",
       "\n",
       "                                              intens  \\\n",
       "0  [0, 0, 0, 0, 0, 0, 0, 0, 0, 0, 0, 0, 0, 0.0199...   \n",
       "1  [0, 0, 0, 0, 0, 0, 0, 0.05513128473376375, 0, ...   \n",
       "\n",
       "                                                 res  \\\n",
       "0  [0, 0, 0, 0, 0, 0, 0, 0, 0, 0, 0, 0, 0, 441.27...   \n",
       "1  [0, 0, 0, 0, 0, 0, 0, 492.5176486867362, 0, 0,...   \n",
       "\n",
       "                                                fwhm  FWHM_mean     mz_mean  \n",
       "0  [0, 0, 0, 0, 0, 0, 0, 0, 0, 0, 0, 0, 0, 4.8318...  10.322872  825.253731  \n",
       "1  [0, 0, 0, 0, 0, 0, 0, 4.20461798056931, 0, 0, ...   6.876620  525.722222  "
      ]
     },
     "execution_count": 440,
     "metadata": {},
     "output_type": "execute_result"
    }
   ],
   "source": [
    "train_df.head(2)"
   ]
  },
  {
   "cell_type": "code",
   "execution_count": 441,
   "id": "ac4dd1bc",
   "metadata": {},
   "outputs": [
    {
     "data": {
      "image/png": "[encoded data removed]",
      "text/plain": [
       "<Figure size 432x288 with 2 Axes>"
      ]
     },
     "metadata": {
      "needs_background": "light"
     },
     "output_type": "display_data"
    }
   ],
   "source": [
    "#train_df.groupby('strain').agg({'mz_mean' : lambda a : np.mean(a)})\n",
    "FEATURES_list = ['Res.', 'Rel. Intens.', 'FWHM', 'mz', 'intens']\n",
    "\n",
    "example = train_df[FEATURES_list]\\\n",
    "         .loc[(train_df.strain == 'Staphilococcus aureus_6 1006')].iloc[0]\n",
    "example = pd.DataFrame(list(example)).T\n",
    "example.columns = FEATURES_list\n",
    "\n",
    "cor = example.corr()\n",
    "sns.heatmap(cor, annot=True, cmap=plt.cm.Reds)\n",
    "plt.show()"
   ]
  },
  {
   "cell_type": "code",
   "execution_count": 442,
   "id": "2772c330",
   "metadata": {},
   "outputs": [
    {
     "data": {
      "image/png": "[encoded data removed]",
      "text/plain": [
       "<Figure size 432x288 with 2 Axes>"
      ]
     },
     "metadata": {
      "needs_background": "light"
     },
     "output_type": "display_data"
    }
   ],
   "source": [
    "cor = train_df[['n_peak', 'FWHM_mean', 'mz_mean']].corr()\n",
    "sns.heatmap(cor, annot=True, cmap=plt.cm.Reds)\n",
    "plt.show()"
   ]
  },
  {
   "cell_type": "markdown",
   "id": "bba52e38",
   "metadata": {},
   "source": [
    "# <center> Обучение моделей <center>"
   ]
  },
  {
   "cell_type": "markdown",
   "id": "19211f4b",
   "metadata": {},
   "source": [
    "Разобьем выборку на валидационную и тренировочную так, чтобы хотя бы один пример из каждого класса присутствавал\n",
    "в валидаицонной выборке. После разбиения уберем два класса из тренировочный выборки, чтобы можно было определить их \n",
    "как 'new'."
   ]
  },
  {
   "cell_type": "markdown",
   "id": "735bcf6b",
   "metadata": {},
   "source": [
    "_Note_:  рекомендуем рассмотреть разные вариатны разбиения на тренировочную и валидационную выборку для определения оптиматльных парпамтеров. "
   ]
  },
  {
   "cell_type": "code",
   "execution_count": 443,
   "id": "b1a65dca",
   "metadata": {},
   "outputs": [],
   "source": [
    "np.random.seed(142)\n",
    "val_ds = pd.DataFrame()\n",
    "train_ds = pd.DataFrame()\n",
    "for strain in train_df.strain.unique():\n",
    "    n = np.random.randint(1,4)\n",
    "    ids = random.sample(list(train_df.loc[train_df.strain == strain].index), n)\n",
    "    val_ds = pd.concat([val_ds, train_df.loc[ids]])\n",
    "    train_ids = list(set(train_df.loc[train_df.strain == strain].index) - set(ids))\n",
    "    train_ds = pd.concat([train_ds, train_df.loc[train_ids]])\n",
    "    "
   ]
  },
  {
   "cell_type": "code",
   "execution_count": 444,
   "id": "86c5717b",
   "metadata": {},
   "outputs": [
    {
     "data": {
      "text/plain": [
       "((54, 11), (1138, 11))"
      ]
     },
     "execution_count": 444,
     "metadata": {},
     "output_type": "execute_result"
    }
   ],
   "source": [
    "val_ds.shape, train_ds.shape"
   ]
  },
  {
   "cell_type": "code",
   "execution_count": 445,
   "id": "62503053",
   "metadata": {},
   "outputs": [
    {
     "data": {
      "text/plain": [
       "['Acinetobacter baumani_64', 'Pseudomonas fluorescence_965']"
      ]
     },
     "execution_count": 445,
     "metadata": {},
     "output_type": "execute_result"
    }
   ],
   "source": [
    "random.seed(111)\n",
    "val_strain = random.sample(sorted(list(val_ds.strain.unique())), 2)\n",
    "val_strain"
   ]
  },
  {
   "cell_type": "code",
   "execution_count": 446,
   "id": "f025a0f5",
   "metadata": {},
   "outputs": [],
   "source": [
    "train_ds = train_ds[~train_ds.strain.isin(val_strain)]"
   ]
  },
  {
   "cell_type": "code",
   "execution_count": 447,
   "id": "3961d9f7",
   "metadata": {},
   "outputs": [],
   "source": [
    "val_ds.loc[:,'target'] = val_ds.strain\n",
    "val_ds.loc[val_ds.strain.isin(val_strain),'target'] = 'new'"
   ]
  },
  {
   "cell_type": "code",
   "execution_count": 448,
   "id": "74f3dde3",
   "metadata": {},
   "outputs": [],
   "source": [
    "val_ds = val_ds.sample(frac=1)\n",
    "train_ds = train_ds.sample(frac=1)"
   ]
  },
  {
   "cell_type": "code",
   "execution_count": 449,
   "id": "eca5461e",
   "metadata": {},
   "outputs": [],
   "source": [
    "def make_x(df, col):\n",
    "    X = []\n",
    "    for i in df.index:\n",
    "        row = df.loc[i,col]\n",
    "        #print(row)\n",
    "        X.append(np.array(row))\n",
    "    return np.array(X)"
   ]
  },
  {
   "cell_type": "markdown",
   "id": "4c55c0c3",
   "metadata": {},
   "source": [
    "## Многоклассовый классификатор"
   ]
  },
  {
   "cell_type": "code",
   "execution_count": 450,
   "id": "498a0ce3",
   "metadata": {},
   "outputs": [
    {
     "data": {
      "text/html": [
       "<div>\n",
       "<style scoped>\n",
       "    .dataframe tbody tr th:only-of-type {\n",
       "        vertical-align: middle;\n",
       "    }\n",
       "\n",
       "    .dataframe tbody tr th {\n",
       "        vertical-align: top;\n",
       "    }\n",
       "\n",
       "    .dataframe thead th {\n",
       "        text-align: right;\n",
       "    }\n",
       "</style>\n",
       "<table border=\"1\" class=\"dataframe\">\n",
       "  <thead>\n",
       "    <tr style=\"text-align: right;\">\n",
       "      <th></th>\n",
       "      <th>strain</th>\n",
       "      <th>Res.</th>\n",
       "      <th>Rel. Intens.</th>\n",
       "      <th>FWHM</th>\n",
       "      <th>n_peak</th>\n",
       "      <th>mz</th>\n",
       "      <th>intens</th>\n",
       "      <th>res</th>\n",
       "      <th>fwhm</th>\n",
       "      <th>FWHM_mean</th>\n",
       "      <th>mz_mean</th>\n",
       "    </tr>\n",
       "  </thead>\n",
       "  <tbody>\n",
       "    <tr>\n",
       "      <th>632</th>\n",
       "      <td>Staphilococcus aureus_19 MRSA</td>\n",
       "      <td>[580.7225608719237, 445.3126677261632, 554.348...</td>\n",
       "      <td>[0.0889914644187017, 0.1175756384825702, 0.056...</td>\n",
       "      <td>[3.690517090488356, 4.839323964513824, 3.90595...</td>\n",
       "      <td>81</td>\n",
       "      <td>[214, 215, 216, 218, 224, 224, 282, 234, 233, ...</td>\n",
       "      <td>[0, 0, 0, 0, 0, 0, 0, 0, 0, 0, 0, 0, 0, 0, 0.0...</td>\n",
       "      <td>[0, 0, 0, 0, 0, 0, 0, 0, 0, 0, 0, 0, 0, 0, 580...</td>\n",
       "      <td>[0, 0, 0, 0, 0, 0, 0, 0, 0, 0, 0, 0, 0, 0, 3.6...</td>\n",
       "      <td>8.112104</td>\n",
       "      <td>580.804878</td>\n",
       "    </tr>\n",
       "    <tr>\n",
       "      <th>345</th>\n",
       "      <td>Staphilococcus aureus_11 K817</td>\n",
       "      <td>[658.6625613925063, 492.4047700025939, 570.440...</td>\n",
       "      <td>[0.05292183011910705, 0.2054538143062064, 0.08...</td>\n",
       "      <td>[3.144420382225234, 4.349986575908588, 3.77596...</td>\n",
       "      <td>78</td>\n",
       "      <td>[207, 214, 215, 216, 218, 218, 229, 251, 275, ...</td>\n",
       "      <td>[0, 0, 0, 0, 0, 0, 0, 0.05292183011910705, 0, ...</td>\n",
       "      <td>[0, 0, 0, 0, 0, 0, 0, 658.6625613925063, 0, 0,...</td>\n",
       "      <td>[0, 0, 0, 0, 0, 0, 0, 3.144420382225234, 0, 0,...</td>\n",
       "      <td>7.163089</td>\n",
       "      <td>532.051282</td>\n",
       "    </tr>\n",
       "  </tbody>\n",
       "</table>\n",
       "</div>"
      ],
      "text/plain": [
       "                            strain  \\\n",
       "632  Staphilococcus aureus_19 MRSA   \n",
       "345  Staphilococcus aureus_11 K817   \n",
       "\n",
       "                                                  Res.  \\\n",
       "632  [580.7225608719237, 445.3126677261632, 554.348...   \n",
       "345  [658.6625613925063, 492.4047700025939, 570.440...   \n",
       "\n",
       "                                          Rel. Intens.  \\\n",
       "632  [0.0889914644187017, 0.1175756384825702, 0.056...   \n",
       "345  [0.05292183011910705, 0.2054538143062064, 0.08...   \n",
       "\n",
       "                                                  FWHM  n_peak  \\\n",
       "632  [3.690517090488356, 4.839323964513824, 3.90595...      81   \n",
       "345  [3.144420382225234, 4.349986575908588, 3.77596...      78   \n",
       "\n",
       "                                                    mz  \\\n",
       "632  [214, 215, 216, 218, 224, 224, 282, 234, 233, ...   \n",
       "345  [207, 214, 215, 216, 218, 218, 229, 251, 275, ...   \n",
       "\n",
       "                                                intens  \\\n",
       "632  [0, 0, 0, 0, 0, 0, 0, 0, 0, 0, 0, 0, 0, 0, 0.0...   \n",
       "345  [0, 0, 0, 0, 0, 0, 0, 0.05292183011910705, 0, ...   \n",
       "\n",
       "                                                   res  \\\n",
       "632  [0, 0, 0, 0, 0, 0, 0, 0, 0, 0, 0, 0, 0, 0, 580...   \n",
       "345  [0, 0, 0, 0, 0, 0, 0, 658.6625613925063, 0, 0,...   \n",
       "\n",
       "                                                  fwhm  FWHM_mean     mz_mean  \n",
       "632  [0, 0, 0, 0, 0, 0, 0, 0, 0, 0, 0, 0, 0, 0, 3.6...   8.112104  580.804878  \n",
       "345  [0, 0, 0, 0, 0, 0, 0, 3.144420382225234, 0, 0,...   7.163089  532.051282  "
      ]
     },
     "execution_count": 450,
     "metadata": {},
     "output_type": "execute_result"
    }
   ],
   "source": [
    "train_ds.head(2)"
   ]
  },
  {
   "cell_type": "code",
   "execution_count": 451,
   "id": "c6b3c834",
   "metadata": {},
   "outputs": [],
   "source": [
    "X = make_x(train_ds, col='intens')\n",
    "X = np.hstack((X, make_x(train_ds, col='res')))\n",
    "X = np.hstack((X, make_x(train_ds, col='fwhm')))\n",
    "y = np.array(train_ds['strain'])"
   ]
  },
  {
   "cell_type": "markdown",
   "id": "a35bbdc6",
   "metadata": {},
   "source": [
    "**Проверим градиентный бустинг**"
   ]
  },
  {
   "cell_type": "code",
   "execution_count": 452,
   "id": "a96ea4a2",
   "metadata": {},
   "outputs": [],
   "source": [
    "params = {\n",
    "    'loss' : ['log_loss', 'deviance', 'exponential'],\n",
    "    'learning_rate' : [0.01, 0.1],\n",
    "    'criterion' : ['friedman_mse', 'squared_error', 'mse'],\n",
    "    'max_depth' : [4]\n",
    "}"
   ]
  },
  {
   "cell_type": "code",
   "execution_count": 453,
   "id": "8bc8448d",
   "metadata": {},
   "outputs": [],
   "source": [
    "from sklearn.ensemble import GradientBoostingClassifier"
   ]
  },
  {
   "cell_type": "code",
   "execution_count": 454,
   "id": "ff364977",
   "metadata": {},
   "outputs": [
    {
     "data": {
      "text/html": [
       "<style>#sk-container-id-17 {color: black;background-color: white;}#sk-container-id-17 pre{padding: 0;}#sk-container-id-17 div.sk-toggleable {background-color: white;}#sk-container-id-17 label.sk-toggleable__label {cursor: pointer;display: block;width: 100%;margin-bottom: 0;padding: 0.3em;box-sizing: border-box;text-align: center;}#sk-container-id-17 label.sk-toggleable__label-arrow:before {content: \"▸\";float: left;margin-right: 0.25em;color: #696969;}#sk-container-id-17 label.sk-toggleable__label-arrow:hover:before {color: black;}#sk-container-id-17 div.sk-estimator:hover label.sk-toggleable__label-arrow:before {color: black;}#sk-container-id-17 div.sk-toggleable__content {max-height: 0;max-width: 0;overflow: hidden;text-align: left;background-color: #f0f8ff;}#sk-container-id-17 div.sk-toggleable__content pre {margin: 0.2em;color: black;border-radius: 0.25em;background-color: #f0f8ff;}#sk-container-id-17 input.sk-toggleable__control:checked~div.sk-toggleable__content {max-height: 200px;max-width: 100%;overflow: auto;}#sk-container-id-17 input.sk-toggleable__control:checked~label.sk-toggleable__label-arrow:before {content: \"▾\";}#sk-container-id-17 div.sk-estimator input.sk-toggleable__control:checked~label.sk-toggleable__label {background-color: #d4ebff;}#sk-container-id-17 div.sk-label input.sk-toggleable__control:checked~label.sk-toggleable__label {background-color: #d4ebff;}#sk-container-id-17 input.sk-hidden--visually {border: 0;clip: rect(1px 1px 1px 1px);clip: rect(1px, 1px, 1px, 1px);height: 1px;margin: -1px;overflow: hidden;padding: 0;position: absolute;width: 1px;}#sk-container-id-17 div.sk-estimator {font-family: monospace;background-color: #f0f8ff;border: 1px dotted black;border-radius: 0.25em;box-sizing: border-box;margin-bottom: 0.5em;}#sk-container-id-17 div.sk-estimator:hover {background-color: #d4ebff;}#sk-container-id-17 div.sk-parallel-item::after {content: \"\";width: 100%;border-bottom: 1px solid gray;flex-grow: 1;}#sk-container-id-17 div.sk-label:hover label.sk-toggleable__label {background-color: #d4ebff;}#sk-container-id-17 div.sk-serial::before {content: \"\";position: absolute;border-left: 1px solid gray;box-sizing: border-box;top: 0;bottom: 0;left: 50%;z-index: 0;}#sk-container-id-17 div.sk-serial {display: flex;flex-direction: column;align-items: center;background-color: white;padding-right: 0.2em;padding-left: 0.2em;position: relative;}#sk-container-id-17 div.sk-item {position: relative;z-index: 1;}#sk-container-id-17 div.sk-parallel {display: flex;align-items: stretch;justify-content: center;background-color: white;position: relative;}#sk-container-id-17 div.sk-item::before, #sk-container-id-17 div.sk-parallel-item::before {content: \"\";position: absolute;border-left: 1px solid gray;box-sizing: border-box;top: 0;bottom: 0;left: 50%;z-index: -1;}#sk-container-id-17 div.sk-parallel-item {display: flex;flex-direction: column;z-index: 1;position: relative;background-color: white;}#sk-container-id-17 div.sk-parallel-item:first-child::after {align-self: flex-end;width: 50%;}#sk-container-id-17 div.sk-parallel-item:last-child::after {align-self: flex-start;width: 50%;}#sk-container-id-17 div.sk-parallel-item:only-child::after {width: 0;}#sk-container-id-17 div.sk-dashed-wrapped {border: 1px dashed gray;margin: 0 0.4em 0.5em 0.4em;box-sizing: border-box;padding-bottom: 0.4em;background-color: white;}#sk-container-id-17 div.sk-label label {font-family: monospace;font-weight: bold;display: inline-block;line-height: 1.2em;}#sk-container-id-17 div.sk-label-container {text-align: center;}#sk-container-id-17 div.sk-container {/* jupyter's `normalize.less` sets `[hidden] { display: none; }` but bootstrap.min.css set `[hidden] { display: none !important; }` so we also need the `!important` here to be able to override the default hidden behavior on the sphinx rendered scikit-learn.org. See: https://github.com/scikit-learn/scikit-learn/issues/21755 */display: inline-block !important;position: relative;}#sk-container-id-17 div.sk-text-repr-fallback {display: none;}</style><div id=\"sk-container-id-17\" class=\"sk-top-container\"><div class=\"sk-text-repr-fallback\"><pre>GradientBoostingClassifier(criterion=&#x27;squared_error&#x27;)</pre><b>In a Jupyter environment, please rerun this cell to show the HTML representation or trust the notebook. <br />On GitHub, the HTML representation is unable to render, please try loading this page with nbviewer.org.</b></div><div class=\"sk-container\" hidden><div class=\"sk-item\"><div class=\"sk-estimator sk-toggleable\"><input class=\"sk-toggleable__control sk-hidden--visually\" id=\"sk-estimator-id-27\" type=\"checkbox\" checked><label for=\"sk-estimator-id-27\" class=\"sk-toggleable__label sk-toggleable__label-arrow\">GradientBoostingClassifier</label><div class=\"sk-toggleable__content\"><pre>GradientBoostingClassifier(criterion=&#x27;squared_error&#x27;)</pre></div></div></div></div></div>"
      ],
      "text/plain": [
       "GradientBoostingClassifier(criterion='squared_error')"
      ]
     },
     "execution_count": 454,
     "metadata": {},
     "output_type": "execute_result"
    }
   ],
   "source": [
    "#from sklearn.ensemble import GradientBoostingClassifier\n",
    "#mod = GradientBoostingClassifier()\n",
    "#model = GridSearchCV(mod, params)\n",
    "model = GradientBoostingClassifier(learning_rate=0.1, loss = 'log_loss', criterion = 'squared_error', max_depth=3)\n",
    "model.fit(X, y)"
   ]
  },
  {
   "cell_type": "code",
   "execution_count": 455,
   "id": "c0f357ee",
   "metadata": {},
   "outputs": [
    {
     "data": {
      "text/plain": [
       "\"\\n{'criterion': 'squared_error',\\n 'learning_rate': 0.1,\\n 'loss': 'log_loss',\\n 'max_depth': 4}\\n\""
      ]
     },
     "execution_count": 455,
     "metadata": {},
     "output_type": "execute_result"
    }
   ],
   "source": [
    "#model.best_params_\n",
    "'''\n",
    "{'criterion': 'squared_error',\n",
    " 'learning_rate': 0.1,\n",
    " 'loss': 'log_loss',\n",
    " 'max_depth': 4}\n",
    "'''"
   ]
  },
  {
   "cell_type": "code",
   "execution_count": 456,
   "id": "3c5a0887",
   "metadata": {},
   "outputs": [
    {
     "data": {
      "text/plain": [
       "0.9295238095238096"
      ]
     },
     "execution_count": 456,
     "metadata": {},
     "output_type": "execute_result"
    }
   ],
   "source": [
    "X_pred = make_x(val_ds, col='intens')\n",
    "X_pred = np.hstack((X_pred, make_x(val_ds, col='res')))\n",
    "X_pred = np.hstack((X_pred, make_x(val_ds, col='fwhm')))\n",
    "val_ds.loc[:,'class_name'] = model.predict(X_pred)\n",
    "val_ds.loc[:,'class_name_proba'] =  np.max(model.predict_proba(np.array(X_pred)), axis = 1)\n",
    "# посмотрим на качестов модели, то выделения новых классов\n",
    "f1_score(val_ds.class_name, val_ds.target, average='macro')"
   ]
  },
  {
   "cell_type": "code",
   "execution_count": 457,
   "id": "b9e8a5b1",
   "metadata": {},
   "outputs": [
    {
     "data": {
      "text/plain": [
       "(array([1., 0., 0., 0., 0., 0., 0., 0., 0., 1.]),\n",
       " array([0.75229566, 0.77044777, 0.78859987, 0.80675198, 0.82490409,\n",
       "        0.84305619, 0.8612083 , 0.8793604 , 0.89751251, 0.91566462,\n",
       "        0.93381672]),\n",
       " <BarContainer object of 10 artists>)"
      ]
     },
     "execution_count": 457,
     "metadata": {},
     "output_type": "execute_result"
    },
    {
     "data": {
      "image/png": "[encoded data removed]",
      "text/plain": [
       "<Figure size 432x288 with 1 Axes>"
      ]
     },
     "metadata": {
      "needs_background": "light"
     },
     "output_type": "display_data"
    }
   ],
   "source": [
    "plt.hist(val_ds.loc[val_ds.target != 'new'].class_name_proba)\n",
    "plt.hist(val_ds.loc[val_ds.target == 'new'].class_name_proba)"
   ]
  },
  {
   "cell_type": "code",
   "execution_count": 458,
   "id": "4942dfae",
   "metadata": {},
   "outputs": [
    {
     "data": {
      "text/plain": [
       "0.9295238095238096"
      ]
     },
     "execution_count": 458,
     "metadata": {},
     "output_type": "execute_result"
    }
   ],
   "source": [
    "val_ds.loc[val_ds.class_name_proba < 0.2,'class_name'] = 'new'\n",
    "f1_score(val_ds.class_name, val_ds.target, average='macro')"
   ]
  },
  {
   "cell_type": "code",
   "execution_count": 459,
   "id": "f94a3ba8",
   "metadata": {},
   "outputs": [],
   "source": [
    "#model = SVC(gamma='auto', kernel='sigmoid', probability=True)\n",
    "#clf = make_pipeline(StandardScaler(), model)\n",
    "#clf.fit(X, y)"
   ]
  },
  {
   "cell_type": "markdown",
   "id": "37ddbe9a",
   "metadata": {},
   "source": [
    "**Проверим случайный лес**"
   ]
  },
  {
   "cell_type": "code",
   "execution_count": 460,
   "id": "4a04e5b1",
   "metadata": {},
   "outputs": [],
   "source": [
    "from sklearn.ensemble import RandomForestClassifier"
   ]
  },
  {
   "cell_type": "code",
   "execution_count": 461,
   "id": "6b397b05",
   "metadata": {},
   "outputs": [
    {
     "data": {
      "text/plain": [
       "{'criterion': 'gini'}"
      ]
     },
     "execution_count": 461,
     "metadata": {},
     "output_type": "execute_result"
    }
   ],
   "source": [
    "params = {\n",
    "    'criterion' : ['gini', 'entropy', 'log_loss']\n",
    "}\n",
    "{'criterion': 'gini'}"
   ]
  },
  {
   "cell_type": "code",
   "execution_count": 462,
   "id": "5793fcbd",
   "metadata": {},
   "outputs": [
    {
     "data": {
      "text/html": [
       "<style>#sk-container-id-18 {color: black;background-color: white;}#sk-container-id-18 pre{padding: 0;}#sk-container-id-18 div.sk-toggleable {background-color: white;}#sk-container-id-18 label.sk-toggleable__label {cursor: pointer;display: block;width: 100%;margin-bottom: 0;padding: 0.3em;box-sizing: border-box;text-align: center;}#sk-container-id-18 label.sk-toggleable__label-arrow:before {content: \"▸\";float: left;margin-right: 0.25em;color: #696969;}#sk-container-id-18 label.sk-toggleable__label-arrow:hover:before {color: black;}#sk-container-id-18 div.sk-estimator:hover label.sk-toggleable__label-arrow:before {color: black;}#sk-container-id-18 div.sk-toggleable__content {max-height: 0;max-width: 0;overflow: hidden;text-align: left;background-color: #f0f8ff;}#sk-container-id-18 div.sk-toggleable__content pre {margin: 0.2em;color: black;border-radius: 0.25em;background-color: #f0f8ff;}#sk-container-id-18 input.sk-toggleable__control:checked~div.sk-toggleable__content {max-height: 200px;max-width: 100%;overflow: auto;}#sk-container-id-18 input.sk-toggleable__control:checked~label.sk-toggleable__label-arrow:before {content: \"▾\";}#sk-container-id-18 div.sk-estimator input.sk-toggleable__control:checked~label.sk-toggleable__label {background-color: #d4ebff;}#sk-container-id-18 div.sk-label input.sk-toggleable__control:checked~label.sk-toggleable__label {background-color: #d4ebff;}#sk-container-id-18 input.sk-hidden--visually {border: 0;clip: rect(1px 1px 1px 1px);clip: rect(1px, 1px, 1px, 1px);height: 1px;margin: -1px;overflow: hidden;padding: 0;position: absolute;width: 1px;}#sk-container-id-18 div.sk-estimator {font-family: monospace;background-color: #f0f8ff;border: 1px dotted black;border-radius: 0.25em;box-sizing: border-box;margin-bottom: 0.5em;}#sk-container-id-18 div.sk-estimator:hover {background-color: #d4ebff;}#sk-container-id-18 div.sk-parallel-item::after {content: \"\";width: 100%;border-bottom: 1px solid gray;flex-grow: 1;}#sk-container-id-18 div.sk-label:hover label.sk-toggleable__label {background-color: #d4ebff;}#sk-container-id-18 div.sk-serial::before {content: \"\";position: absolute;border-left: 1px solid gray;box-sizing: border-box;top: 0;bottom: 0;left: 50%;z-index: 0;}#sk-container-id-18 div.sk-serial {display: flex;flex-direction: column;align-items: center;background-color: white;padding-right: 0.2em;padding-left: 0.2em;position: relative;}#sk-container-id-18 div.sk-item {position: relative;z-index: 1;}#sk-container-id-18 div.sk-parallel {display: flex;align-items: stretch;justify-content: center;background-color: white;position: relative;}#sk-container-id-18 div.sk-item::before, #sk-container-id-18 div.sk-parallel-item::before {content: \"\";position: absolute;border-left: 1px solid gray;box-sizing: border-box;top: 0;bottom: 0;left: 50%;z-index: -1;}#sk-container-id-18 div.sk-parallel-item {display: flex;flex-direction: column;z-index: 1;position: relative;background-color: white;}#sk-container-id-18 div.sk-parallel-item:first-child::after {align-self: flex-end;width: 50%;}#sk-container-id-18 div.sk-parallel-item:last-child::after {align-self: flex-start;width: 50%;}#sk-container-id-18 div.sk-parallel-item:only-child::after {width: 0;}#sk-container-id-18 div.sk-dashed-wrapped {border: 1px dashed gray;margin: 0 0.4em 0.5em 0.4em;box-sizing: border-box;padding-bottom: 0.4em;background-color: white;}#sk-container-id-18 div.sk-label label {font-family: monospace;font-weight: bold;display: inline-block;line-height: 1.2em;}#sk-container-id-18 div.sk-label-container {text-align: center;}#sk-container-id-18 div.sk-container {/* jupyter's `normalize.less` sets `[hidden] { display: none; }` but bootstrap.min.css set `[hidden] { display: none !important; }` so we also need the `!important` here to be able to override the default hidden behavior on the sphinx rendered scikit-learn.org. See: https://github.com/scikit-learn/scikit-learn/issues/21755 */display: inline-block !important;position: relative;}#sk-container-id-18 div.sk-text-repr-fallback {display: none;}</style><div id=\"sk-container-id-18\" class=\"sk-top-container\"><div class=\"sk-text-repr-fallback\"><pre>GridSearchCV(estimator=RandomForestClassifier(),\n",
       "             param_grid={&#x27;criterion&#x27;: [&#x27;gini&#x27;, &#x27;entropy&#x27;, &#x27;log_loss&#x27;]})</pre><b>In a Jupyter environment, please rerun this cell to show the HTML representation or trust the notebook. <br />On GitHub, the HTML representation is unable to render, please try loading this page with nbviewer.org.</b></div><div class=\"sk-container\" hidden><div class=\"sk-item sk-dashed-wrapped\"><div class=\"sk-label-container\"><div class=\"sk-label sk-toggleable\"><input class=\"sk-toggleable__control sk-hidden--visually\" id=\"sk-estimator-id-28\" type=\"checkbox\" ><label for=\"sk-estimator-id-28\" class=\"sk-toggleable__label sk-toggleable__label-arrow\">GridSearchCV</label><div class=\"sk-toggleable__content\"><pre>GridSearchCV(estimator=RandomForestClassifier(),\n",
       "             param_grid={&#x27;criterion&#x27;: [&#x27;gini&#x27;, &#x27;entropy&#x27;, &#x27;log_loss&#x27;]})</pre></div></div></div><div class=\"sk-parallel\"><div class=\"sk-parallel-item\"><div class=\"sk-item\"><div class=\"sk-label-container\"><div class=\"sk-label sk-toggleable\"><input class=\"sk-toggleable__control sk-hidden--visually\" id=\"sk-estimator-id-29\" type=\"checkbox\" ><label for=\"sk-estimator-id-29\" class=\"sk-toggleable__label sk-toggleable__label-arrow\">estimator: RandomForestClassifier</label><div class=\"sk-toggleable__content\"><pre>RandomForestClassifier()</pre></div></div></div><div class=\"sk-serial\"><div class=\"sk-item\"><div class=\"sk-estimator sk-toggleable\"><input class=\"sk-toggleable__control sk-hidden--visually\" id=\"sk-estimator-id-30\" type=\"checkbox\" ><label for=\"sk-estimator-id-30\" class=\"sk-toggleable__label sk-toggleable__label-arrow\">RandomForestClassifier</label><div class=\"sk-toggleable__content\"><pre>RandomForestClassifier()</pre></div></div></div></div></div></div></div></div></div></div>"
      ],
      "text/plain": [
       "GridSearchCV(estimator=RandomForestClassifier(),\n",
       "             param_grid={'criterion': ['gini', 'entropy', 'log_loss']})"
      ]
     },
     "execution_count": 462,
     "metadata": {},
     "output_type": "execute_result"
    }
   ],
   "source": [
    "mod = RandomForestClassifier()\n",
    "model = GridSearchCV(mod, params)\n",
    "#model = GradientBoostingClassifier(learning_rate=0.1, loss = 'log_loss', criterion = 'squared_error', max_depth=4)\n",
    "model.fit(X, y)"
   ]
  },
  {
   "cell_type": "code",
   "execution_count": 463,
   "id": "e5ff99db",
   "metadata": {},
   "outputs": [
    {
     "data": {
      "text/plain": [
       "{'criterion': 'gini'}"
      ]
     },
     "execution_count": 463,
     "metadata": {},
     "output_type": "execute_result"
    }
   ],
   "source": [
    "model.best_params_"
   ]
  },
  {
   "cell_type": "code",
   "execution_count": 464,
   "id": "88cb2806",
   "metadata": {},
   "outputs": [
    {
     "data": {
      "text/html": [
       "<style>#sk-container-id-19 {color: black;background-color: white;}#sk-container-id-19 pre{padding: 0;}#sk-container-id-19 div.sk-toggleable {background-color: white;}#sk-container-id-19 label.sk-toggleable__label {cursor: pointer;display: block;width: 100%;margin-bottom: 0;padding: 0.3em;box-sizing: border-box;text-align: center;}#sk-container-id-19 label.sk-toggleable__label-arrow:before {content: \"▸\";float: left;margin-right: 0.25em;color: #696969;}#sk-container-id-19 label.sk-toggleable__label-arrow:hover:before {color: black;}#sk-container-id-19 div.sk-estimator:hover label.sk-toggleable__label-arrow:before {color: black;}#sk-container-id-19 div.sk-toggleable__content {max-height: 0;max-width: 0;overflow: hidden;text-align: left;background-color: #f0f8ff;}#sk-container-id-19 div.sk-toggleable__content pre {margin: 0.2em;color: black;border-radius: 0.25em;background-color: #f0f8ff;}#sk-container-id-19 input.sk-toggleable__control:checked~div.sk-toggleable__content {max-height: 200px;max-width: 100%;overflow: auto;}#sk-container-id-19 input.sk-toggleable__control:checked~label.sk-toggleable__label-arrow:before {content: \"▾\";}#sk-container-id-19 div.sk-estimator input.sk-toggleable__control:checked~label.sk-toggleable__label {background-color: #d4ebff;}#sk-container-id-19 div.sk-label input.sk-toggleable__control:checked~label.sk-toggleable__label {background-color: #d4ebff;}#sk-container-id-19 input.sk-hidden--visually {border: 0;clip: rect(1px 1px 1px 1px);clip: rect(1px, 1px, 1px, 1px);height: 1px;margin: -1px;overflow: hidden;padding: 0;position: absolute;width: 1px;}#sk-container-id-19 div.sk-estimator {font-family: monospace;background-color: #f0f8ff;border: 1px dotted black;border-radius: 0.25em;box-sizing: border-box;margin-bottom: 0.5em;}#sk-container-id-19 div.sk-estimator:hover {background-color: #d4ebff;}#sk-container-id-19 div.sk-parallel-item::after {content: \"\";width: 100%;border-bottom: 1px solid gray;flex-grow: 1;}#sk-container-id-19 div.sk-label:hover label.sk-toggleable__label {background-color: #d4ebff;}#sk-container-id-19 div.sk-serial::before {content: \"\";position: absolute;border-left: 1px solid gray;box-sizing: border-box;top: 0;bottom: 0;left: 50%;z-index: 0;}#sk-container-id-19 div.sk-serial {display: flex;flex-direction: column;align-items: center;background-color: white;padding-right: 0.2em;padding-left: 0.2em;position: relative;}#sk-container-id-19 div.sk-item {position: relative;z-index: 1;}#sk-container-id-19 div.sk-parallel {display: flex;align-items: stretch;justify-content: center;background-color: white;position: relative;}#sk-container-id-19 div.sk-item::before, #sk-container-id-19 div.sk-parallel-item::before {content: \"\";position: absolute;border-left: 1px solid gray;box-sizing: border-box;top: 0;bottom: 0;left: 50%;z-index: -1;}#sk-container-id-19 div.sk-parallel-item {display: flex;flex-direction: column;z-index: 1;position: relative;background-color: white;}#sk-container-id-19 div.sk-parallel-item:first-child::after {align-self: flex-end;width: 50%;}#sk-container-id-19 div.sk-parallel-item:last-child::after {align-self: flex-start;width: 50%;}#sk-container-id-19 div.sk-parallel-item:only-child::after {width: 0;}#sk-container-id-19 div.sk-dashed-wrapped {border: 1px dashed gray;margin: 0 0.4em 0.5em 0.4em;box-sizing: border-box;padding-bottom: 0.4em;background-color: white;}#sk-container-id-19 div.sk-label label {font-family: monospace;font-weight: bold;display: inline-block;line-height: 1.2em;}#sk-container-id-19 div.sk-label-container {text-align: center;}#sk-container-id-19 div.sk-container {/* jupyter's `normalize.less` sets `[hidden] { display: none; }` but bootstrap.min.css set `[hidden] { display: none !important; }` so we also need the `!important` here to be able to override the default hidden behavior on the sphinx rendered scikit-learn.org. See: https://github.com/scikit-learn/scikit-learn/issues/21755 */display: inline-block !important;position: relative;}#sk-container-id-19 div.sk-text-repr-fallback {display: none;}</style><div id=\"sk-container-id-19\" class=\"sk-top-container\"><div class=\"sk-text-repr-fallback\"><pre>RandomForestClassifier()</pre><b>In a Jupyter environment, please rerun this cell to show the HTML representation or trust the notebook. <br />On GitHub, the HTML representation is unable to render, please try loading this page with nbviewer.org.</b></div><div class=\"sk-container\" hidden><div class=\"sk-item\"><div class=\"sk-estimator sk-toggleable\"><input class=\"sk-toggleable__control sk-hidden--visually\" id=\"sk-estimator-id-31\" type=\"checkbox\" checked><label for=\"sk-estimator-id-31\" class=\"sk-toggleable__label sk-toggleable__label-arrow\">RandomForestClassifier</label><div class=\"sk-toggleable__content\"><pre>RandomForestClassifier()</pre></div></div></div></div></div>"
      ],
      "text/plain": [
       "RandomForestClassifier()"
      ]
     },
     "execution_count": 464,
     "metadata": {},
     "output_type": "execute_result"
    }
   ],
   "source": [
    "model = RandomForestClassifier(criterion='gini')\n",
    "model.fit(X,y)"
   ]
  },
  {
   "cell_type": "code",
   "execution_count": 465,
   "id": "d44da559",
   "metadata": {},
   "outputs": [
    {
     "data": {
      "text/plain": [
       "0.9485714285714286"
      ]
     },
     "execution_count": 465,
     "metadata": {},
     "output_type": "execute_result"
    }
   ],
   "source": [
    "X_pred = make_x(val_ds, col='intens')\n",
    "X_pred = np.hstack((X_pred, make_x(val_ds, col='res')))\n",
    "X_pred = np.hstack((X_pred, make_x(val_ds, col='fwhm')))\n",
    "\n",
    "val_ds.loc[:,'class_name'] = model.predict(X_pred)\n",
    "val_ds.loc[:,'class_name_proba'] =  np.max(model.predict_proba(np.array(X_pred)), axis = 1)\n",
    "# посмотрим на качестов модели, то выделения новых классов\n",
    "f1_score(val_ds.class_name, val_ds.target, average='macro')"
   ]
  },
  {
   "cell_type": "code",
   "execution_count": 466,
   "id": "7a1231ab",
   "metadata": {},
   "outputs": [
    {
     "data": {
      "text/plain": [
       "(array([1., 0., 0., 0., 0., 0., 0., 0., 0., 1.]),\n",
       " array([0.28 , 0.292, 0.304, 0.316, 0.328, 0.34 , 0.352, 0.364, 0.376,\n",
       "        0.388, 0.4  ]),\n",
       " <BarContainer object of 10 artists>)"
      ]
     },
     "execution_count": 466,
     "metadata": {},
     "output_type": "execute_result"
    },
    {
     "data": {
      "image/png": "[encoded data removed]",
      "text/plain": [
       "<Figure size 432x288 with 1 Axes>"
      ]
     },
     "metadata": {
      "needs_background": "light"
     },
     "output_type": "display_data"
    }
   ],
   "source": [
    "plt.hist(val_ds.loc[val_ds.target != 'new'].class_name_proba)\n",
    "plt.hist(val_ds.loc[val_ds.target == 'new'].class_name_proba)"
   ]
  },
  {
   "cell_type": "code",
   "execution_count": 467,
   "id": "7309303e",
   "metadata": {},
   "outputs": [
    {
     "data": {
      "text/plain": [
       "0.9485714285714286"
      ]
     },
     "execution_count": 467,
     "metadata": {},
     "output_type": "execute_result"
    }
   ],
   "source": [
    "val_ds.loc[val_ds.class_name_proba < 0.2,'class_name'] = 'new'\n",
    "f1_score(val_ds.class_name, val_ds.target, average='macro')"
   ]
  },
  {
   "cell_type": "markdown",
   "id": "b2d2d34e",
   "metadata": {},
   "source": [
    "### проверяем качество модели на валидационной выборке"
   ]
  },
  {
   "cell_type": "code",
   "execution_count": 468,
   "id": "08e106cd",
   "metadata": {},
   "outputs": [],
   "source": [
    "X = make_x(train_ds, col='intens')\n",
    "X = np.hstack((X, make_x(train_ds, col='res')))\n",
    "X = np.hstack((X, make_x(train_ds, col='fwhm')))\n",
    "\n",
    "X_pred = make_x(val_ds, col='intens')\n",
    "X_pred = np.hstack((X_pred, make_x(val_ds, col='res')))\n",
    "X_pred = np.hstack((X_pred, make_x(val_ds, col='fwhm')))"
   ]
  },
  {
   "cell_type": "code",
   "execution_count": 469,
   "id": "5e72ff56",
   "metadata": {},
   "outputs": [],
   "source": [
    "val_ds.loc[:,'class_name'] = model.predict(X_pred)\n",
    "val_ds.loc[:,'class_name_proba'] =  np.max(model.predict_proba(np.array(X_pred)), axis = 1)"
   ]
  },
  {
   "cell_type": "code",
   "execution_count": 470,
   "id": "c816f2df",
   "metadata": {},
   "outputs": [
    {
     "data": {
      "text/plain": [
       "0.9485714285714286"
      ]
     },
     "execution_count": 470,
     "metadata": {},
     "output_type": "execute_result"
    }
   ],
   "source": [
    "# посмотрим на качестов модели, то выделения новых классов\n",
    "f1_score(val_ds.class_name, val_ds.target, average='macro')"
   ]
  },
  {
   "cell_type": "markdown",
   "id": "a92a7034",
   "metadata": {},
   "source": [
    "Новые классы будем орпеделять по вероятности определения класса"
   ]
  },
  {
   "cell_type": "code",
   "execution_count": 471,
   "id": "24b6224c",
   "metadata": {},
   "outputs": [
    {
     "data": {
      "text/plain": [
       "(array([1., 0., 0., 0., 0., 0., 0., 0., 0., 1.]),\n",
       " array([0.28 , 0.292, 0.304, 0.316, 0.328, 0.34 , 0.352, 0.364, 0.376,\n",
       "        0.388, 0.4  ]),\n",
       " <BarContainer object of 10 artists>)"
      ]
     },
     "execution_count": 471,
     "metadata": {},
     "output_type": "execute_result"
    },
    {
     "data": {
      "image/png": "[encoded data removed]",
      "text/plain": [
       "<Figure size 432x288 with 1 Axes>"
      ]
     },
     "metadata": {
      "needs_background": "light"
     },
     "output_type": "display_data"
    }
   ],
   "source": [
    "plt.hist(val_ds.loc[val_ds.target != 'new'].class_name_proba)\n",
    "plt.hist(val_ds.loc[val_ds.target == 'new'].class_name_proba)"
   ]
  },
  {
   "cell_type": "code",
   "execution_count": 472,
   "id": "99d861b4",
   "metadata": {},
   "outputs": [],
   "source": [
    "val_ds.loc[val_ds.class_name_proba < 0.2,'class_name'] = 'new'"
   ]
  },
  {
   "cell_type": "code",
   "execution_count": 473,
   "id": "181d6f6b",
   "metadata": {},
   "outputs": [
    {
     "data": {
      "text/plain": [
       "0.9485714285714286"
      ]
     },
     "execution_count": 473,
     "metadata": {},
     "output_type": "execute_result"
    }
   ],
   "source": [
    "f1_score(val_ds.class_name, val_ds.target, average='macro')"
   ]
  },
  {
   "cell_type": "markdown",
   "id": "a02f06c0",
   "metadata": {},
   "source": [
    "Как мы видим, после добавления метки 'new' значение метрики возрасло"
   ]
  },
  {
   "cell_type": "markdown",
   "id": "e3fb9f05",
   "metadata": {},
   "source": [
    "### сохранение модели"
   ]
  },
  {
   "cell_type": "markdown",
   "id": "e23553da",
   "metadata": {},
   "source": [
    "переобучим модель на всей тренировочной выборке, так как мы исключали классы для валидации"
   ]
  },
  {
   "cell_type": "code",
   "execution_count": 43,
   "id": "0befa0d4",
   "metadata": {},
   "outputs": [
    {
     "data": {
      "text/plain": [
       "Pipeline(steps=[('standardscaler', StandardScaler()),\n",
       "                ('svc', SVC(gamma='auto', kernel='sigmoid', probability=True))])"
      ]
     },
     "execution_count": 43,
     "metadata": {},
     "output_type": "execute_result"
    }
   ],
   "source": [
    "X = make_x(train_df, col='intens')\n",
    "y = np.array(train_df['strain'])\n",
    "model = SVC(gamma='auto', kernel='sigmoid', probability=True)\n",
    "clf = make_pipeline(StandardScaler(), model)\n",
    "clf.fit(X, y)"
   ]
  },
  {
   "cell_type": "code",
   "execution_count": 44,
   "id": "254d16d4",
   "metadata": {},
   "outputs": [],
   "source": [
    "swmPickle = open('models/baseline_clf.pkl', 'wb') \n",
    "pickle.dump(clf, swmPickle)   "
   ]
  },
  {
   "cell_type": "markdown",
   "id": "ede60c41",
   "metadata": {},
   "source": [
    "## Набор бинарных классификатров для каждого тарегта"
   ]
  },
  {
   "cell_type": "code",
   "execution_count": 474,
   "id": "732afa40",
   "metadata": {},
   "outputs": [],
   "source": [
    "X = make_x(train_ds, col='intens')\n",
    "X = np.hstack((X, make_x(train_ds, col='res')))\n",
    "X = np.hstack((X, make_x(train_ds, col='fwhm')))\n",
    "\n",
    "X_pred = make_x(val_ds, col='intens')\n",
    "X_pred = np.hstack((X_pred, make_x(val_ds, col='res')))\n",
    "X_pred = np.hstack((X_pred, make_x(val_ds, col='fwhm')))"
   ]
  },
  {
   "cell_type": "code",
   "execution_count": 475,
   "id": "6c181b15",
   "metadata": {},
   "outputs": [],
   "source": [
    "# делаем бинарных тарегет для каждого класса\n",
    "Y = []\n",
    "for strain in train_ds.strain.unique():\n",
    "    Y.append(np.array(train_ds.strain == strain))"
   ]
  },
  {
   "cell_type": "code",
   "execution_count": 476,
   "id": "082f8cd7",
   "metadata": {},
   "outputs": [],
   "source": [
    "# сохраняем порядок классов\n",
    "class_order = train_ds.strain.unique()"
   ]
  },
  {
   "cell_type": "markdown",
   "id": "9447cd06",
   "metadata": {},
   "source": [
    "так как негативных примеров для каждого таргета в разы больше положительных, оставим в выборке только примеры в соотношении 3:1 (негативные:положительные)"
   ]
  },
  {
   "cell_type": "code",
   "execution_count": 477,
   "id": "d1c750fd",
   "metadata": {},
   "outputs": [],
   "source": [
    "res = []\n",
    "for i,y in enumerate(Y):\n",
    "    idx_pos = np.where(y ==True)[0]\n",
    "    idx_neg = np.where(y == False)[0]\n",
    "    random.shuffle(idx_neg)\n",
    "    idx = sorted(np.concatenate((idx_pos,idx_neg[:3*len(idx_pos)])))\n",
    "    \n",
    "    model = RandomForestClassifier()\n",
    "    clf = make_pipeline(StandardScaler(), model)\n",
    "    clf.fit(X[idx,:], y[idx])\n",
    "    res.append(clf.predict_proba(X_pred)[:,1])"
   ]
  },
  {
   "cell_type": "markdown",
   "id": "79794141",
   "metadata": {},
   "source": [
    "### проверяем качество модели на валидационной выборке"
   ]
  },
  {
   "cell_type": "code",
   "execution_count": 478,
   "id": "4e92972f",
   "metadata": {},
   "outputs": [],
   "source": [
    "res = np.array(res).T"
   ]
  },
  {
   "cell_type": "code",
   "execution_count": 479,
   "id": "3288967f",
   "metadata": {},
   "outputs": [],
   "source": [
    "# выбираем класс с наибльшей вероятностью или ставим 0, если веротяность меньше 0.5\n",
    "class_name = []\n",
    "for res_i in res:\n",
    "    if max(res_i) > 0.5:\n",
    "        class_name.append(class_order[np.where(res_i == max(res_i))[0]].item())\n",
    "    else:\n",
    "        class_name.append('new')"
   ]
  },
  {
   "cell_type": "code",
   "execution_count": 480,
   "id": "e4c3715a",
   "metadata": {},
   "outputs": [],
   "source": [
    "val_ds.loc[:,'class_name'] = class_name"
   ]
  },
  {
   "cell_type": "code",
   "execution_count": 481,
   "id": "d0173335",
   "metadata": {},
   "outputs": [
    {
     "data": {
      "text/plain": [
       "0.980952380952381"
      ]
     },
     "execution_count": 481,
     "metadata": {},
     "output_type": "execute_result"
    }
   ],
   "source": [
    "f1_score(val_ds.class_name, val_ds.target, average='macro')"
   ]
  },
  {
   "cell_type": "markdown",
   "id": "df3f5c89",
   "metadata": {},
   "source": [
    "Данная модель показала самое высокое значение метрики, поэтому берем ее как бейзлайн для данной задачи."
   ]
  },
  {
   "cell_type": "markdown",
   "id": "fc0e4573",
   "metadata": {},
   "source": [
    "### сохраняем модели"
   ]
  },
  {
   "cell_type": "code",
   "execution_count": 482,
   "id": "4e97756f",
   "metadata": {},
   "outputs": [],
   "source": [
    "# переобучаем на полной выборке\n",
    "res = []\n",
    "for i,y in enumerate(Y):\n",
    "    idx_pos = np.where(y ==True)[0]\n",
    "    idx_neg = np.where(y == False)[0]\n",
    "    random.shuffle(idx_neg)\n",
    "    idx = sorted(np.concatenate((idx_pos,idx_neg[:3*len(idx_pos)])))\n",
    "    \n",
    "    model = RandomForestClassifier()\n",
    "    clf = make_pipeline(StandardScaler(), model)\n",
    "    clf.fit(X[idx,:], y[idx])\n",
    "    # save model\n",
    "    strain = class_order[i]\n",
    "    pickle.dump(clf, open(f'sample_solution/models/baseline_clf_{strain}.pkl', 'wb'))"
   ]
  },
  {
   "cell_type": "markdown",
   "id": "2fdc8225",
   "metadata": {},
   "source": [
    "# <center> Формат решения <center>"
   ]
  },
  {
   "cell_type": "markdown",
   "id": "65eb750d",
   "metadata": {},
   "source": [
    "В проверяющую систему необходимо отправить код алгоритма, запакованный в ZIP-архив. Архив должен содержать следующие файлы: \n",
    " * solution.py -- файл с кодом запуска решения\n",
    " * models/ -- директория, где хранятся обученные модели\n",
    " * requiremnts.txt -- необходимые библиотеки для запуска решения\n",
    " * \\*.py -- вспомогательные модули\n",
    " * metadata.json  -- обязательный файл для запуска докера, который содержит название docker image и команду для расчета предсказаний (см. описание задачи)\n",
    " \n",
    "Решение должно быть реализовано в виде программы, которая на вход принимает файл `test.xlsx` и на выходе выдает CSV таблицу (`results.csv`). Файл `results.csv` должен в обязательном порядке содержать поле `class_name`  -- предсказанный класс (название штамма бактерии или метка 'new')"
   ]
  },
  {
   "cell_type": "code",
   "execution_count": null,
   "id": "e8efaac0",
   "metadata": {},
   "outputs": [],
   "source": []
  }
 ],
 "metadata": {
  "kernelspec": {
   "display_name": "Python 3 (ipykernel)",
   "language": "python",
   "name": "python3"
  },
  "language_info": {
   "codemirror_mode": {
    "name": "ipython",
    "version": 3
   },
   "file_extension": ".py",
   "mimetype": "text/x-python",
   "name": "python",
   "nbconvert_exporter": "python",
   "pygments_lexer": "ipython3",
   "version": "3.8.10"
  }
 },
 "nbformat": 4,
 "nbformat_minor": 5
}
