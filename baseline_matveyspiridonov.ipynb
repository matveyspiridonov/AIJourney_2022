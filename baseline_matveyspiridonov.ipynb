{
 "cells": [
  {
   "cell_type": "markdown",
   "id": "fe21452b",
   "metadata": {
    "pycharm": {
     "name": "#%% md\n"
    }
   },
   "source": [
    "# <center> Импорт библоиотек <center>"
   ]
  },
  {
   "cell_type": "markdown",
   "id": "963b7ecb",
   "metadata": {
    "pycharm": {
     "name": "#%% md\n"
    }
   },
   "source": [
    "*NOTE*: не забудьте соствить список библиотек, необходимых для реализации ваших решений, и представить их в файле `requirements.txt`."
   ]
  },
  {
   "cell_type": "code",
   "execution_count": 242,
   "id": "e689b078",
   "metadata": {
    "pycharm": {
     "name": "#%%\n"
    }
   },
   "outputs": [],
   "source": [
    "import pickle\n",
    "import random\n",
    "import json\n",
    "import pandas as pd\n",
    "import numpy as np\n",
    "\n",
    "import seaborn as sns\n",
    "import matplotlib.pyplot as plt\n",
    "\n",
    "from sklearn.pipeline import make_pipeline\n",
    "from sklearn.preprocessing import StandardScaler\n",
    "from sklearn.metrics import f1_score , accuracy_score"
   ]
  },
  {
   "cell_type": "code",
   "execution_count": 302,
   "outputs": [],
   "source": [
    "from sklearn.svm import SVC\n",
    "from sklearn.linear_model import LogisticRegression\n",
    "from sklearn.ensemble import RandomForestClassifier"
   ],
   "metadata": {
    "collapsed": false,
    "pycharm": {
     "name": "#%%\n"
    }
   }
  },
  {
   "cell_type": "markdown",
   "id": "88a0c54e",
   "metadata": {
    "pycharm": {
     "name": "#%% md\n"
    }
   },
   "source": [
    "# <center> Чтение данных <center>"
   ]
  },
  {
   "cell_type": "markdown",
   "id": "c6628f04",
   "metadata": {
    "pycharm": {
     "name": "#%% md\n"
    }
   },
   "source": [
    "Тренировчные данные представлены в виде файла в формате JSON. В котором верхенеуровневый ключ -- это номер образца (бакетрии). Каждый словарь по бактериям содержит название штамма и результаты масс-спектрометрического анализа, которые представлены следующими полями: масса к заряду (m/z), время (time), интенсивность пика (Intens.), разрешение (Res.), площадь пика (Area), относительная интенсивность (Rel. Intens.), ширина на полувысоте (FWHM=full width at half-maximum intensity). Каждый штамм будет представлен несколькими бактериями."
   ]
  },
  {
   "cell_type": "code",
   "execution_count": 244,
   "id": "5088ded8",
   "metadata": {
    "pycharm": {
     "name": "#%%\n"
    }
   },
   "outputs": [],
   "source": [
    "with open('train.json', 'rb') as fp:\n",
    "    train_d = json.load(fp)\n",
    "train_df = pd.DataFrame(json.loads(train_d)).T"
   ]
  },
  {
   "cell_type": "code",
   "execution_count": 245,
   "outputs": [],
   "source": [
    "with open('sample_test.json', 'rb') as fp:\n",
    "    train_d = json.load(fp)\n",
    "sample_test = pd.DataFrame(json.loads(train_d)).T"
   ],
   "metadata": {
    "collapsed": false,
    "pycharm": {
     "name": "#%%\n"
    }
   }
  },
  {
   "cell_type": "code",
   "execution_count": 246,
   "outputs": [
    {
     "data": {
      "text/plain": "((10, 9),\n                                                  m/z  \\\n 0  [2045.466540848249, 2132.653497583639, 2590.18...   \n 1  [2132.343030013472, 2589.665689659304, 2807.58...   \n 2  [2132.9758745717, 2589.792596354722, 2807.7630...   \n 3  [2132.116326307731, 2259.791983346751, 2589.75...   \n 4  [2070.45854255125, 2109.64814022531, 2142.0090...   \n \n                                                 time  \\\n 0  [45214.4742032189, 46153.13074616308, 50790.77...   \n 1  [46149.8227167185, 50785.73833364729, 52849.66...   \n 2  [46156.56541500456, 50786.96509544219, 52851.3...   \n 3  [46147.40703811593, 47488.09043544187, 50786.5...   \n 4  [45485.55461027367, 45907.35176135621, 46252.7...   \n \n                                              Intens.  \\\n 0  [809.9273376464844, 1650.626678466797, 885.306...   \n 1  [765.5713806152344, 1774.656524658203, 1401.84...   \n 2  [913.3709716796875, 1459.96533203125, 1123.716...   \n 3  [1778.195617675781, 676.5759887695312, 846.620...   \n 4  [1088.368011474609, 1083.104202270508, 4897.81...   \n \n                                                   SN  \\\n 0  [3.307462300344875, 6.750875866562922, 3.77371...   \n 1  [4.98114437775283, 11.47601768491101, 9.113094...   \n 2  [3.491870771767895, 5.615018319650876, 4.31139...   \n 3  [8.321552876040153, 3.161540102193661, 3.95552...   \n 4  [4.728715948172181, 4.782970477431381, 21.6286...   \n \n                                                 Res.  \\\n 0  [486.1978114768945, 456.0913954112432, 488.376...   \n 1  [437.1664862664098, 638.525008720227, 542.9261...   \n 2  [401.6792965480385, 659.5673515470162, 563.377...   \n 3  [433.028476922385, 456.7085008865824, 566.8036...   \n 4  [367.4409887650752, 519.7919367401588, 476.785...   \n \n                                                 Area  \\\n 0  [6073.67268651955, 11039.07237793876, 5044.569...   \n 1  [5105.448248912053, 9376.833776082165, 9107.92...   \n 2  [7080.028131184174, 7345.532820987564, 7962.63...   \n 3  [13315.63924465168, 5394.095761630351, 4673.30...   \n 4  [8904.225493956044, 5584.059399516726, 35833.3...   \n \n                                         Rel. Intens.  \\\n 0  [0.04419634176735272, 0.09007185882108179, 0.0...   \n 1  [0.02404296409037531, 0.05573353990952253, 0.0...   \n 2  [0.01547166520540898, 0.02473047154887329, 0.0...   \n 3  [0.02757845847310358, 0.01049317781727972, 0.0...   \n 4  [0.06694707756327385, 0.06662329310861334, 0.3...   \n \n                                                 FWHM  \\\n 0  [4.207066532518638, 4.675934514530127, 5.30367...   \n 1  [4.877645238143941, 4.055699705246752, 5.17121...   \n 2  [5.310146410089146, 3.926502108208297, 4.98380...   \n 3  [4.923732363887666, 4.947996323606731, 4.56904...   \n 4  [5.634805603778204, 4.058639603868869, 4.49260...   \n \n                                             Bk. Peak  \n 0  [0, 0, 0, 0, 0, 0, 0, 0, 0, 0, 0, 0, 0, 0, 0, ...  \n 1  [0, 0, 0, 0, 0, 0, 0, 0, 0, 0, 0, 0, 0, 0, 0, ...  \n 2  [0, 0, 0, 0, 0, 0, 0, 0, 0, 0, 0, 0, 0, 0, 0, ...  \n 3  [0, 0, 0, 0, 0, 0, 0, 0, 0, 0, 0, 0, 0, 0, 0, ...  \n 4  [0, 0, 0, 0, 0, 0, 0, 0, 0, 0, 0, 0, 0, 0, 0, ...  )"
     },
     "execution_count": 246,
     "metadata": {},
     "output_type": "execute_result"
    }
   ],
   "source": [
    "sample_test.shape, sample_test.head(5)"
   ],
   "metadata": {
    "collapsed": false,
    "pycharm": {
     "name": "#%%\n"
    }
   }
  },
  {
   "cell_type": "code",
   "execution_count": 247,
   "id": "4a55355a",
   "metadata": {
    "pycharm": {
     "name": "#%%\n"
    }
   },
   "outputs": [
    {
     "data": {
      "text/plain": "(256, 10)"
     },
     "execution_count": 247,
     "metadata": {},
     "output_type": "execute_result"
    }
   ],
   "source": [
    "train_df.shape"
   ]
  },
  {
   "cell_type": "code",
   "execution_count": 248,
   "outputs": [
    {
     "data": {
      "text/plain": "                            strain  \\\n0   Acinetobacter baumani_121 skin   \n1        Acinetobacter baumani_126   \n2  Acinetobacter baumani_352 blood   \n3  Acinetobacter baumani_377 blood   \n4  Acinetobacter baumani_503 blood   \n\n                                                 m/z  \\\n0  [2131.496344969094, 2259.721110106408, 2588.85...   \n1  [2132.413484429545, 2589.569703463259, 2718.11...   \n2  [2132.015451945306, 2153.878241508351, 2259.87...   \n3  [2132.20685843954, 2260.448073902672, 2718.433...   \n4  [2133.566060793301, 2590.134696892168, 2808.64...   \n\n                                                time  \\\n0  [46140.80006771147, 47487.35689905193, 50777.8...   \n1  [46150.57342911904, 50784.81044928727, 52012.3...   \n2  [46146.33211339091, 46378.71090478855, 47488.9...   \n3  [46148.3717335632, 47494.88041019896, 52015.37...   \n4  [46162.85270300643, 50790.27190934689, 52859.5...   \n\n                                             Intens.  \\\n0  [2894.089294433594, 886.8892822265625, 868.547...   \n1  [1608.209228515625, 2417.604553222656, 859.648...   \n2  [1866.973510742188, 485.8263549804688, 681.809...   \n3  [3645.139465332031, 1418.627136230469, 1589.31...   \n4  [949.0652465820312, 1905.545837402344, 1346.90...   \n\n                                                  SN  \\\n0  [10.14621708940436, 3.128197998996987, 3.13016...   \n1  [5.653855828544429, 8.654048108890505, 3.10129...   \n2  [11.83020550375331, 3.078471968396353, 4.34397...   \n3  [8.174123737158272, 3.221722550466876, 3.65418...   \n4  [3.978854975609214, 8.182117419302115, 5.82037...   \n\n                                                Res.  \\\n0  [501.3893306058393, 554.1613032118989, 570.494...   \n1  [444.1771425249818, 635.5107637820196, 483.527...   \n2  [443.8745083022766, 640.6100835523926, 544.133...   \n3  [495.2192689604989, 536.1846844978652, 538.687...   \n4  [450.3944872128542, 589.7283351657542, 579.576...   \n\n                                                Area  \\\n0  [20801.59355425023, 5168.433783919987, 5449.07...   \n1  [10814.55846969845, 12028.48312655044, 5520.91...   \n2  [12040.31060128594, 3195.814563977061, 4030.91...   \n3  [24567.31750988411, 8997.489590029167, 13940.8...   \n4  [8922.753283805023, 11711.32326221974, 9984.74...   \n\n                                        Rel. Intens.  \\\n0  [0.07505194053740191, 0.02299955353863887, 0.0...   \n1  [0.02893426423838925, 0.04349658472700257, 0.0...   \n2  [0.08492296048402985, 0.02209876685915333, 0.0...   \n3  [0.06574632118612184, 0.02558736537491051, 0.0...   \n4  [0.0366567284548468, 0.07359986741847667, 0.05...   \n\n                                                FWHM  \\\n0  [4.251180100688543, 4.077731694741487, 4.53790...   \n1  [4.800817692480905, 4.074784962023841, 5.62141...   \n2  [4.803194173280644, 3.362229688244042, 4.15316...   \n3  [4.305581369875199, 4.215801270078373, 5.04640...   \n4  [4.737105185270593, 4.392081137095374, 4.84602...   \n\n                                            Bk. Peak  \n0  [0.0, 0.0, 0.0, 0.0, 0.0, 0.0, 0.0, 0.0, 0.0, ...  \n1  [0.0, 0.0, 0.0, 0.0, 0.0, 0.0, 0.0, 0.0, 0.0, ...  \n2  [0.0, 0.0, 0.0, 0.0, 0.0, 0.0, 0.0, 0.0, 0.0, ...  \n3  [0.0, 0.0, 0.0, 0.0, 0.0, 0.0, 0.0, 0.0, 0.0, ...  \n4  [0.0, 0.0, 0.0, 0.0, 0.0, 0.0, 0.0, 0.0, 0.0, ...  ",
      "text/html": "<div>\n<style scoped>\n    .dataframe tbody tr th:only-of-type {\n        vertical-align: middle;\n    }\n\n    .dataframe tbody tr th {\n        vertical-align: top;\n    }\n\n    .dataframe thead th {\n        text-align: right;\n    }\n</style>\n<table border=\"1\" class=\"dataframe\">\n  <thead>\n    <tr style=\"text-align: right;\">\n      <th></th>\n      <th>strain</th>\n      <th>m/z</th>\n      <th>time</th>\n      <th>Intens.</th>\n      <th>SN</th>\n      <th>Res.</th>\n      <th>Area</th>\n      <th>Rel. Intens.</th>\n      <th>FWHM</th>\n      <th>Bk. Peak</th>\n    </tr>\n  </thead>\n  <tbody>\n    <tr>\n      <th>0</th>\n      <td>Acinetobacter baumani_121 skin</td>\n      <td>[2131.496344969094, 2259.721110106408, 2588.85...</td>\n      <td>[46140.80006771147, 47487.35689905193, 50777.8...</td>\n      <td>[2894.089294433594, 886.8892822265625, 868.547...</td>\n      <td>[10.14621708940436, 3.128197998996987, 3.13016...</td>\n      <td>[501.3893306058393, 554.1613032118989, 570.494...</td>\n      <td>[20801.59355425023, 5168.433783919987, 5449.07...</td>\n      <td>[0.07505194053740191, 0.02299955353863887, 0.0...</td>\n      <td>[4.251180100688543, 4.077731694741487, 4.53790...</td>\n      <td>[0.0, 0.0, 0.0, 0.0, 0.0, 0.0, 0.0, 0.0, 0.0, ...</td>\n    </tr>\n    <tr>\n      <th>1</th>\n      <td>Acinetobacter baumani_126</td>\n      <td>[2132.413484429545, 2589.569703463259, 2718.11...</td>\n      <td>[46150.57342911904, 50784.81044928727, 52012.3...</td>\n      <td>[1608.209228515625, 2417.604553222656, 859.648...</td>\n      <td>[5.653855828544429, 8.654048108890505, 3.10129...</td>\n      <td>[444.1771425249818, 635.5107637820196, 483.527...</td>\n      <td>[10814.55846969845, 12028.48312655044, 5520.91...</td>\n      <td>[0.02893426423838925, 0.04349658472700257, 0.0...</td>\n      <td>[4.800817692480905, 4.074784962023841, 5.62141...</td>\n      <td>[0.0, 0.0, 0.0, 0.0, 0.0, 0.0, 0.0, 0.0, 0.0, ...</td>\n    </tr>\n    <tr>\n      <th>2</th>\n      <td>Acinetobacter baumani_352 blood</td>\n      <td>[2132.015451945306, 2153.878241508351, 2259.87...</td>\n      <td>[46146.33211339091, 46378.71090478855, 47488.9...</td>\n      <td>[1866.973510742188, 485.8263549804688, 681.809...</td>\n      <td>[11.83020550375331, 3.078471968396353, 4.34397...</td>\n      <td>[443.8745083022766, 640.6100835523926, 544.133...</td>\n      <td>[12040.31060128594, 3195.814563977061, 4030.91...</td>\n      <td>[0.08492296048402985, 0.02209876685915333, 0.0...</td>\n      <td>[4.803194173280644, 3.362229688244042, 4.15316...</td>\n      <td>[0.0, 0.0, 0.0, 0.0, 0.0, 0.0, 0.0, 0.0, 0.0, ...</td>\n    </tr>\n    <tr>\n      <th>3</th>\n      <td>Acinetobacter baumani_377 blood</td>\n      <td>[2132.20685843954, 2260.448073902672, 2718.433...</td>\n      <td>[46148.3717335632, 47494.88041019896, 52015.37...</td>\n      <td>[3645.139465332031, 1418.627136230469, 1589.31...</td>\n      <td>[8.174123737158272, 3.221722550466876, 3.65418...</td>\n      <td>[495.2192689604989, 536.1846844978652, 538.687...</td>\n      <td>[24567.31750988411, 8997.489590029167, 13940.8...</td>\n      <td>[0.06574632118612184, 0.02558736537491051, 0.0...</td>\n      <td>[4.305581369875199, 4.215801270078373, 5.04640...</td>\n      <td>[0.0, 0.0, 0.0, 0.0, 0.0, 0.0, 0.0, 0.0, 0.0, ...</td>\n    </tr>\n    <tr>\n      <th>4</th>\n      <td>Acinetobacter baumani_503 blood</td>\n      <td>[2133.566060793301, 2590.134696892168, 2808.64...</td>\n      <td>[46162.85270300643, 50790.27190934689, 52859.5...</td>\n      <td>[949.0652465820312, 1905.545837402344, 1346.90...</td>\n      <td>[3.978854975609214, 8.182117419302115, 5.82037...</td>\n      <td>[450.3944872128542, 589.7283351657542, 579.576...</td>\n      <td>[8922.753283805023, 11711.32326221974, 9984.74...</td>\n      <td>[0.0366567284548468, 0.07359986741847667, 0.05...</td>\n      <td>[4.737105185270593, 4.392081137095374, 4.84602...</td>\n      <td>[0.0, 0.0, 0.0, 0.0, 0.0, 0.0, 0.0, 0.0, 0.0, ...</td>\n    </tr>\n  </tbody>\n</table>\n</div>"
     },
     "execution_count": 248,
     "metadata": {},
     "output_type": "execute_result"
    }
   ],
   "source": [
    "train_df.head(5)"
   ],
   "metadata": {
    "collapsed": false,
    "pycharm": {
     "name": "#%%\n"
    }
   }
  },
  {
   "cell_type": "code",
   "execution_count": 249,
   "id": "d3462a80",
   "metadata": {
    "pycharm": {
     "name": "#%%\n"
    }
   },
   "outputs": [
    {
     "data": {
      "text/plain": "                                 strain\nstrain                                 \nAcinetobacter baumani_121 skin        9\nAcinetobacter baumani_126             9\nAcinetobacter baumani_352 blood      10\nAcinetobacter baumani_377 blood      11\nAcinetobacter baumani_503 blood      11\nAcinetobacter baumani_63              9\nAcinetobacter baumani_64             11\nAcinetobacter baumani_73             10\nAcinetobacter baumani_74             11\nPseudomonas aeruginosa_XXX           11\nPseudomonas fluorescence_965         11\nPseudomonas spp_467                   8\nStaphilococcus aureus_1 949           8\nStaphilococcus aureus_1027 q         10\nStaphilococcus aureus_11 K817        11\nStaphilococcus aureus_12 K457        11\nStaphilococcus aureus_15             11\nStaphilococcus aureus_16              9\nStaphilococcus aureus_19 MRSA        11\nStaphilococcus aureus_3 1027          8\nStaphilococcus aureus_4 948          10\nStaphilococcus aureus_6 1006         10\nStaphilococcus aureus_7 941           9\nStaphilococcus aureus_8 942           9\nStaphilococcus aureus_9 963          10\nStaphilococcus aureus_K160            8",
      "text/html": "<div>\n<style scoped>\n    .dataframe tbody tr th:only-of-type {\n        vertical-align: middle;\n    }\n\n    .dataframe tbody tr th {\n        vertical-align: top;\n    }\n\n    .dataframe thead th {\n        text-align: right;\n    }\n</style>\n<table border=\"1\" class=\"dataframe\">\n  <thead>\n    <tr style=\"text-align: right;\">\n      <th></th>\n      <th>strain</th>\n    </tr>\n    <tr>\n      <th>strain</th>\n      <th></th>\n    </tr>\n  </thead>\n  <tbody>\n    <tr>\n      <th>Acinetobacter baumani_121 skin</th>\n      <td>9</td>\n    </tr>\n    <tr>\n      <th>Acinetobacter baumani_126</th>\n      <td>9</td>\n    </tr>\n    <tr>\n      <th>Acinetobacter baumani_352 blood</th>\n      <td>10</td>\n    </tr>\n    <tr>\n      <th>Acinetobacter baumani_377 blood</th>\n      <td>11</td>\n    </tr>\n    <tr>\n      <th>Acinetobacter baumani_503 blood</th>\n      <td>11</td>\n    </tr>\n    <tr>\n      <th>Acinetobacter baumani_63</th>\n      <td>9</td>\n    </tr>\n    <tr>\n      <th>Acinetobacter baumani_64</th>\n      <td>11</td>\n    </tr>\n    <tr>\n      <th>Acinetobacter baumani_73</th>\n      <td>10</td>\n    </tr>\n    <tr>\n      <th>Acinetobacter baumani_74</th>\n      <td>11</td>\n    </tr>\n    <tr>\n      <th>Pseudomonas aeruginosa_XXX</th>\n      <td>11</td>\n    </tr>\n    <tr>\n      <th>Pseudomonas fluorescence_965</th>\n      <td>11</td>\n    </tr>\n    <tr>\n      <th>Pseudomonas spp_467</th>\n      <td>8</td>\n    </tr>\n    <tr>\n      <th>Staphilococcus aureus_1 949</th>\n      <td>8</td>\n    </tr>\n    <tr>\n      <th>Staphilococcus aureus_1027 q</th>\n      <td>10</td>\n    </tr>\n    <tr>\n      <th>Staphilococcus aureus_11 K817</th>\n      <td>11</td>\n    </tr>\n    <tr>\n      <th>Staphilococcus aureus_12 K457</th>\n      <td>11</td>\n    </tr>\n    <tr>\n      <th>Staphilococcus aureus_15</th>\n      <td>11</td>\n    </tr>\n    <tr>\n      <th>Staphilococcus aureus_16</th>\n      <td>9</td>\n    </tr>\n    <tr>\n      <th>Staphilococcus aureus_19 MRSA</th>\n      <td>11</td>\n    </tr>\n    <tr>\n      <th>Staphilococcus aureus_3 1027</th>\n      <td>8</td>\n    </tr>\n    <tr>\n      <th>Staphilococcus aureus_4 948</th>\n      <td>10</td>\n    </tr>\n    <tr>\n      <th>Staphilococcus aureus_6 1006</th>\n      <td>10</td>\n    </tr>\n    <tr>\n      <th>Staphilococcus aureus_7 941</th>\n      <td>9</td>\n    </tr>\n    <tr>\n      <th>Staphilococcus aureus_8 942</th>\n      <td>9</td>\n    </tr>\n    <tr>\n      <th>Staphilococcus aureus_9 963</th>\n      <td>10</td>\n    </tr>\n    <tr>\n      <th>Staphilococcus aureus_K160</th>\n      <td>8</td>\n    </tr>\n  </tbody>\n</table>\n</div>"
     },
     "execution_count": 249,
     "metadata": {},
     "output_type": "execute_result"
    }
   ],
   "source": [
    "## Посмотрим сколько классов данных и сколько примеров на каждый класс\n",
    "train_df.groupby('strain').agg({'strain': \"count\"})"
   ]
  },
  {
   "cell_type": "markdown",
   "id": "ed4df735",
   "metadata": {
    "pycharm": {
     "name": "#%% md\n"
    }
   },
   "source": [
    "Так как тренировочный набор данных не очень большой, дополним его симмулированными данными. Для этого составим дополнительные примеры из существующих. Зададим seed для воспроизводимости результатов."
   ]
  },
  {
   "cell_type": "code",
   "execution_count": 250,
   "outputs": [],
   "source": [
    "# для начала орпеделим количестов пиков в масс-спектрах\n",
    "train_df.loc[:,'n_peak'] = train_df['m/z'].apply(len)"
   ],
   "metadata": {
    "collapsed": false,
    "pycharm": {
     "name": "#%%\n"
    }
   }
  },
  {
   "cell_type": "code",
   "execution_count": 251,
   "outputs": [],
   "source": [
    "def get_dif(x):\n",
    "    return max(x) - min(x)"
   ],
   "metadata": {
    "collapsed": false,
    "pycharm": {
     "name": "#%%\n"
    }
   }
  },
  {
   "cell_type": "code",
   "execution_count": 252,
   "id": "3af3818d",
   "metadata": {
    "pycharm": {
     "name": "#%%\n"
    }
   },
   "outputs": [],
   "source": [
    "# посмотрим на сколько по количеству строк (пиков) различаются таблицы внутри каждого штамма\n",
    "peaks_dif = train_df.groupby(['strain']).agg({'n_peak': get_dif})"
   ]
  },
  {
   "cell_type": "code",
   "execution_count": 253,
   "outputs": [
    {
     "data": {
      "text/plain": "<AxesSubplot:xlabel='n_peak', ylabel='Count'>"
     },
     "execution_count": 253,
     "metadata": {},
     "output_type": "execute_result"
    },
    {
     "data": {
      "text/plain": "<Figure size 432x288 with 1 Axes>",
      "image/png": "[encoded data removed]"
     },
     "metadata": {},
     "output_type": "display_data"
    }
   ],
   "source": [
    "sns.histplot(peaks_dif.n_peak)"
   ],
   "metadata": {
    "collapsed": false,
    "pycharm": {
     "name": "#%%\n"
    }
   }
  },
  {
   "cell_type": "code",
   "execution_count": 254,
   "id": "0614273a",
   "metadata": {
    "pycharm": {
     "name": "#%%\n"
    }
   },
   "outputs": [],
   "source": [
    "# будем использовать среднюю разности для варьирвания числа пиков в сгенерированных данных\n",
    "mean_dif = int(peaks_dif.n_peak.mean()) "
   ]
  },
  {
   "cell_type": "code",
   "execution_count": 255,
   "id": "0a209010",
   "metadata": {
    "pycharm": {
     "name": "#%%\n"
    }
   },
   "outputs": [],
   "source": [
    "FEATURES = ['m/z', 'time', 'Intens.', 'SN', 'Res.', 'Area', 'Rel. Intens.', 'FWHM', 'Bk. Peak']"
   ]
  },
  {
   "cell_type": "code",
   "execution_count": 256,
   "id": "3765a513",
   "metadata": {
    "pycharm": {
     "name": "#%%\n"
    }
   },
   "outputs": [],
   "source": [
    "np.random.seed(142)\n",
    "train_gen = pd.DataFrame()\n",
    "for strain in train_df.strain.unique():\n",
    "    tmp = train_df[train_df.strain == strain]\n",
    "    n_samples = tmp.shape[0]\n",
    "    s = np.random.randint(max(tmp.n_peak) - mean_dif, max(tmp.n_peak), 20)\n",
    "    strain_df = pd.DataFrame()\n",
    "    \n",
    "    for i,sample in enumerate(tmp[FEATURES].values):\n",
    "        tmp_i = pd.DataFrame(list(sample)).T\n",
    "        tmp_i.columns = FEATURES\n",
    "        strain_df = pd.concat([ strain_df, tmp_i])\n",
    "    for i in range(0,20):\n",
    "        df_i = pd.DataFrame()\n",
    "        idx = []\n",
    "        for n in range(0,s[i]):\n",
    "            if isinstance(strain_df.loc[n], pd.Series):\n",
    "                continue\n",
    "            else:\n",
    "                df_i = pd.concat([df_i, strain_df.loc[n].sample(n=1)])\n",
    "        df_i[['id']] = i\n",
    "        df_i.loc[:, 'strain'] = tmp.strain.unique()[0]\n",
    "        df_i.loc[:, 'n_peak'] = n\n",
    "        train_gen = pd.concat([train_gen, df_i])        "
   ]
  },
  {
   "cell_type": "code",
   "execution_count": 257,
   "id": "3efca56e",
   "metadata": {
    "pycharm": {
     "name": "#%%\n"
    }
   },
   "outputs": [
    {
     "data": {
      "text/plain": "(41140, 12)"
     },
     "execution_count": 257,
     "metadata": {},
     "output_type": "execute_result"
    }
   ],
   "source": [
    "train_gen.shape"
   ]
  },
  {
   "cell_type": "code",
   "execution_count": 258,
   "outputs": [
    {
     "data": {
      "text/plain": "array(['Acinetobacter baumani_121 skin', 'Acinetobacter baumani_126',\n       'Acinetobacter baumani_352 blood',\n       'Acinetobacter baumani_377 blood',\n       'Acinetobacter baumani_503 blood', 'Acinetobacter baumani_63',\n       'Acinetobacter baumani_64', 'Acinetobacter baumani_73',\n       'Acinetobacter baumani_74', 'Pseudomonas aeruginosa_XXX',\n       'Pseudomonas fluorescence_965', 'Pseudomonas spp_467',\n       'Staphilococcus aureus_1 949', 'Staphilococcus aureus_1027 q',\n       'Staphilococcus aureus_11 K817', 'Staphilococcus aureus_12 K457',\n       'Staphilococcus aureus_15', 'Staphilococcus aureus_16',\n       'Staphilococcus aureus_19 MRSA', 'Staphilococcus aureus_3 1027',\n       'Staphilococcus aureus_4 948', 'Staphilococcus aureus_6 1006',\n       'Staphilococcus aureus_7 941', 'Staphilococcus aureus_8 942',\n       'Staphilococcus aureus_9 963', 'Staphilococcus aureus_K160'],\n      dtype=object)"
     },
     "execution_count": 258,
     "metadata": {},
     "output_type": "execute_result"
    }
   ],
   "source": [
    "train_df[\"strain\"].unique()"
   ],
   "metadata": {
    "collapsed": false,
    "pycharm": {
     "name": "#%%\n"
    }
   }
  },
  {
   "cell_type": "code",
   "execution_count": 259,
   "outputs": [],
   "source": [
    "train_gen1 = train_gen.groupby(['strain', 'id'])"
   ],
   "metadata": {
    "collapsed": false,
    "pycharm": {
     "name": "#%%\n"
    }
   }
  },
  {
   "cell_type": "code",
   "execution_count": 260,
   "outputs": [
    {
     "data": {
      "text/plain": "                             strain  \\\n0    Acinetobacter baumani_121 skin   \n1    Acinetobacter baumani_121 skin   \n2    Acinetobacter baumani_121 skin   \n3    Acinetobacter baumani_121 skin   \n4    Acinetobacter baumani_121 skin   \n..                              ...   \n515      Staphilococcus aureus_K160   \n516      Staphilococcus aureus_K160   \n517      Staphilococcus aureus_K160   \n518      Staphilococcus aureus_K160   \n519      Staphilococcus aureus_K160   \n\n                                                   m/z  \\\n0    [2131.44693706268, 2259.89647883666, 2589.3550...   \n1    [2131.636460536186, 2153.446935231046, 2830.20...   \n2    [2131.464750897199, 2589.25414937832, 2589.355...   \n3    [2131.536317465484, 2153.446935231046, 2717.18...   \n4    [2131.627236141278, 2259.721110106408, 2717.48...   \n..                                                 ...   \n515  [2045.317024367366, 2052.017658521933, 2070.33...   \n516  [2045.820275547185, 2051.167143062795, 2070.41...   \n517  [2046.160821277843, 2051.167143062795, 2069.95...   \n518  [2045.410607630293, 2050.777682700155, 2069.82...   \n519  [2045.820275547185, 2052.141462842376, 2070.42...   \n\n                                                  time  \\\n0    [46140.27349983386, 47489.17194030473, 50782.7...   \n1    [46142.29332493736, 46374.13802458277, 53059.2...   \n2    [46140.46335260339, 50781.75991313501, 50782.7...   \n3    [46141.22607263637, 46374.13802458277, 52003.6...   \n4    [46142.19501906935, 47487.35689905193, 52006.4...   \n..                                                 ...   \n515  [45212.84746596056, 45285.69187153444, 45484.1...   \n516  [45218.32259468395, 45276.45229859094, 45485.0...   \n517  [45222.02718422565, 45276.45229859094, 45480.0...   \n518  [45213.86565755113, 45272.22075598955, 45478.6...   \n519  [45218.32259468395, 45287.03665952034, 45485.1...   \n\n                                               Intens.  \\\n0    [2667.027709960938, 695.579833984375, 1001.727...   \n1    [5407.696533203125, 954.5009155273438, 1745.74...   \n2    [3627.342651367188, 1535.975463867188, 1001.72...   \n3    [1476.290405273438, 954.5009155273438, 1504.16...   \n4    [2474.227172851562, 886.8892822265625, 1862.73...   \n..                                                 ...   \n515  [1610.177124023438, 743.2478485107422, 2217.77...   \n516  [955.4886932373047, 1041.857162475586, 1085.75...   \n517  [964.8492736816406, 1041.857162475586, 1314.09...   \n518  [1513.930236816406, 1421.016479492188, 1280.21...   \n519  [955.4886932373047, 826.1461944580078, 1690.19...   \n\n                                                    SN  \\\n0    [10.73403875357084, 3.016303406416068, 4.07576...   \n1    [10.77457620055245, 3.052984798272852, 4.20436...   \n2    [8.190572217797913, 5.247291285421668, 4.07576...   \n3    [4.97244036223623, 3.052984798272852, 5.091897...   \n4    [10.65951353966629, 3.128197998996987, 3.83820...   \n..                                                 ...   \n515  [3.867461972696695, 3.408752933641981, 6.82993...   \n516  [3.607229081398068, 3.615323400371312, 4.97961...   \n517  [4.425082156342215, 3.615323400371312, 4.56001...   \n518  [4.662343219532581, 3.413119659332195, 4.39035...   \n519  [3.607229081398068, 3.118926052424916, 4.05965...   \n\n                                                  Res.  \\\n0    [503.3876906101543, 467.3407918378317, 622.322...   \n1    [470.508914261531, 574.7883278960221, 626.0552...   \n2    [499.1195818479691, 592.670385896903, 622.3224...   \n3    [486.2709576900277, 574.7883278960221, 670.025...   \n4    [530.0692050698312, 554.1613032118989, 583.808...   \n..                                                 ...   \n515  [269.8473550232061, 611.8654080421028, 585.699...   \n516  [341.6805025778662, 408.8275314214143, 492.973...   \n517  [248.7771007015212, 408.8275314214143, 485.662...   \n518  [287.7634315392957, 491.5216019269354, 441.406...   \n519  [341.6805025778662, 426.4280181512898, 490.378...   \n\n                                                  Area  \\\n0    [16467.31832742578, 4468.351038047419, 5648.07...   \n1    [38213.63845945249, 5350.40309746243, 12307.79...   \n2    [28443.91269963334, 7874.245476834947, 5648.07...   \n3    [11784.34255904453, 5350.40309746243, 7679.218...   \n4    [16806.38252233549, 5168.433783919987, 10826.0...   \n..                                                 ...   \n515  [16886.49887868643, 5076.35272177538, 14391.18...   \n516  [8974.65932911269, 7205.708938691459, 8541.956...   \n517  [10627.33488070101, 7205.708938691459, 8810.95...   \n518  [18146.77022504163, 8620.748223836516, 11339.9...   \n519  [8974.65932911269, 5426.647776628457, 14205.94...   \n\n                                          Rel. Intens.  \\\n0    [0.06302785258705716, 0.01563506895872684, 0.0...   \n1    [0.05543050311074659, 0.02122868214704491, 0.0...   \n2    [0.05769276421186779, 0.02279730485858287, 0.0...   \n3    [0.02191144534567221, 0.02122868214704491, 0.0...   \n4    [0.05561505750605028, 0.02299955353863887, 0.0...   \n..                                                 ...   \n515  [0.08819864221226346, 0.05386941474819071, 0.1...   \n516  [0.06645393127673135, 0.06725976847321746, 0.0...   \n517  [0.06993073144791707, 0.06725976847321746, 0.0...   \n518  [0.0685688292295182, 0.07783722808040425, 0.08...   \n519  [0.06645393127673135, 0.05745820209032081, 0.0...   \n\n                                                  FWHM  \\\n0    [4.23420551757863, 4.835649954607106, 4.160793...   \n1    [4.530491125512071, 3.746504288132655, 4.52069...   \n2    [4.270449063540127, 4.368792858546385, 4.16079...   \n3    [4.383433317899744, 3.746504288132655, 4.05534...   \n4    [4.021413082958588, 4.077731694741487, 4.65475...   \n..                                                 ...   \n515  [7.579533340956687, 3.353707582666175, 3.53480...   \n516  [5.987524193251148, 5.01719425776264, 4.199845...   \n517  [8.224876065795115, 5.01719425776264, 4.262115...   \n518  [7.107958772555093, 4.172304278510637, 4.68915...   \n519  [5.987524193251148, 4.812398284097526, 4.22208...   \n\n                                              Bk. Peak  \\\n0    [0.0, 0.0, 0.0, 0.0, 0.0, 0.0, 0.0, 0.0, 0.0, ...   \n1    [0.0, 0.0, 0.0, 0.0, 0.0, 0.0, 0.0, 0.0, 0.0, ...   \n2    [0.0, 0.0, 0.0, 0.0, 0.0, 0.0, 0.0, 0.0, 0.0, ...   \n3    [0.0, 0.0, 0.0, 0.0, 0.0, 0.0, 0.0, 0.0, 0.0, ...   \n4    [0.0, 0.0, 0.0, 0.0, 0.0, 0.0, 0.0, 0.0, 0.0, ...   \n..                                                 ...   \n515  [0.0, 0.0, 0.0, 0.0, 0.0, 0.0, 0.0, 0.0, 0.0, ...   \n516  [0.0, 0.0, 0.0, 0.0, 0.0, 0.0, 0.0, 0.0, 0.0, ...   \n517  [0.0, 0.0, 0.0, 0.0, 0.0, 0.0, 0.0, 0.0, 0.0, ...   \n518  [0.0, 0.0, 0.0, 0.0, 0.0, 0.0, 0.0, 0.0, 0.0, ...   \n519  [0.0, 0.0, 0.0, 0.0, 0.0, 0.0, 0.0, 0.0, 0.0, ...   \n\n                                                n_peak  \n0    [69, 69, 69, 69, 69, 69, 69, 69, 69, 69, 69, 6...  \n1    [53, 53, 53, 53, 53, 53, 53, 53, 53, 53, 53, 5...  \n2    [60, 60, 60, 60, 60, 60, 60, 60, 60, 60, 60, 6...  \n3    [61, 61, 61, 61, 61, 61, 61, 61, 61, 61, 61, 6...  \n4    [64, 64, 64, 64, 64, 64, 64, 64, 64, 64, 64, 6...  \n..                                                 ...  \n515  [89, 89, 89, 89, 89, 89, 89, 89, 89, 89, 89, 8...  \n516  [88, 88, 88, 88, 88, 88, 88, 88, 88, 88, 88, 8...  \n517  [88, 88, 88, 88, 88, 88, 88, 88, 88, 88, 88, 8...  \n518  [81, 81, 81, 81, 81, 81, 81, 81, 81, 81, 81, 8...  \n519  [90, 90, 90, 90, 90, 90, 90, 90, 90, 90, 90, 9...  \n\n[520 rows x 11 columns]",
      "text/html": "<div>\n<style scoped>\n    .dataframe tbody tr th:only-of-type {\n        vertical-align: middle;\n    }\n\n    .dataframe tbody tr th {\n        vertical-align: top;\n    }\n\n    .dataframe thead th {\n        text-align: right;\n    }\n</style>\n<table border=\"1\" class=\"dataframe\">\n  <thead>\n    <tr style=\"text-align: right;\">\n      <th></th>\n      <th>strain</th>\n      <th>m/z</th>\n      <th>time</th>\n      <th>Intens.</th>\n      <th>SN</th>\n      <th>Res.</th>\n      <th>Area</th>\n      <th>Rel. Intens.</th>\n      <th>FWHM</th>\n      <th>Bk. Peak</th>\n      <th>n_peak</th>\n    </tr>\n  </thead>\n  <tbody>\n    <tr>\n      <th>0</th>\n      <td>Acinetobacter baumani_121 skin</td>\n      <td>[2131.44693706268, 2259.89647883666, 2589.3550...</td>\n      <td>[46140.27349983386, 47489.17194030473, 50782.7...</td>\n      <td>[2667.027709960938, 695.579833984375, 1001.727...</td>\n      <td>[10.73403875357084, 3.016303406416068, 4.07576...</td>\n      <td>[503.3876906101543, 467.3407918378317, 622.322...</td>\n      <td>[16467.31832742578, 4468.351038047419, 5648.07...</td>\n      <td>[0.06302785258705716, 0.01563506895872684, 0.0...</td>\n      <td>[4.23420551757863, 4.835649954607106, 4.160793...</td>\n      <td>[0.0, 0.0, 0.0, 0.0, 0.0, 0.0, 0.0, 0.0, 0.0, ...</td>\n      <td>[69, 69, 69, 69, 69, 69, 69, 69, 69, 69, 69, 6...</td>\n    </tr>\n    <tr>\n      <th>1</th>\n      <td>Acinetobacter baumani_121 skin</td>\n      <td>[2131.636460536186, 2153.446935231046, 2830.20...</td>\n      <td>[46142.29332493736, 46374.13802458277, 53059.2...</td>\n      <td>[5407.696533203125, 954.5009155273438, 1745.74...</td>\n      <td>[10.77457620055245, 3.052984798272852, 4.20436...</td>\n      <td>[470.508914261531, 574.7883278960221, 626.0552...</td>\n      <td>[38213.63845945249, 5350.40309746243, 12307.79...</td>\n      <td>[0.05543050311074659, 0.02122868214704491, 0.0...</td>\n      <td>[4.530491125512071, 3.746504288132655, 4.52069...</td>\n      <td>[0.0, 0.0, 0.0, 0.0, 0.0, 0.0, 0.0, 0.0, 0.0, ...</td>\n      <td>[53, 53, 53, 53, 53, 53, 53, 53, 53, 53, 53, 5...</td>\n    </tr>\n    <tr>\n      <th>2</th>\n      <td>Acinetobacter baumani_121 skin</td>\n      <td>[2131.464750897199, 2589.25414937832, 2589.355...</td>\n      <td>[46140.46335260339, 50781.75991313501, 50782.7...</td>\n      <td>[3627.342651367188, 1535.975463867188, 1001.72...</td>\n      <td>[8.190572217797913, 5.247291285421668, 4.07576...</td>\n      <td>[499.1195818479691, 592.670385896903, 622.3224...</td>\n      <td>[28443.91269963334, 7874.245476834947, 5648.07...</td>\n      <td>[0.05769276421186779, 0.02279730485858287, 0.0...</td>\n      <td>[4.270449063540127, 4.368792858546385, 4.16079...</td>\n      <td>[0.0, 0.0, 0.0, 0.0, 0.0, 0.0, 0.0, 0.0, 0.0, ...</td>\n      <td>[60, 60, 60, 60, 60, 60, 60, 60, 60, 60, 60, 6...</td>\n    </tr>\n    <tr>\n      <th>3</th>\n      <td>Acinetobacter baumani_121 skin</td>\n      <td>[2131.536317465484, 2153.446935231046, 2717.18...</td>\n      <td>[46141.22607263637, 46374.13802458277, 52003.6...</td>\n      <td>[1476.290405273438, 954.5009155273438, 1504.16...</td>\n      <td>[4.97244036223623, 3.052984798272852, 5.091897...</td>\n      <td>[486.2709576900277, 574.7883278960221, 670.025...</td>\n      <td>[11784.34255904453, 5350.40309746243, 7679.218...</td>\n      <td>[0.02191144534567221, 0.02122868214704491, 0.0...</td>\n      <td>[4.383433317899744, 3.746504288132655, 4.05534...</td>\n      <td>[0.0, 0.0, 0.0, 0.0, 0.0, 0.0, 0.0, 0.0, 0.0, ...</td>\n      <td>[61, 61, 61, 61, 61, 61, 61, 61, 61, 61, 61, 6...</td>\n    </tr>\n    <tr>\n      <th>4</th>\n      <td>Acinetobacter baumani_121 skin</td>\n      <td>[2131.627236141278, 2259.721110106408, 2717.48...</td>\n      <td>[46142.19501906935, 47487.35689905193, 52006.4...</td>\n      <td>[2474.227172851562, 886.8892822265625, 1862.73...</td>\n      <td>[10.65951353966629, 3.128197998996987, 3.83820...</td>\n      <td>[530.0692050698312, 554.1613032118989, 583.808...</td>\n      <td>[16806.38252233549, 5168.433783919987, 10826.0...</td>\n      <td>[0.05561505750605028, 0.02299955353863887, 0.0...</td>\n      <td>[4.021413082958588, 4.077731694741487, 4.65475...</td>\n      <td>[0.0, 0.0, 0.0, 0.0, 0.0, 0.0, 0.0, 0.0, 0.0, ...</td>\n      <td>[64, 64, 64, 64, 64, 64, 64, 64, 64, 64, 64, 6...</td>\n    </tr>\n    <tr>\n      <th>...</th>\n      <td>...</td>\n      <td>...</td>\n      <td>...</td>\n      <td>...</td>\n      <td>...</td>\n      <td>...</td>\n      <td>...</td>\n      <td>...</td>\n      <td>...</td>\n      <td>...</td>\n      <td>...</td>\n    </tr>\n    <tr>\n      <th>515</th>\n      <td>Staphilococcus aureus_K160</td>\n      <td>[2045.317024367366, 2052.017658521933, 2070.33...</td>\n      <td>[45212.84746596056, 45285.69187153444, 45484.1...</td>\n      <td>[1610.177124023438, 743.2478485107422, 2217.77...</td>\n      <td>[3.867461972696695, 3.408752933641981, 6.82993...</td>\n      <td>[269.8473550232061, 611.8654080421028, 585.699...</td>\n      <td>[16886.49887868643, 5076.35272177538, 14391.18...</td>\n      <td>[0.08819864221226346, 0.05386941474819071, 0.1...</td>\n      <td>[7.579533340956687, 3.353707582666175, 3.53480...</td>\n      <td>[0.0, 0.0, 0.0, 0.0, 0.0, 0.0, 0.0, 0.0, 0.0, ...</td>\n      <td>[89, 89, 89, 89, 89, 89, 89, 89, 89, 89, 89, 8...</td>\n    </tr>\n    <tr>\n      <th>516</th>\n      <td>Staphilococcus aureus_K160</td>\n      <td>[2045.820275547185, 2051.167143062795, 2070.41...</td>\n      <td>[45218.32259468395, 45276.45229859094, 45485.0...</td>\n      <td>[955.4886932373047, 1041.857162475586, 1085.75...</td>\n      <td>[3.607229081398068, 3.615323400371312, 4.97961...</td>\n      <td>[341.6805025778662, 408.8275314214143, 492.973...</td>\n      <td>[8974.65932911269, 7205.708938691459, 8541.956...</td>\n      <td>[0.06645393127673135, 0.06725976847321746, 0.0...</td>\n      <td>[5.987524193251148, 5.01719425776264, 4.199845...</td>\n      <td>[0.0, 0.0, 0.0, 0.0, 0.0, 0.0, 0.0, 0.0, 0.0, ...</td>\n      <td>[88, 88, 88, 88, 88, 88, 88, 88, 88, 88, 88, 8...</td>\n    </tr>\n    <tr>\n      <th>517</th>\n      <td>Staphilococcus aureus_K160</td>\n      <td>[2046.160821277843, 2051.167143062795, 2069.95...</td>\n      <td>[45222.02718422565, 45276.45229859094, 45480.0...</td>\n      <td>[964.8492736816406, 1041.857162475586, 1314.09...</td>\n      <td>[4.425082156342215, 3.615323400371312, 4.56001...</td>\n      <td>[248.7771007015212, 408.8275314214143, 485.662...</td>\n      <td>[10627.33488070101, 7205.708938691459, 8810.95...</td>\n      <td>[0.06993073144791707, 0.06725976847321746, 0.0...</td>\n      <td>[8.224876065795115, 5.01719425776264, 4.262115...</td>\n      <td>[0.0, 0.0, 0.0, 0.0, 0.0, 0.0, 0.0, 0.0, 0.0, ...</td>\n      <td>[88, 88, 88, 88, 88, 88, 88, 88, 88, 88, 88, 8...</td>\n    </tr>\n    <tr>\n      <th>518</th>\n      <td>Staphilococcus aureus_K160</td>\n      <td>[2045.410607630293, 2050.777682700155, 2069.82...</td>\n      <td>[45213.86565755113, 45272.22075598955, 45478.6...</td>\n      <td>[1513.930236816406, 1421.016479492188, 1280.21...</td>\n      <td>[4.662343219532581, 3.413119659332195, 4.39035...</td>\n      <td>[287.7634315392957, 491.5216019269354, 441.406...</td>\n      <td>[18146.77022504163, 8620.748223836516, 11339.9...</td>\n      <td>[0.0685688292295182, 0.07783722808040425, 0.08...</td>\n      <td>[7.107958772555093, 4.172304278510637, 4.68915...</td>\n      <td>[0.0, 0.0, 0.0, 0.0, 0.0, 0.0, 0.0, 0.0, 0.0, ...</td>\n      <td>[81, 81, 81, 81, 81, 81, 81, 81, 81, 81, 81, 8...</td>\n    </tr>\n    <tr>\n      <th>519</th>\n      <td>Staphilococcus aureus_K160</td>\n      <td>[2045.820275547185, 2052.141462842376, 2070.42...</td>\n      <td>[45218.32259468395, 45287.03665952034, 45485.1...</td>\n      <td>[955.4886932373047, 826.1461944580078, 1690.19...</td>\n      <td>[3.607229081398068, 3.118926052424916, 4.05965...</td>\n      <td>[341.6805025778662, 426.4280181512898, 490.378...</td>\n      <td>[8974.65932911269, 5426.647776628457, 14205.94...</td>\n      <td>[0.06645393127673135, 0.05745820209032081, 0.0...</td>\n      <td>[5.987524193251148, 4.812398284097526, 4.22208...</td>\n      <td>[0.0, 0.0, 0.0, 0.0, 0.0, 0.0, 0.0, 0.0, 0.0, ...</td>\n      <td>[90, 90, 90, 90, 90, 90, 90, 90, 90, 90, 90, 9...</td>\n    </tr>\n  </tbody>\n</table>\n<p>520 rows × 11 columns</p>\n</div>"
     },
     "execution_count": 260,
     "metadata": {},
     "output_type": "execute_result"
    }
   ],
   "source": [
    "train_gen1.agg(list).reset_index().drop(['id'], axis = 1)"
   ],
   "metadata": {
    "collapsed": false,
    "pycharm": {
     "name": "#%%\n"
    }
   }
  },
  {
   "cell_type": "code",
   "execution_count": 261,
   "id": "3673032c",
   "metadata": {
    "pycharm": {
     "name": "#%%\n"
    }
   },
   "outputs": [],
   "source": [
    "train_gen = train_gen.groupby(['strain', 'id']).agg(list).reset_index().drop(['id'], axis = 1)\n",
    "train_gen.loc[:,'n_peak'] = train_gen.n_peak.apply(min)"
   ]
  },
  {
   "cell_type": "markdown",
   "id": "a303e395",
   "metadata": {
    "pycharm": {
     "name": "#%% md\n"
    }
   },
   "source": [
    "Совместим оригинальных датасет и сгенерированный."
   ]
  },
  {
   "cell_type": "code",
   "execution_count": 262,
   "id": "fa790921",
   "metadata": {
    "pycharm": {
     "name": "#%%\n"
    }
   },
   "outputs": [],
   "source": [
    "train_df = pd.concat([train_df, train_gen[train_df.columns]])"
   ]
  },
  {
   "cell_type": "code",
   "execution_count": 263,
   "id": "d2474086",
   "metadata": {
    "pycharm": {
     "name": "#%%\n"
    }
   },
   "outputs": [
    {
     "data": {
      "text/plain": "(776, 11)"
     },
     "execution_count": 263,
     "metadata": {},
     "output_type": "execute_result"
    }
   ],
   "source": [
    "train_df.shape"
   ]
  },
  {
   "cell_type": "markdown",
   "id": "84e4f0ab",
   "metadata": {
    "pycharm": {
     "name": "#%% md\n"
    }
   },
   "source": [
    "# <center> Обработка данных и генерация признаков<center>"
   ]
  },
  {
   "cell_type": "markdown",
   "id": "00a58531",
   "metadata": {
    "pycharm": {
     "name": "#%% md\n"
    }
   },
   "source": [
    "Пример таблицы с данными по масс-спектру для одного образца"
   ]
  },
  {
   "cell_type": "code",
   "execution_count": 264,
   "id": "4c4a3f9a",
   "metadata": {
    "pycharm": {
     "name": "#%%\n"
    }
   },
   "outputs": [],
   "source": [
    "example = train_df[FEATURES]\\\n",
    "         .loc[(train_df.strain == 'Staphilococcus aureus_6 1006')].iloc[0]\n",
    "example = pd.DataFrame(list(example)).T\n",
    "example.columns = FEATURES"
   ]
  },
  {
   "cell_type": "code",
   "execution_count": 265,
   "id": "4c08edff",
   "metadata": {
    "pycharm": {
     "name": "#%%\n"
    }
   },
   "outputs": [
    {
     "data": {
      "text/plain": "           m/z          time      Intens.        SN        Res.          Area  \\\n0  2141.595860  46248.308185  1849.671417  5.023842  449.793188  13621.062834   \n1  2154.140758  46381.493984  1299.384644  3.529223  458.732871   9421.672911   \n2  2180.436755  46659.416149  1203.332001  3.317415  443.973316   9161.078120   \n3  2297.759326  47879.408034  1426.807159  3.967446  620.345018   9085.341876   \n4  2764.201381  52445.360112  1586.883118  4.470495  629.209920  12546.815080   \n\n   Rel. Intens.      FWHM  Bk. Peak  \n0      0.084247  4.761290       0.0  \n1      0.059183  4.695850       0.0  \n2      0.054808  4.911189       0.0  \n3      0.064987  3.704002       0.0  \n4      0.072278  4.393131       0.0  ",
      "text/html": "<div>\n<style scoped>\n    .dataframe tbody tr th:only-of-type {\n        vertical-align: middle;\n    }\n\n    .dataframe tbody tr th {\n        vertical-align: top;\n    }\n\n    .dataframe thead th {\n        text-align: right;\n    }\n</style>\n<table border=\"1\" class=\"dataframe\">\n  <thead>\n    <tr style=\"text-align: right;\">\n      <th></th>\n      <th>m/z</th>\n      <th>time</th>\n      <th>Intens.</th>\n      <th>SN</th>\n      <th>Res.</th>\n      <th>Area</th>\n      <th>Rel. Intens.</th>\n      <th>FWHM</th>\n      <th>Bk. Peak</th>\n    </tr>\n  </thead>\n  <tbody>\n    <tr>\n      <th>0</th>\n      <td>2141.595860</td>\n      <td>46248.308185</td>\n      <td>1849.671417</td>\n      <td>5.023842</td>\n      <td>449.793188</td>\n      <td>13621.062834</td>\n      <td>0.084247</td>\n      <td>4.761290</td>\n      <td>0.0</td>\n    </tr>\n    <tr>\n      <th>1</th>\n      <td>2154.140758</td>\n      <td>46381.493984</td>\n      <td>1299.384644</td>\n      <td>3.529223</td>\n      <td>458.732871</td>\n      <td>9421.672911</td>\n      <td>0.059183</td>\n      <td>4.695850</td>\n      <td>0.0</td>\n    </tr>\n    <tr>\n      <th>2</th>\n      <td>2180.436755</td>\n      <td>46659.416149</td>\n      <td>1203.332001</td>\n      <td>3.317415</td>\n      <td>443.973316</td>\n      <td>9161.078120</td>\n      <td>0.054808</td>\n      <td>4.911189</td>\n      <td>0.0</td>\n    </tr>\n    <tr>\n      <th>3</th>\n      <td>2297.759326</td>\n      <td>47879.408034</td>\n      <td>1426.807159</td>\n      <td>3.967446</td>\n      <td>620.345018</td>\n      <td>9085.341876</td>\n      <td>0.064987</td>\n      <td>3.704002</td>\n      <td>0.0</td>\n    </tr>\n    <tr>\n      <th>4</th>\n      <td>2764.201381</td>\n      <td>52445.360112</td>\n      <td>1586.883118</td>\n      <td>4.470495</td>\n      <td>629.209920</td>\n      <td>12546.815080</td>\n      <td>0.072278</td>\n      <td>4.393131</td>\n      <td>0.0</td>\n    </tr>\n  </tbody>\n</table>\n</div>"
     },
     "execution_count": 265,
     "metadata": {},
     "output_type": "execute_result"
    }
   ],
   "source": [
    "example.head()"
   ]
  },
  {
   "cell_type": "code",
   "execution_count": 266,
   "id": "5720ea8b",
   "metadata": {
    "pycharm": {
     "name": "#%%\n"
    }
   },
   "outputs": [
    {
     "data": {
      "text/plain": "<Figure size 432x288 with 2 Axes>",
      "image/png": "[encoded data removed]"
     },
     "metadata": {},
     "output_type": "display_data"
    }
   ],
   "source": [
    "cor = example.corr()\n",
    "sns.heatmap(cor, annot=True, cmap=plt.cm.Reds)\n",
    "plt.show()"
   ]
  },
  {
   "cell_type": "code",
   "execution_count": 267,
   "id": "57e77b55",
   "metadata": {
    "pycharm": {
     "name": "#%%\n"
    }
   },
   "outputs": [],
   "source": [
    "## select uncorrelated features\n",
    "FEATURES = ['m/z', 'Rel. Intens.', 'Res.', 'FWHM']"
   ]
  },
  {
   "cell_type": "code",
   "execution_count": 268,
   "id": "f6ae6f45",
   "metadata": {
    "pycharm": {
     "name": "#%%\n"
    }
   },
   "outputs": [
    {
     "data": {
      "text/plain": "<Figure size 1440x288 with 4 Axes>",
      "image/png": "[encoded data removed]"
     },
     "metadata": {},
     "output_type": "display_data"
    }
   ],
   "source": [
    "fig, axs = plt.subplots(1,4, figsize=(20, 4))\n",
    "for features in FEATURES:\n",
    "    sns.histplot(example[features], ax = axs[FEATURES.index(features)])"
   ]
  },
  {
   "cell_type": "markdown",
   "id": "6ccfcd0b",
   "metadata": {
    "pycharm": {
     "name": "#%% md\n"
    }
   },
   "source": [
    "Посмотрим на масс-спектры для нескольих примеров"
   ]
  },
  {
   "cell_type": "code",
   "execution_count": 269,
   "id": "5fe34686",
   "metadata": {
    "pycharm": {
     "name": "#%%\n"
    }
   },
   "outputs": [],
   "source": [
    "def colors_from_values(values, palette_name):\n",
    "    values = np.array(values)\n",
    "    normalized = (values - min(values)) / (max(values) - min(values))\n",
    "    indices = np.round(normalized * (len(values) - 1)).astype(np.int32)\n",
    "    palette = sns.color_palette(palette_name, len(values))\n",
    "    return np.array(palette).take(indices, axis=0)"
   ]
  },
  {
   "cell_type": "code",
   "execution_count": 270,
   "id": "fb5914a0",
   "metadata": {
    "pycharm": {
     "name": "#%%\n"
    }
   },
   "outputs": [
    {
     "data": {
      "text/plain": "<Figure size 1440x1440 with 3 Axes>",
      "image/png": "[encoded data removed]"
     },
     "metadata": {},
     "output_type": "display_data"
    }
   ],
   "source": [
    "fig, axs = plt.subplots(3,1, figsize=(20,20))\n",
    "strain = \"Acinetobacter baumani_64\"\n",
    "i = 0\n",
    "for ids in [2,6,8]:\n",
    "    tmp = train_df.loc[(train_df.strain == strain)].iloc[ids]\n",
    "    mz = [np.round(x, 2) for x in tmp['m/z']]\n",
    "    ax =  axs[i]\n",
    "    sns.barplot(data = tmp, x=mz, y = 'Rel. Intens.', \n",
    "                palette=colors_from_values(tmp['Res.'], 'crest'),\n",
    "                ax = ax)\n",
    "    ax.set_xticklabels(ax.get_xticklabels(), rotation=90)\n",
    "    i=i+1"
   ]
  },
  {
   "cell_type": "markdown",
   "id": "70ecffa1",
   "metadata": {
    "pycharm": {
     "name": "#%% md\n"
    }
   },
   "source": [
    "Создаим спектры, которые удобно сравнитвать между собой в виде векторов в фиксированом диапазоне, и уберем необходимость использовать переменную \"m/z\"."
   ]
  },
  {
   "cell_type": "code",
   "execution_count": 271,
   "id": "c44c68ee",
   "metadata": {
    "pycharm": {
     "name": "#%%\n"
    }
   },
   "outputs": [
    {
     "data": {
      "text/plain": "(2040.804289776974, 17241.93492389016)"
     },
     "execution_count": 271,
     "metadata": {},
     "output_type": "execute_result"
    }
   ],
   "source": [
    "# орпеделим диапазон парамтеров\n",
    "min(train_df['m/z'].apply(min)), max(train_df['m/z'].apply(max))"
   ]
  },
  {
   "cell_type": "code",
   "execution_count": 272,
   "id": "bff807e6",
   "metadata": {
    "pycharm": {
     "name": "#%%\n"
    }
   },
   "outputs": [],
   "source": [
    "def create_speactr(mz, intens):\n",
    "    spec = []\n",
    "    for i in range(200, 1750):\n",
    "        if i in mz:\n",
    "            spec.append(intens[mz.index(i)])\n",
    "        else:\n",
    "            spec.append(0)\n",
    "    return spec"
   ]
  },
  {
   "cell_type": "code",
   "execution_count": 273,
   "id": "6399146f",
   "metadata": {
    "pycharm": {
     "name": "#%%\n"
    }
   },
   "outputs": [],
   "source": [
    "def prepocess_data(data):\n",
    "    data['mz'] = data['m/z'].apply(lambda x: [int(x_i // 10) for x_i in x])\n",
    "    data['intens'] = data.apply(lambda d: create_speactr(d['mz'], d['Rel. Intens.']),\n",
    "                           axis = 1)\n",
    "    return data"
   ]
  },
  {
   "cell_type": "code",
   "execution_count": 274,
   "id": "42b9fae4",
   "metadata": {
    "pycharm": {
     "name": "#%%\n"
    }
   },
   "outputs": [],
   "source": [
    "train_df = prepocess_data(train_df)"
   ]
  },
  {
   "cell_type": "markdown",
   "id": "b0380cc3",
   "metadata": {
    "pycharm": {
     "name": "#%% md\n"
    }
   },
   "source": [
    "Перемешаем данные, чтобы классы не шли по порядку"
   ]
  },
  {
   "cell_type": "code",
   "execution_count": 275,
   "id": "00cea8d4",
   "metadata": {
    "pycharm": {
     "name": "#%%\n"
    }
   },
   "outputs": [],
   "source": [
    "train_df = train_df.sample(frac=1).reset_index(drop=True)"
   ]
  },
  {
   "cell_type": "markdown",
   "id": "bba52e38",
   "metadata": {
    "pycharm": {
     "name": "#%% md\n"
    }
   },
   "source": [
    "# <center> Обучение моделей <center>"
   ]
  },
  {
   "cell_type": "markdown",
   "id": "19211f4b",
   "metadata": {
    "pycharm": {
     "name": "#%% md\n"
    }
   },
   "source": [
    "Разобьем выборку на валидационную и тренировочную так, чтобы хотя бы один пример из каждого класса присутствавал\n",
    "в валидаицонной выборке. После разбиения уберем два класса из тренировочный выборки, чтобы можно было определить их \n",
    "как 'new'."
   ]
  },
  {
   "cell_type": "markdown",
   "id": "735bcf6b",
   "metadata": {
    "pycharm": {
     "name": "#%% md\n"
    }
   },
   "source": [
    "_Note_:  рекомендуем рассмотреть разные вариатны разбиения на тренировочную и валидационную выборку для определения оптиматльных парпамтеров. "
   ]
  },
  {
   "cell_type": "code",
   "execution_count": 325,
   "id": "b1a65dca",
   "metadata": {
    "pycharm": {
     "name": "#%%\n"
    }
   },
   "outputs": [],
   "source": [
    "np.random.seed(142)\n",
    "val_ds = pd.DataFrame()\n",
    "train_ds = pd.DataFrame()\n",
    "for strain in train_df.strain.unique():\n",
    "    n = np.random.randint(1,4)\n",
    "    ids = random.sample(list(train_df.loc[train_df.strain == strain].index), n)\n",
    "    val_ds = pd.concat([val_ds, train_df.loc[ids]])\n",
    "    train_ids = list(set(train_df.loc[train_df.strain == strain].index) - set(ids))\n",
    "    train_ds = pd.concat([train_ds, train_df.loc[train_ids]])\n",
    "    "
   ]
  },
  {
   "cell_type": "code",
   "execution_count": 326,
   "id": "86c5717b",
   "metadata": {
    "pycharm": {
     "name": "#%%\n"
    }
   },
   "outputs": [
    {
     "data": {
      "text/plain": "((54, 13), (722, 13))"
     },
     "execution_count": 326,
     "metadata": {},
     "output_type": "execute_result"
    }
   ],
   "source": [
    "val_ds.shape, train_ds.shape"
   ]
  },
  {
   "cell_type": "code",
   "execution_count": 327,
   "id": "62503053",
   "metadata": {
    "pycharm": {
     "name": "#%%\n"
    }
   },
   "outputs": [
    {
     "data": {
      "text/plain": "['Acinetobacter baumani_64', 'Pseudomonas fluorescence_965']"
     },
     "execution_count": 327,
     "metadata": {},
     "output_type": "execute_result"
    }
   ],
   "source": [
    "random.seed(111)\n",
    "val_strain = random.sample(sorted(list(val_ds.strain.unique())), 2)\n",
    "val_strain"
   ]
  },
  {
   "cell_type": "code",
   "execution_count": 328,
   "id": "f025a0f5",
   "metadata": {
    "pycharm": {
     "name": "#%%\n"
    }
   },
   "outputs": [],
   "source": [
    "train_ds = train_ds[~train_ds.strain.isin(val_strain)]"
   ]
  },
  {
   "cell_type": "code",
   "execution_count": 329,
   "id": "3961d9f7",
   "metadata": {
    "pycharm": {
     "name": "#%%\n"
    }
   },
   "outputs": [],
   "source": [
    "val_ds.loc[:,'target'] = val_ds.strain\n",
    "val_ds.loc[val_ds.strain.isin(val_strain),'target'] = 'new'"
   ]
  },
  {
   "cell_type": "code",
   "execution_count": 330,
   "id": "74f3dde3",
   "metadata": {
    "pycharm": {
     "name": "#%%\n"
    }
   },
   "outputs": [],
   "source": [
    "val_ds = val_ds.sample(frac=1)\n",
    "train_ds = train_ds.sample(frac=1)"
   ]
  },
  {
   "cell_type": "code",
   "execution_count": 331,
   "id": "eca5461e",
   "metadata": {
    "pycharm": {
     "name": "#%%\n"
    }
   },
   "outputs": [],
   "source": [
    "def make_x(df, col):\n",
    "    X = []\n",
    "    for i in df.index:\n",
    "        row = df.loc[i,col]\n",
    "        X.append(row)\n",
    "    return np.array(X)"
   ]
  },
  {
   "cell_type": "markdown",
   "id": "4c55c0c3",
   "metadata": {
    "pycharm": {
     "name": "#%% md\n"
    }
   },
   "source": [
    "## Многоклассовый классификатор"
   ]
  },
  {
   "cell_type": "code",
   "execution_count": 353,
   "id": "c6b3c834",
   "metadata": {
    "pycharm": {
     "name": "#%%\n"
    }
   },
   "outputs": [],
   "source": [
    "X = make_x(train_ds, col='intens')\n",
    "y = np.array(train_ds['strain'])"
   ]
  },
  {
   "cell_type": "code",
   "execution_count": 354,
   "outputs": [],
   "source": [
    "from sklearn.ensemble import GradientBoostingClassifier"
   ],
   "metadata": {
    "collapsed": false,
    "pycharm": {
     "name": "#%%\n"
    }
   }
  },
  {
   "cell_type": "code",
   "execution_count": 355,
   "id": "f94a3ba8",
   "metadata": {
    "pycharm": {
     "name": "#%%\n"
    }
   },
   "outputs": [
    {
     "data": {
      "text/plain": "Pipeline(steps=[('standardscaler', StandardScaler()),\n                ('gradientboostingclassifier', GradientBoostingClassifier())])"
     },
     "execution_count": 355,
     "metadata": {},
     "output_type": "execute_result"
    }
   ],
   "source": [
    "model = GradientBoostingClassifier()\n",
    "clf = make_pipeline(StandardScaler(), model)\n",
    "clf.fit(X, y)"
   ]
  },
  {
   "cell_type": "markdown",
   "id": "b2d2d34e",
   "metadata": {
    "pycharm": {
     "name": "#%% md\n"
    }
   },
   "source": [
    "### проверяем качество модели на валидационной выборке"
   ]
  },
  {
   "cell_type": "code",
   "execution_count": 356,
   "id": "08e106cd",
   "metadata": {
    "pycharm": {
     "name": "#%%\n"
    }
   },
   "outputs": [],
   "source": [
    "X_pred = make_x(val_ds, col='intens')"
   ]
  },
  {
   "cell_type": "code",
   "execution_count": 357,
   "id": "5e72ff56",
   "metadata": {
    "pycharm": {
     "name": "#%%\n"
    }
   },
   "outputs": [],
   "source": [
    "val_ds.loc[:,'class_name'] = clf.predict(X_pred)\n",
    "val_ds.loc[:,'class_name_proba'] =  np.max(clf.predict_proba(np.array(X_pred)), axis = 1)"
   ]
  },
  {
   "cell_type": "code",
   "execution_count": 358,
   "id": "c816f2df",
   "metadata": {
    "pycharm": {
     "name": "#%%\n"
    }
   },
   "outputs": [
    {
     "data": {
      "text/plain": "0.8722857142857143"
     },
     "execution_count": 358,
     "metadata": {},
     "output_type": "execute_result"
    }
   ],
   "source": [
    "# посмотрим на качестов модели, то выделения новых классов\n",
    "f1_score(val_ds.class_name, val_ds.target, average='macro')"
   ]
  },
  {
   "cell_type": "markdown",
   "id": "a92a7034",
   "metadata": {
    "pycharm": {
     "name": "#%% md\n"
    }
   },
   "source": [
    "Новые классы будем орпеделять по вероятности определения класса"
   ]
  },
  {
   "cell_type": "code",
   "execution_count": 359,
   "id": "24b6224c",
   "metadata": {
    "pycharm": {
     "name": "#%%\n"
    }
   },
   "outputs": [
    {
     "data": {
      "text/plain": "(array([1., 0., 0., 0., 0., 0., 0., 0., 0., 4.]),\n array([0.41750223, 0.47575173, 0.53400122, 0.59225071, 0.6505002 ,\n        0.70874969, 0.76699918, 0.82524867, 0.88349817, 0.94174766,\n        0.99999715]),\n <BarContainer object of 10 artists>)"
     },
     "execution_count": 359,
     "metadata": {},
     "output_type": "execute_result"
    },
    {
     "data": {
      "text/plain": "<Figure size 432x288 with 1 Axes>",
      "image/png": "[encoded data removed]"
     },
     "metadata": {},
     "output_type": "display_data"
    }
   ],
   "source": [
    "plt.hist(val_ds.loc[val_ds.target != 'new'].class_name_proba)\n",
    "plt.hist(val_ds.loc[val_ds.target == 'new'].class_name_proba)"
   ]
  },
  {
   "cell_type": "code",
   "execution_count": 360,
   "id": "99d861b4",
   "metadata": {
    "pycharm": {
     "name": "#%%\n"
    }
   },
   "outputs": [],
   "source": [
    "val_ds.loc[val_ds.class_name_proba < 0.2,'class_name'] = 'new'"
   ]
  },
  {
   "cell_type": "code",
   "execution_count": 361,
   "id": "181d6f6b",
   "metadata": {
    "pycharm": {
     "name": "#%%\n"
    }
   },
   "outputs": [
    {
     "data": {
      "text/plain": "0.8722857142857143"
     },
     "execution_count": 361,
     "metadata": {},
     "output_type": "execute_result"
    }
   ],
   "source": [
    "f1_score(val_ds.class_name, val_ds.target, average='macro')"
   ]
  },
  {
   "cell_type": "markdown",
   "id": "a02f06c0",
   "metadata": {
    "pycharm": {
     "name": "#%% md\n"
    }
   },
   "source": [
    "Как мы видим, после добавления метки 'new' значение метрики возрасло"
   ]
  },
  {
   "cell_type": "markdown",
   "id": "e3fb9f05",
   "metadata": {
    "pycharm": {
     "name": "#%% md\n"
    }
   },
   "source": [
    "### сохранение модели"
   ]
  },
  {
   "cell_type": "markdown",
   "id": "e23553da",
   "metadata": {
    "pycharm": {
     "name": "#%% md\n"
    }
   },
   "source": [
    "переобучим модель на всей тренировочной выборке, так как мы исключали классы для валидации"
   ]
  },
  {
   "cell_type": "code",
   "execution_count": 145,
   "id": "0befa0d4",
   "metadata": {
    "pycharm": {
     "name": "#%%\n"
    }
   },
   "outputs": [
    {
     "data": {
      "text/plain": "Pipeline(steps=[('standardscaler', StandardScaler()),\n                ('gradientboostingclassifier', GradientBoostingClassifier())])"
     },
     "execution_count": 145,
     "metadata": {},
     "output_type": "execute_result"
    }
   ],
   "source": [
    "X = make_x(train_df, col='intens')\n",
    "y = np.array(train_df['strain'])\n",
    "model = GradientBoostingClassifier()\n",
    "clf = make_pipeline(StandardScaler(), model)\n",
    "clf.fit(X, y)"
   ]
  },
  {
   "cell_type": "code",
   "execution_count": 147,
   "id": "254d16d4",
   "metadata": {
    "pycharm": {
     "name": "#%%\n"
    }
   },
   "outputs": [],
   "source": [
    "swmPickle = open('models/matveyspiridonov/baseline_GradientBoostingClassifier.pkl', 'wb')\n",
    "pickle.dump(clf, swmPickle)   "
   ]
  },
  {
   "cell_type": "markdown",
   "id": "ede60c41",
   "metadata": {
    "pycharm": {
     "name": "#%% md\n"
    }
   },
   "source": [
    "## Набор бинарных классификатров для каждого тарегта"
   ]
  },
  {
   "cell_type": "code",
   "execution_count": 569,
   "id": "732afa40",
   "metadata": {
    "pycharm": {
     "name": "#%%\n"
    }
   },
   "outputs": [],
   "source": [
    "X = make_x(train_ds, col='intens')\n",
    "X_pred = make_x(val_ds, col='intens')"
   ]
  },
  {
   "cell_type": "code",
   "execution_count": 570,
   "id": "6c181b15",
   "metadata": {
    "pycharm": {
     "name": "#%%\n"
    }
   },
   "outputs": [],
   "source": [
    "# делаем бинарных тарегет для каждого класса\n",
    "Y = []\n",
    "for strain in train_ds.strain.unique():\n",
    "    Y.append(np.array(train_ds.strain == strain))"
   ]
  },
  {
   "cell_type": "code",
   "execution_count": 571,
   "id": "082f8cd7",
   "metadata": {
    "pycharm": {
     "name": "#%%\n"
    }
   },
   "outputs": [],
   "source": [
    "# сохраняем порядок классов\n",
    "class_order = train_ds.strain.unique()"
   ]
  },
  {
   "cell_type": "markdown",
   "id": "9447cd06",
   "metadata": {
    "pycharm": {
     "name": "#%% md\n"
    }
   },
   "source": [
    "так как негативных примеров для каждого таргета в разы больше положительных, оставим в выборке только примеры в соотношении 3:1 (негативные:положительные)"
   ]
  },
  {
   "cell_type": "code",
   "execution_count": 572,
   "id": "d1c750fd",
   "metadata": {
    "pycharm": {
     "name": "#%%\n"
    }
   },
   "outputs": [],
   "source": [
    "res = []\n",
    "for i,y in enumerate(Y):\n",
    "    idx_pos = np.where(y ==True)[0]\n",
    "    idx_neg = np.where(y == False)[0]\n",
    "    random.shuffle(idx_neg)\n",
    "    idx = sorted(np.concatenate((idx_pos,idx_neg[:3*len(idx_pos)])))\n",
    "    \n",
    "    model = RandomForestClassifier()\n",
    "    clf = make_pipeline(StandardScaler(), model)\n",
    "    clf.fit(X[idx,:], y[idx])\n",
    "    res.append(clf.predict_proba(X_pred)[:,1])"
   ]
  },
  {
   "cell_type": "markdown",
   "id": "79794141",
   "metadata": {
    "pycharm": {
     "name": "#%% md\n"
    }
   },
   "source": [
    "### проверяем качество модели на валидационной выборке"
   ]
  },
  {
   "cell_type": "code",
   "execution_count": 573,
   "id": "4e92972f",
   "metadata": {
    "pycharm": {
     "name": "#%%\n"
    }
   },
   "outputs": [],
   "source": [
    "res = np.array(res).T"
   ]
  },
  {
   "cell_type": "code",
   "execution_count": 574,
   "id": "3288967f",
   "metadata": {
    "pycharm": {
     "name": "#%%\n"
    }
   },
   "outputs": [
    {
     "name": "stdout",
     "output_type": "stream",
     "text": [
      "['Staphilococcus aureus_K160' 'Acinetobacter baumani_126'\n",
      " 'Acinetobacter baumani_74' 'Staphilococcus aureus_6 1006'\n",
      " 'Acinetobacter baumani_352 blood' 'Acinetobacter baumani_121 skin'\n",
      " 'Staphilococcus aureus_11 K817' 'Staphilococcus aureus_3 1027'\n",
      " 'Staphilococcus aureus_1027 q' 'Staphilococcus aureus_4 948'\n",
      " 'Staphilococcus aureus_12 K457' 'Staphilococcus aureus_9 963'\n",
      " 'Acinetobacter baumani_377 blood' 'Staphilococcus aureus_7 941'\n",
      " 'Staphilococcus aureus_8 942' 'Acinetobacter baumani_73'\n",
      " 'Acinetobacter baumani_63' 'Pseudomonas aeruginosa_XXX'\n",
      " 'Staphilococcus aureus_19 MRSA' 'Acinetobacter baumani_503 blood'\n",
      " 'Staphilococcus aureus_1 949' 'Staphilococcus aureus_16'\n",
      " 'Pseudomonas spp_467' 'Staphilococcus aureus_15']\n"
     ]
    }
   ],
   "source": [
    "# выбираем класс с наибльшей вероятностью или ставим 0, если веротяность меньше 0.5\n",
    "class_name = []\n",
    "for res_i in res:\n",
    "    if max(res_i) > 0.5:\n",
    "        class_name.append(class_order[np.where(res_i == max(res_i))[0][0]])\n",
    "    else:\n",
    "        class_name.append('new')"
   ]
  },
  {
   "cell_type": "code",
   "execution_count": 575,
   "id": "e4c3715a",
   "metadata": {
    "pycharm": {
     "name": "#%%\n"
    }
   },
   "outputs": [],
   "source": [
    "val_ds.loc[:,'class_name'] = class_name"
   ]
  },
  {
   "cell_type": "code",
   "execution_count": 576,
   "id": "d0173335",
   "metadata": {
    "pycharm": {
     "name": "#%%\n"
    }
   },
   "outputs": [
    {
     "data": {
      "text/plain": "0.9588571428571429"
     },
     "execution_count": 576,
     "metadata": {},
     "output_type": "execute_result"
    }
   ],
   "source": [
    "f1_score(val_ds.class_name, val_ds.target, average='macro')"
   ]
  },
  {
   "cell_type": "markdown",
   "id": "df3f5c89",
   "metadata": {
    "pycharm": {
     "name": "#%% md\n"
    }
   },
   "source": [
    "Данная модель показала самое высокое значение метрики, поэтому берем ее как бейзлайн для данной задачи."
   ]
  },
  {
   "cell_type": "markdown",
   "id": "fc0e4573",
   "metadata": {
    "pycharm": {
     "name": "#%% md\n"
    }
   },
   "source": [
    "### сохраняем модели"
   ]
  },
  {
   "cell_type": "code",
   "execution_count": 577,
   "id": "4e97756f",
   "metadata": {
    "pycharm": {
     "name": "#%%\n"
    }
   },
   "outputs": [],
   "source": [
    "# переобучаем на полной выборке\n",
    "res = []\n",
    "for i,y in enumerate(Y):\n",
    "    idx_pos = np.where(y ==True)[0]\n",
    "    idx_neg = np.where(y == False)[0]\n",
    "    random.shuffle(idx_neg)\n",
    "    idx = sorted(np.concatenate((idx_pos,idx_neg[:3*len(idx_pos)])))\n",
    "    \n",
    "    model = RandomForestClassifier()\n",
    "    clf = make_pipeline(StandardScaler(), model)\n",
    "    clf.fit(X[idx,:], y[idx])\n",
    "    # save model\n",
    "    strain = class_order[i]\n",
    "    pickle.dump(clf, open(f'models/matveyspiridonov/randomForest_clf_{strain}.pkl', 'wb'))"
   ]
  },
  {
   "cell_type": "markdown",
   "id": "2fdc8225",
   "metadata": {
    "pycharm": {
     "name": "#%% md\n"
    }
   },
   "source": [
    "# <center> Формат решения <center>"
   ]
  },
  {
   "cell_type": "markdown",
   "id": "65eb750d",
   "metadata": {
    "pycharm": {
     "name": "#%% md\n"
    }
   },
   "source": [
    "В проверяющую систему необходимо отправить код алгоритма, запакованный в ZIP-архив. Архив должен содержать следующие файлы: \n",
    " * solution.py -- файл с кодом запуска решения\n",
    " * models/ -- директория, где хранятся обученные модели\n",
    " * requiremnts.txt -- необходимые библиотеки для запуска решения\n",
    " * \\*.py -- вспомогательные модули\n",
    " * metadata.json  -- обязательный файл для запуска докера, который содержит название docker image и команду для расчета предсказаний (см. описание задачи)\n",
    " \n",
    "Решение должно быть реализовано в виде программы, которая на вход принимает файл `test.xlsx` и на выходе выдает CSV таблицу (`results.csv`). Файл `results.csv` должен в обязательном порядке содержать поле `class_name`  -- предсказанный класс (название штамма бактерии или метка 'new')"
   ]
  },
  {
   "cell_type": "code",
   "execution_count": null,
   "id": "e8efaac0",
   "metadata": {
    "pycharm": {
     "name": "#%%\n"
    }
   },
   "outputs": [],
   "source": []
  }
 ],
 "metadata": {
  "kernelspec": {
   "display_name": "Python 3 (ipykernel)",
   "language": "python",
   "name": "python3"
  },
  "language_info": {
   "codemirror_mode": {
    "name": "ipython",
    "version": 3
   },
   "file_extension": ".py",
   "mimetype": "text/x-python",
   "name": "python",
   "nbconvert_exporter": "python",
   "pygments_lexer": "ipython3",
   "version": "3.8.0"
  }
 },
 "nbformat": 4,
 "nbformat_minor": 5
}